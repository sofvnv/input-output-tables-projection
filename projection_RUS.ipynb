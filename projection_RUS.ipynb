{
 "cells": [
  {
   "cell_type": "code",
   "execution_count": 265,
   "metadata": {
    "pycharm": {
     "is_executing": false,
     "name": "#%%\n"
    }
   },
   "outputs": [],
   "source": [
    "from scripts import support, metrics, vectorization as v, aggregation\n",
    "from scripts.kuroda import kuroda\n",
    "from scripts.insd import insd\n",
    "from scripts.nras import nras\n",
    "import numpy as np\n",
    "import pandas as pd\n",
    "import matplotlib.pyplot as plt\n",
    "import sys\n",
    "import gurobipy as gr\n",
    "from scipy.sparse import csr_matrix\n",
    "%matplotlib inline"
   ]
  },
  {
   "cell_type": "code",
   "execution_count": 266,
   "metadata": {},
   "outputs": [
    {
     "name": "stdout",
     "output_type": "stream",
     "text": [
      "Requirement already up-to-date: pandas==1.0.0rc0 in c:\\users\\maksim komatovskiy\\anaconda3\\lib\\site-packages (1.0.0rc0)\n",
      "Requirement already satisfied, skipping upgrade: numpy>=1.13.3 in c:\\users\\maksim komatovskiy\\anaconda3\\lib\\site-packages (from pandas==1.0.0rc0) (1.18.1)\n",
      "Requirement already satisfied, skipping upgrade: python-dateutil>=2.6.1 in c:\\users\\maksim komatovskiy\\anaconda3\\lib\\site-packages (from pandas==1.0.0rc0) (2.8.1)\n",
      "Requirement already satisfied, skipping upgrade: pytz>=2017.2 in c:\\users\\maksim komatovskiy\\anaconda3\\lib\\site-packages (from pandas==1.0.0rc0) (2019.3)\n",
      "Requirement already satisfied, skipping upgrade: six>=1.5 in c:\\users\\maksim komatovskiy\\anaconda3\\lib\\site-packages (from python-dateutil>=2.6.1->pandas==1.0.0rc0) (1.14.0)\n"
     ]
    }
   ],
   "source": [
    "!pip install --upgrade pandas==1.0.0rc0"
   ]
  },
  {
   "cell_type": "code",
   "execution_count": 267,
   "metadata": {},
   "outputs": [],
   "source": [
    "#!conda install gurobi"
   ]
  },
  {
   "cell_type": "markdown",
   "metadata": {},
   "source": [
    "# 1. Таблицы ресурсов"
   ]
  },
  {
   "cell_type": "markdown",
   "metadata": {},
   "source": [
    "## 1.1. Препроцессинг (с агрегированием)"
   ]
  },
  {
   "cell_type": "markdown",
   "metadata": {},
   "source": [
    "### Таблица ресурсов за 2011 год"
   ]
  },
  {
   "cell_type": "markdown",
   "metadata": {},
   "source": [
    "Загружаем базовую таблицу ресурсов за 2011 год."
   ]
  },
  {
   "cell_type": "code",
   "execution_count": 268,
   "metadata": {},
   "outputs": [
    {
     "name": "stdout",
     "output_type": "stream",
     "text": [
      "Размер базовой таблицы ресурсов за 2011 год:  (248, 178)\n"
     ]
    }
   ],
   "source": [
    "# Базовая таблица РЕСУРСОВ за 2011\n",
    "\n",
    "df = pd.read_excel(\"./data/baz2011.xlsx\", \"ТР\")\n",
    "df = df.iloc[1:-3,3:-7]\n",
    "df = df.fillna(0)\n",
    "\n",
    "supply2011_codes = df.drop(df.index[[1]], axis=0) # таблица 2011 года с кодами\n",
    "supply2011 = df.drop(df.index[[0,1]], axis=0) # таблица 2011 года без кодов\n",
    "\n",
    "print('Размер базовой таблицы ресурсов за 2011 год: ', supply2011.shape)"
   ]
  },
  {
   "cell_type": "markdown",
   "metadata": {},
   "source": [
    "##### __Агрегирование по отраслям (столбцы)__"
   ]
  },
  {
   "cell_type": "markdown",
   "metadata": {},
   "source": [
    "Поскольку степени агрегации для 2011 и 2016 годов различны, сделаем единую систему: будем объединять все отрасли с одинаковым начальным номером (проверяем первые две цифры), суммируя внутренние значения. "
   ]
  },
  {
   "cell_type": "code",
   "execution_count": 269,
   "metadata": {},
   "outputs": [],
   "source": [
    "# В строке с кодами оставим только первые два символа - по ним и будем объединять\n",
    "\n",
    "for i in range(178):\n",
    "    a = str(supply2011_codes.loc[1][i])\n",
    "    a = a[:2]\n",
    "    supply2011_codes.loc[1][i] = a\n",
    "    \n",
    "supply2011_codes.columns = supply2011_codes.iloc[0] # сделали преобразованную строку с кодами -- заголовками\n",
    "supply2011_codes = supply2011_codes.drop(supply2011_codes.index[0]) # избавились от отдельной строки с кодами\n",
    "\n",
    "supply2011_codes = supply2011_codes.groupby(supply2011_codes.columns, axis=1).sum() # объединили данные в таблице по одинаковым столбцам\n",
    "                                                                              # (внутри суммируем)"
   ]
  },
  {
   "cell_type": "markdown",
   "metadata": {},
   "source": [
    "##### __Агрегирование по продуктам (строки)__"
   ]
  },
  {
   "cell_type": "code",
   "execution_count": 270,
   "metadata": {},
   "outputs": [],
   "source": [
    "# Создаем функцию, которая будет отрезать первые две цифры кода продукта\n",
    "\n",
    "def splitter(x):    \n",
    "    a = str(x)\n",
    "    a=a[:2]\n",
    "    return a\n",
    "\n",
    "df = pd.read_excel(\"./data/baz2011.xlsx\", \"ТР\") # считали столбец с кодами\n",
    "df = df.iloc[3:-3,1:2]\n",
    "df = df.fillna(0)\n",
    "supply2011_codes['codes_prod'] = df\n",
    "\n",
    "supply2011_codes['codes_prod'] = supply2011_codes['codes_prod'].apply(lambda x: splitter(x))  # преобразовали все коды до двух цифр\n",
    "supply2011_codes = supply2011_codes.groupby(supply2011_codes['codes_prod']).sum() # сгруппировали"
   ]
  },
  {
   "cell_type": "markdown",
   "metadata": {},
   "source": [
    "##### __Векторизация__"
   ]
  },
  {
   "cell_type": "code",
   "execution_count": 271,
   "metadata": {},
   "outputs": [],
   "source": [
    "agg_supply2011 = supply2011_codes # теперь agg_supply2011 - агрегированная версия таблицы за 2011 год\n",
    "\n",
    "agg_supply2011_arr = np.array(supply2011_codes)\n",
    "agg_supply2011_vec = v.tovector(agg_supply2011_arr).astype(float)"
   ]
  },
  {
   "cell_type": "markdown",
   "metadata": {},
   "source": [
    "### Таблица ресурсов за 2016 год"
   ]
  },
  {
   "cell_type": "code",
   "execution_count": 272,
   "metadata": {},
   "outputs": [
    {
     "name": "stdout",
     "output_type": "stream",
     "text": [
      "Размер базовой таблицы ресурсов за 2011 год:  (206, 98)\n"
     ]
    }
   ],
   "source": [
    "# базовая таблица РЕСУРСОВ за 2016\n",
    "\n",
    "df = pd.read_excel(\"./data/baz2016.xlsx\", \"ТР \")\n",
    "df = df.iloc[1:-3,3:-7]\n",
    "df = df.fillna(0)\n",
    "\n",
    "supply2016_codes = df.drop(df.index[[1]], axis=0) # таблица 2011 года с кодами\n",
    "supply2016 = df.drop(df.index[[0,1]], axis=0) # таблица 2011 года без кодов\n",
    "\n",
    "show_supply2016_codes = supply2016_codes # сохранили, чтобы была возможность в любой момент посмотреть таблицу\n",
    "show_supply2016 = supply2016\n",
    "\n",
    "print('Размер базовой таблицы ресурсов за 2011 год: ', supply2016.shape)\n",
    "\n",
    "supply2016 = np.array(df.drop(df.index[[0,1]], axis=0))\n",
    "supply2016 = v.tovector(supply2016).astype(float) # векторизовали"
   ]
  },
  {
   "cell_type": "markdown",
   "metadata": {},
   "source": [
    "##### __Агрегирование по отраслям (столбцы)__"
   ]
  },
  {
   "cell_type": "code",
   "execution_count": 273,
   "metadata": {},
   "outputs": [],
   "source": [
    "for i in range(98):\n",
    "    a = str(supply2016_codes.loc[1][i])\n",
    "    a = a[:2]\n",
    "    supply2016_codes.loc[1][i] = a\n",
    "    \n",
    "supply2016_codes.columns = supply2016_codes.iloc[0] # сделали преобразованную строку с кодами -- заголовками\n",
    "supply2016_codes = supply2016_codes.drop(supply2016_codes.index[0]) # избавились от отдельной строки с кодами\n",
    "\n",
    "supply2016_codes = supply2016_codes.groupby(supply2016_codes.columns, axis=1).sum() # объединили данные в таблице по одинаковым столбцам\n",
    "                                                                              # (внутри суммируем)"
   ]
  },
  {
   "cell_type": "markdown",
   "metadata": {},
   "source": [
    "##### __Агрегирование по продуктам (строки)__"
   ]
  },
  {
   "cell_type": "code",
   "execution_count": 274,
   "metadata": {},
   "outputs": [],
   "source": [
    "df = pd.read_excel(\"./data/baz2016.xlsx\", \"ТР \") # считали столбец с кодами\n",
    "df = df.iloc[3:-3,1:2]\n",
    "df = df.fillna(0)\n",
    "supply2016_codes['codes_prod'] = df\n",
    "\n",
    "supply2016_codes['codes_prod'] = supply2016_codes['codes_prod'].apply(lambda x: splitter(x))  # преобразовали все коды до двух цифр\n",
    "supply2016_codes = supply2016_codes.groupby(supply2016_codes['codes_prod']).sum() # сгруппировали"
   ]
  },
  {
   "cell_type": "markdown",
   "metadata": {},
   "source": [
    "##### __Векторизация__"
   ]
  },
  {
   "cell_type": "code",
   "execution_count": 275,
   "metadata": {},
   "outputs": [],
   "source": [
    "agg_supply2016 = supply2016_codes\n",
    "\n",
    "agg_supply2016_arr = np.array(supply2016_codes)\n",
    "agg_supply2016_vec = v.tovector(agg_supply2016_arr).astype(float)"
   ]
  },
  {
   "cell_type": "markdown",
   "metadata": {},
   "source": [
    "#### Проверка:\n",
    "Считаем файл с готовой агрегацией (`aggregated2011.xls`) и сверим нашу агрегацию с готовой."
   ]
  },
  {
   "cell_type": "code",
   "execution_count": 276,
   "metadata": {},
   "outputs": [],
   "source": [
    "df = pd.read_excel(\"./data/aggregated2011.xls\", \"ТР\")\n",
    "df = df.iloc[3:-3,3:-6]\n",
    "df = df.fillna(0)\n",
    "\n",
    "new_2011 = df"
   ]
  },
  {
   "cell_type": "code",
   "execution_count": 277,
   "metadata": {},
   "outputs": [
    {
     "data": {
      "text/plain": [
       "0.0"
      ]
     },
     "execution_count": 277,
     "metadata": {},
     "output_type": "execute_result"
    }
   ],
   "source": [
    "((np.array(agg_supply2011)-np.array(new_2011))**2).sum()"
   ]
  },
  {
   "cell_type": "markdown",
   "metadata": {},
   "source": [
    "#### Подготовим таблицы к проекции"
   ]
  },
  {
   "cell_type": "code",
   "execution_count": 278,
   "metadata": {},
   "outputs": [],
   "source": [
    "# Занулим элементы, в которых меняется знак\n",
    "\n",
    "agg_supply2011[agg_supply2011 * agg_supply2016 < 0] = 0\n",
    "agg_supply2016[agg_supply2011 * agg_supply2016 < 0] = 0"
   ]
  },
  {
   "cell_type": "code",
   "execution_count": 279,
   "metadata": {},
   "outputs": [],
   "source": [
    "# Считаем суммы по строкам и столбцам\n",
    "\n",
    "# Для 2011 года:\n",
    "rows_sums_agg_supply2011 = np.sum(agg_supply2011, axis=1)\n",
    "columns_sums_agg_supply2011 = np.sum(agg_supply2011, axis=0)\n",
    "totals_agg_supply2011 = np.concatenate((rows_sums_agg_supply2011, columns_sums_agg_supply2011)).astype(float)[np.newaxis].T\n",
    "\n",
    "# Для 2016 года:\n",
    "rows_sums_agg_supply2016 = np.sum(agg_supply2016, axis=1)\n",
    "columns_sums_agg_supply2016 = np.sum(agg_supply2016, axis=0)\n",
    "totals_agg_supply2016 = np.concatenate((rows_sums_agg_supply2016, columns_sums_agg_supply2016)).astype(float)[np.newaxis].T"
   ]
  },
  {
   "cell_type": "markdown",
   "metadata": {},
   "source": [
    "### SVD"
   ]
  },
  {
   "cell_type": "markdown",
   "metadata": {},
   "source": [
    "## 1.2. Проекция"
   ]
  },
  {
   "cell_type": "code",
   "execution_count": 280,
   "metadata": {},
   "outputs": [],
   "source": [
    "# from scripts import support, metrics, vectorization as v, aggregation\n",
    "\n",
    "def projection(method_name, bench_matrix, constraints, target_matrix, sparsed = True, save = True, totals = False):\n",
    "    \"\"\"\n",
    "    Получение результата эксперимента\n",
    "\n",
    "    Parameters\n",
    "    ----------\n",
    "    tables_kind: string\n",
    "        степень аггрегации таблиц\n",
    "    method_name: string\n",
    "        метод для получения новой матрицы\n",
    "    bench_matrix: np.array или sparse матрица\n",
    "        бенчмарк таблица\n",
    "    constraints: np.array или sparse матрица\n",
    "        матрица ограничений\n",
    "    target_matrix: np.array или sparse матрица\n",
    "        целевая таблица\n",
    "    experiment_type: string\n",
    "        агрегация\\дезаггрегация\\проекция\n",
    "    sparse: bool\n",
    "        использовать sparse матрицу или np.array\n",
    "    Returns\n",
    "    -------\n",
    "    a: float\n",
    "        значение метрики\n",
    "    \"\"\"\n",
    "    \n",
    "    m = 59\n",
    "    n = 59\n",
    "    table_size = (m, n)    \n",
    "\n",
    "    ttls = v.addrows((m,n))\n",
    "    g = v.addcolumns((m,n), ttls)      \n",
    "    \n",
    "    if sparsed:\n",
    "        g = csr_matrix(g)\n",
    "\n",
    "    if totals:\n",
    "        g_w_totals = v.addrows((m,n), G, sparsed=sparsed)\n",
    "        g_w_totals = v.addcolumns((m,n), g_w_totals, sparsed=sparsed)\n",
    "\n",
    "    if method_name in ['kuroda_1', 'kuroda_2', 'kuroda_3']:\n",
    "        method, kuroda_type = method_name.split('_')\n",
    "        method = eval(method)\n",
    "        results = np.round(method(g, eval(bench_matrix), eval(constraints), mtype=int(kuroda_type), sparsed=sparsed))\n",
    "\n",
    "    else:\n",
    "        method = eval(method_name)\n",
    "        results = method(g, eval(bench_matrix), eval(constraints), sparsed=sparsed)\n",
    "\n",
    "    metrics_values = metrics.get_values(np.round(results), eval(target_matrix), save=True)\n",
    "    \n",
    "    # Save metrics' results\n",
    "    if save:\n",
    "        info = {'method':method_name, 'target_matrix':target_matrix, \n",
    "                'constraints':constraints, 'bench_matrix':bench_matrix}\n",
    "        info = {**info,**metrics_values}\n",
    "\n",
    "        res_table = pd.read_excel('results/results.xlsx')\n",
    "        res_table = res_table.append([info])\n",
    "        res_table.to_excel('results/results.xlsx', index=None,encoding='utf-8')\n",
    "\n",
    "    return metrics_values, g\n",
    "\n",
    "def projection_for_all_methods(bench_matrix, constraints, target_matrix, totals = False):\n",
    "    methods_list = ['nras','insd','kuroda_3','kuroda_2','kuroda_1']\n",
    "    sparsed = True\n",
    "    for i, method in enumerate(methods_list):\n",
    "        print('Method:', method)\n",
    "        if i > 2:\n",
    "            sparsed = False\n",
    "        projection(method, bench_matrix, constraints, target_matrix, sparsed = sparsed, totals = totals)\n",
    "            "
   ]
  },
  {
   "cell_type": "markdown",
   "metadata": {},
   "source": [
    "### Реализация метода GRAS c ограничениями по строкам и столбцам (вычисления не векторизованы, в данном случае быстрее)"
   ]
  },
  {
   "cell_type": "code",
   "execution_count": 281,
   "metadata": {},
   "outputs": [],
   "source": [
    "import logging\n",
    "import traceback\n",
    "import numpy as np  \n",
    "import pandas as pd"
   ]
  },
  {
   "cell_type": "code",
   "execution_count": 282,
   "metadata": {},
   "outputs": [],
   "source": [
    "A = agg_supply2011_vec.reshape(59,59)\n",
    "X = agg_supply2016_vec.reshape(59,59)"
   ]
  },
  {
   "cell_type": "code",
   "execution_count": 283,
   "metadata": {},
   "outputs": [],
   "source": [
    "AA = pd.DataFrame(A)\n",
    "AA.to_csv('supply_2011.csv')\n",
    "XX = pd.DataFrame(X)\n",
    "XX.to_csv('supply_2016.csv')"
   ]
  },
  {
   "cell_type": "markdown",
   "metadata": {},
   "source": [
    "Реализуем функцию качества, основанную на расстоянии Кульбака-Лейблера:\n",
    "\n",
    "$$ \\min\\limits_{z_{ij}} \\sum\\limits_{i,j} |a_{ij}| z_{ij}log(\\frac{z_{ij}}{e})}$$"
   ]
  },
  {
   "cell_type": "code",
   "execution_count": 284,
   "metadata": {},
   "outputs": [],
   "source": [
    "def quality_function(X,A):\n",
    "    \n",
    "    '''\n",
    "    X - np.ndarray matrix - матрица, которую проверяем на близость с А\n",
    "    \n",
    "    A - np.ndarray matrix - базовая матрица\n",
    "    '''  \n",
    "    abs_A = np.abs(A)\n",
    "    Z = X/A\n",
    "    ln = np.log(Z/np.exp(1))\n",
    "    M = abs_A*Z*ln\n",
    "    M = np.sum(M)\n",
    "    return M"
   ]
  },
  {
   "cell_type": "code",
   "execution_count": 285,
   "metadata": {},
   "outputs": [],
   "source": [
    "def P_N_masks(A):\n",
    "    \n",
    "    '''\n",
    "    Раскладывает матрицу А на разность двух матриц: с положительными элементами и модулем отрицательных\n",
    "    '''\n",
    "    P_mask = [A>=0]\n",
    "    P_mask = np.array(P_mask)[0]\n",
    "    P_mask = P_mask.astype(float)\n",
    "    \n",
    "    N_mask = [A<0]\n",
    "    N_mask = np.array(N_mask)[0]\n",
    "    N_mask = N_mask.astype(float)\n",
    "    \n",
    "    return P_mask, N_mask\n",
    "\n",
    "def split_A_to_PN(A):\n",
    "    \n",
    "    '''\n",
    "    Выдает две матрицы - с положительными элементами и модулями отрицательных \n",
    "    \n",
    "    '''\n",
    "    \n",
    "    P = P_N_masks(A)[0] * A\n",
    "    N = np.abs(P_N_masks(A)[1] * A)\n",
    "    \n",
    "    return P,N   "
   ]
  },
  {
   "cell_type": "code",
   "execution_count": 286,
   "metadata": {},
   "outputs": [],
   "source": [
    "P = split_A_to_PN(A)[0]\n",
    "N = P = split_A_to_PN(A)[1]"
   ]
  },
  {
   "cell_type": "code",
   "execution_count": 287,
   "metadata": {},
   "outputs": [],
   "source": [
    "'''\n",
    "Научимся выводит векторы ограничений на строки и столбцы. Вообще они будут заданы, но вдруг\n",
    "\n",
    "'''\n",
    "\n",
    "def define_u_vector(X):\n",
    "    u = []\n",
    "    for rows in X:\n",
    "        u.append(np.sum(rows))\n",
    "    return(np.array(u))\n",
    "\n",
    "\n",
    "    \n",
    "def define_v_vector(X):\n",
    "    X = np.array(pd.DataFrame(X).T)\n",
    "    v = []\n",
    "    for rows in X:\n",
    "        v.append(np.sum(rows))\n",
    "    return(np.array(v))\n",
    "\n"
   ]
  },
  {
   "cell_type": "code",
   "execution_count": 288,
   "metadata": {},
   "outputs": [],
   "source": [
    "u = define_u_vector(X)\n",
    "v = define_v_vector(X)"
   ]
  },
  {
   "cell_type": "markdown",
   "metadata": {},
   "source": [
    "### Итерации\n",
    "\n",
    "В начале полагаем вектор r(0) равным единичному (т.е. левое преобразование - тривиальное отображение в себя).\n",
    "\n",
    "Затем используем решение Темуршоева чтобы итеративно вычислить все элементы корректировочной матрицы для строк (правое преобразование):\n",
    "\n",
    "$$ \\begin{cases}\n",
    "s_j = \\dfrac{v_j + \\sqrt{v^2_j + 4 p_j(r)n_j(r)}}{2p_j(r)}\\\\\n",
    "p_j(r) = \\sum\\limits_{i}r_ip_{ij}\\\\\n",
    "n_j(r) = \\sum\\limits_i \\dfrac{n_{ij}}{r_i}\n",
    "\\end{cases}$$\n",
    "\n",
    "\n",
    "\n"
   ]
  },
  {
   "cell_type": "code",
   "execution_count": 289,
   "metadata": {},
   "outputs": [],
   "source": [
    "r = np.ones(A.shape[0]) # создали единичный вектор\n",
    "\n",
    "\n",
    "def count_p_ij(r,P):\n",
    "    res =(r.reshape(1,-1))@P\n",
    "    return np.sum(res, axis = 0)\n",
    "\n",
    "def count_n_ij(r,N):\n",
    "    r = 1/r\n",
    "    res = (r.reshape(1,-1))@N\n",
    "    return np.sum(res, axis = 0)\n",
    "\n",
    "#print(count_p_ij(r,P))\n",
    "#print(count_n_ij(r,N))"
   ]
  },
  {
   "cell_type": "markdown",
   "metadata": {},
   "source": [
    "Дело за малым, осталось по первой формуле из системы вычислить элементы $s_j$ (решение квадратного уравнения):"
   ]
  },
  {
   "cell_type": "code",
   "execution_count": 290,
   "metadata": {},
   "outputs": [],
   "source": [
    "'''\n",
    "Вектора u и v на данный момент полагаются известными (да, мы их знаем, либо экзогенно, либо из истинной матрицы X)\n",
    "'''\n",
    "\n",
    "\n",
    "def count_s_j(r,P,N,v):\n",
    "    p = count_p_ij(r,P)\n",
    "    n = count_n_ij(r,N)\n",
    "    \n",
    "    sqr = np.sqrt(v**2 + 4*p*n)\n",
    "    s = (v + sqr)/(2*p)\n",
    "    return s"
   ]
  },
  {
   "cell_type": "code",
   "execution_count": 291,
   "metadata": {},
   "outputs": [],
   "source": [
    "s = count_s_j(r,P,N,v) # работает, осталось верно все это дело расположить"
   ]
  },
  {
   "cell_type": "markdown",
   "metadata": {},
   "source": [
    "### Обратная итерация\n",
    "\n",
    "Теперь полагаем известным некоторый вектор $s$ и организуем пересчет вектора r, затем объединим все в одну функцию и будем чередовать до тех пор пока не сойдемся с нужной точностью.\n",
    "У ТЕМУРШОЕВА ТУТ ОПЕЧАТКА.\n",
    "\n",
    "\n",
    "$$ \\begin{cases}\n",
    "r_i = \\dfrac{u_i + \\sqrt{u^2_i + 4 p_i(s)n_i(s)}}{2p_i(s)}\\\\\n",
    "p_i(s) = \\sum\\limits_j p_{ij}s_j\\\\\n",
    "n_i(s) = \\sum\\limits_{j} \\dfrac{n_{ij}}{s_j}\n",
    "\\end{cases}$$"
   ]
  },
  {
   "cell_type": "code",
   "execution_count": 292,
   "metadata": {},
   "outputs": [],
   "source": [
    "def count_p_ij_s(s,P):\n",
    "    res = np.dot(P,s.reshape(-1,1))\n",
    "    return np.sum(res, axis = 1)\n",
    "\n",
    "def count_n_ij_s(s,N):\n",
    "    s = 1/s\n",
    "    res = N@(s.reshape(-1,1))\n",
    "    return np.sum(res, axis = 1)\n",
    "\n",
    "\n",
    "def count_r_i(s,P,N,u):\n",
    "    p = count_p_ij_s(s,P)\n",
    "    n = count_n_ij_s(s,N)\n",
    "    \n",
    "    sqr = np.sqrt(u**2 + 4*p*n)\n",
    "    s = (u + sqr)/(2*p)\n",
    "    return s"
   ]
  },
  {
   "cell_type": "markdown",
   "metadata": {},
   "source": [
    "### Сборка.\n",
    "\n",
    "Все предварительные операции отлажены, начнем сборку. На вход подается, например, базовая матрица A, вектора ограничений (заранее известные). На выход необходимо подать результирующую матрицу X с заранее известной (также подается) точностью $\\epsilon$.\n",
    "\n",
    "План действий:\n",
    "\n",
    "* получаем матрицу A\n",
    "\n",
    "* раскладываем на P,N\n",
    "\n",
    "* полагаем начальный вектор r единичным\n",
    "\n",
    "* итерируемся до тех пор, пока разница между предыдущим r и новым не станет меньше заранее заданной точности\n",
    "\n",
    "* действуем на матрицу А слева и справа итоговыми преобразованиями, выводим матрицу Х, считаем функцию качества"
   ]
  },
  {
   "cell_type": "code",
   "execution_count": 311,
   "metadata": {},
   "outputs": [
    {
     "name": "stdout",
     "output_type": "stream",
     "text": [
      "10000\n"
     ]
    }
   ],
   "source": [
    "\n",
    "import copy\n",
    "\n",
    "\n",
    "\n",
    "'''\n",
    "Разделяем матрицу\n",
    "'''\n",
    "\n",
    "P = split_A_to_PN(A)[0]\n",
    "\n",
    "N = split_A_to_PN(A)[1]\n",
    "\n",
    "\n",
    "'''\n",
    "Тривиальное левое преобразование\n",
    "'''\n",
    "\n",
    "r = np.ones(A.shape[0])\n",
    "\n",
    "''' \n",
    "Задаем интересующую нас точность (пока на r)\n",
    "'''\n",
    "\n",
    "eps = 1e-7\n",
    "\n",
    "\n",
    "'''\n",
    "До тех пор, пока предыдущий вектор r (какая разница) \n",
    "не будет отличаться от следующего меньше чем на eps,\n",
    "итерируемся туда-обратно\n",
    "'''\n",
    "\n",
    "memory = np.zeros(len(r))\n",
    "counter = 0\n",
    "limit = 1e4\n",
    "\n",
    "while np.linalg.norm(r - memory) > eps and counter < limit:\n",
    "    \n",
    "    s = count_s_j(r,P,N,v)\n",
    "    memory = r.copy()\n",
    "    r = count_r_i(s,P,N,u)\n",
    "    counter  += 1\n",
    "print(counter)\n",
    "#print(r)\n",
    "#print(s)"
   ]
  },
  {
   "cell_type": "code",
   "execution_count": 312,
   "metadata": {},
   "outputs": [],
   "source": [
    "RESULT = np.diag(r)@A@np.diag(s)"
   ]
  },
  {
   "cell_type": "code",
   "execution_count": 313,
   "metadata": {},
   "outputs": [
    {
     "name": "stdout",
     "output_type": "stream",
     "text": [
      "Качество подгонки вектора ограничений по строкам: \n",
      "\n"
     ]
    },
    {
     "data": {
      "text/plain": [
       "array([0., 0., 0., 0., 0., 0., 0., 0., 0., 0., 0., 0., 0., 0., 0., 0., 0.,\n",
       "       0., 0., 0., 0., 0., 0., 0., 0., 0., 0., 0., 0., 0., 0., 0., 0., 0.,\n",
       "       0., 0., 0., 0., 0., 0., 0., 0., 0., 0., 0., 0., 0., 0., 0., 0., 0.,\n",
       "       0., 0., 0., 0., 0., 0., 0., 0.])"
      ]
     },
     "execution_count": 313,
     "metadata": {},
     "output_type": "execute_result"
    }
   ],
   "source": [
    "print('Качество подгонки вектора ограничений по строкам: \\n')\n",
    "\n",
    "np.round(RESULT.sum(axis = 1),2) - u"
   ]
  },
  {
   "cell_type": "code",
   "execution_count": 314,
   "metadata": {},
   "outputs": [
    {
     "name": "stdout",
     "output_type": "stream",
     "text": [
      "Качество подгонки вектора ограничений по столбцам: \n",
      "\n"
     ]
    },
    {
     "data": {
      "text/plain": [
       "array([ 0.04,  0.  ,  0.  ,  0.01,  0.08,  0.  ,  0.  ,  0.01,  0.06,\n",
       "        0.  ,  0.  ,  0.  ,  0.  ,  0.01,  0.01,  0.  ,  0.06,  0.03,\n",
       "        0.01,  0.01,  0.04,  0.01,  0.01,  0.  ,  0.01,  0.  ,  0.01,\n",
       "        0.01,  0.03,  0.  ,  0.  ,  0.06,  0.  ,  0.09,  0.01,  0.09,\n",
       "        0.05,  0.01,  0.06,  0.  ,  0.01,  0.03,  0.02,  0.03,  0.01,\n",
       "        0.  ,  0.09,  0.01,  0.01,  0.02,  0.04,  0.08,  0.02,  0.04,\n",
       "        0.  ,  0.  ,  0.01,  0.  , -1.3 ])"
      ]
     },
     "execution_count": 314,
     "metadata": {},
     "output_type": "execute_result"
    }
   ],
   "source": [
    "print('Качество подгонки вектора ограничений по столбцам: \\n')\n",
    "\n",
    "np.round(RESULT.sum(axis = 0),2) - v "
   ]
  },
  {
   "cell_type": "code",
   "execution_count": 315,
   "metadata": {},
   "outputs": [
    {
     "name": "stdout",
     "output_type": "stream",
     "text": [
      "Значение метрики MAPE: 132.85523334075208\n",
      " \n",
      "Значение метрики WAPE: 3.056867505686523 \n",
      "\n",
      "Значение метрики PsiStat: 0.006126087318797469\n",
      " \n",
      "Значение метрики SWAD: 0.005381637253647175 \n",
      " \n",
      "Значение метрики RSQ: 0.9998172950283818 \n",
      " \n",
      "Значение метрики N0: 429 \n"
     ]
    }
   ],
   "source": [
    "print('Значение метрики MAPE: {}'.format(metrics.mape(X,RESULT)))\n",
    "print(' ')\n",
    "print('Значение метрики WAPE: {} '.format(metrics.wape(X,RESULT)))\n",
    "print()\n",
    "print('Значение метрики PsiStat: {}'.format(metrics.PsiStat(X,RESULT)))\n",
    "print(' ')\n",
    "print('Значение метрики SWAD: {} '.format(metrics.swad(X,RESULT)))\n",
    "print(' ')\n",
    "print('Значение метрики RSQ: {} '.format(metrics.RSQ(X,RESULT)))\n",
    "print(' ')\n",
    "print('Значение метрики N0: {} '.format(metrics.N0(X,RESULT)))"
   ]
  },
  {
   "cell_type": "code",
   "execution_count": 316,
   "metadata": {},
   "outputs": [],
   "source": [
    "pd.DataFrame(RESULT).to_csv('GRAS projection.csv')"
   ]
  },
  {
   "cell_type": "markdown",
   "metadata": {},
   "source": [
    "### Стохастический вариант GRAS с выбором по невязкам сумм строк и столбцов\n",
    "\n"
   ]
  },
  {
   "cell_type": "code",
   "execution_count": 317,
   "metadata": {},
   "outputs": [],
   "source": [
    "A = agg_supply2011_vec.reshape(59,59)\n",
    "X = agg_supply2016_vec.reshape(59,59)"
   ]
  },
  {
   "cell_type": "code",
   "execution_count": 318,
   "metadata": {},
   "outputs": [],
   "source": [
    "def count_masked_r(k,r,s,u,A):\n",
    "    diff_vector = np.abs(np.diag(r)@A@np.diag(s).sum(axis = 1) - u)\n",
    "    #print(diff_vector)\n",
    "    threshold = np.sort(diff_vector)[-k]\n",
    "    #print(threshold)\n",
    "    r_masked = [diff_vector>=threshold]\n",
    "    return np.array(r_masked)[0]"
   ]
  },
  {
   "cell_type": "code",
   "execution_count": 319,
   "metadata": {},
   "outputs": [],
   "source": [
    "def count_masked_s(k,r,s,u,A):\n",
    "    diff_vector = np.abs(np.diag(r)@A@np.diag(s).sum(axis = 0) - v)\n",
    "    #print(diff_vector)\n",
    "    threshold = np.sort(diff_vector)[-k]\n",
    "    #print(threshold)\n",
    "    s_masked = [diff_vector>threshold]\n",
    "    return np.array(s_masked)[0]"
   ]
  },
  {
   "cell_type": "code",
   "execution_count": 320,
   "metadata": {},
   "outputs": [
    {
     "name": "stdout",
     "output_type": "stream",
     "text": [
      "10000\n",
      "100000\n"
     ]
    }
   ],
   "source": [
    "\n",
    "import copy\n",
    "\n",
    "k = 10\n",
    "\n",
    "P = split_A_to_PN(A)[0]\n",
    "\n",
    "N = split_A_to_PN(A)[1]\n",
    "\n",
    "\n",
    "r = np.ones(A.shape[0])\n",
    "\n",
    "eps = 1e-7\n",
    "norm_vector = []\n",
    "arg_vector = []\n",
    "memory_r = np.ones(len(r))/2\n",
    "counter = 0\n",
    "limit = 1e4\n",
    "update_counter = 0\n",
    "\n",
    "while np.linalg.norm(r - memory_r) > eps and counter < limit:\n",
    "    \n",
    "    r_masked = r*count_masked_r(k,r,s,u,A) + memory_r*~count_masked_r(k,r,s,u,A)\n",
    "    s = count_s_j(r_masked,P,N,v)\n",
    "    memory_s = s.copy()\n",
    "    update_counter += k\n",
    "    memory_r = r.copy()\n",
    "    s_masked = s*count_masked_s(k,r,s,u,A) + memory_s*~count_masked_s(k,r,s,u,A)\n",
    "    r = count_r_i(s_masked,P,N,u)\n",
    "    #update_counter += k\n",
    "    result = np.diag(r)@A@np.diag(s)\n",
    "    norm_vector.append(np.linalg.norm(X - result))\n",
    "    arg_vector.append(update_counter)\n",
    "    counter  += 1\n",
    "print(counter)\n",
    "print(update_counter)\n",
    "RESULT2 = np.diag(r)@A@np.diag(s)\n",
    "#print(r)\n",
    "#print(s)"
   ]
  },
  {
   "cell_type": "code",
   "execution_count": 321,
   "metadata": {},
   "outputs": [
    {
     "data": {
      "text/plain": [
       "0"
      ]
     },
     "execution_count": 321,
     "metadata": {},
     "output_type": "execute_result"
    }
   ],
   "source": [
    "'''Проверим, что выполнены условия на нули'''\n",
    "\n",
    "#np.sum([RESULT == 0])\n",
    "np.sum([A < 0])"
   ]
  },
  {
   "cell_type": "code",
   "execution_count": 322,
   "metadata": {},
   "outputs": [
    {
     "name": "stdout",
     "output_type": "stream",
     "text": [
      "МЕТРИКА MAPE МЕЖДУ РЕЗУЛЬТАТАМИ GRAS И МОДИФИКАЦИИ: 0.01176079926978658\n"
     ]
    },
    {
     "data": {
      "text/plain": [
       "0.5229829835490457"
      ]
     },
     "execution_count": 322,
     "metadata": {},
     "output_type": "execute_result"
    },
    {
     "data": {
      "image/png": "[encoded data removed]",
      "text/plain": [
       "<Figure size 720x720 with 1 Axes>"
      ]
     },
     "metadata": {
      "needs_background": "light"
     },
     "output_type": "display_data"
    }
   ],
   "source": [
    "'''\n",
    "СХОДИТСЯ ЛИ АЛГОРИТМ ТУДА ЖЕ? ДА.\n",
    "'''\n",
    "\n",
    "\n",
    "plt.figure(figsize = (10,10))\n",
    "plt.spy(RESULT2-RESULT,0.01)\n",
    "print('МЕТРИКА MAPE МЕЖДУ РЕЗУЛЬТАТАМИ GRAS И МОДИФИКАЦИИ: {}'.format(metrics.mape(RESULT,RESULT2)))\n",
    "np.linalg.norm(RESULT2-RESULT)"
   ]
  },
  {
   "cell_type": "code",
   "execution_count": 323,
   "metadata": {},
   "outputs": [
    {
     "data": {
      "text/plain": [
       "0.01176079926978658"
      ]
     },
     "execution_count": 323,
     "metadata": {},
     "output_type": "execute_result"
    }
   ],
   "source": [
    "metrics.mape(RESULT,RESULT2)"
   ]
  },
  {
   "cell_type": "code",
   "execution_count": 306,
   "metadata": {},
   "outputs": [
    {
     "data": {
      "text/plain": [
       "[<matplotlib.lines.Line2D at 0x209ee774808>]"
      ]
     },
     "execution_count": 306,
     "metadata": {},
     "output_type": "execute_result"
    },
    {
     "data": {
      "image/png": "[encoded data removed]",
      "text/plain": [
       "<Figure size 1440x720 with 1 Axes>"
      ]
     },
     "metadata": {
      "needs_background": "light"
     },
     "output_type": "display_data"
    }
   ],
   "source": [
    "plt.figure(figsize = (20,10))\n",
    "plt.plot(np.log(norm_vector))"
   ]
  },
  {
   "cell_type": "code",
   "execution_count": 307,
   "metadata": {},
   "outputs": [],
   "source": [
    "pd.DataFrame(RESULT2).to_csv('modified_Gras projection.csv')"
   ]
  },
  {
   "cell_type": "code",
   "execution_count": 308,
   "metadata": {},
   "outputs": [
    {
     "name": "stdout",
     "output_type": "stream",
     "text": [
      "50\n"
     ]
    }
   ],
   "source": [
    "# потом завернем все это в функцию, пока прост с ячейкой поработаем\n",
    "import copy\n",
    "\n",
    "\n",
    "\n",
    "'''\n",
    "Разделяем матрицу\n",
    "'''\n",
    "\n",
    "P = split_A_to_PN(A)[0]\n",
    "\n",
    "N = split_A_to_PN(A)[1]\n",
    "\n",
    "\n",
    "'''\n",
    "Тривиальное левое преобразование\n",
    "'''\n",
    "\n",
    "r = np.ones(A.shape[0])\n",
    "\n",
    "''' \n",
    "Задаем интересующую нас точность (пока на r)\n",
    "'''\n",
    "\n",
    "eps = 1e-7\n",
    "norm_vector_2 = []\n",
    "arg_vector_2 = []\n",
    "'''\n",
    "До тех пор, пока предыдущий вектор r (какая разница) \n",
    "не будет отличаться от следующего меньше чем на eps,\n",
    "итерируемся туда-обратно\n",
    "'''\n",
    "\n",
    "memory = np.ones(len(r))/2\n",
    "counter = 0\n",
    "updates_counter = 0\n",
    "limit = 5e1\n",
    "\n",
    "while np.linalg.norm(r - memory) > eps and counter < limit:\n",
    "    \n",
    "    s = count_s_j(r,P,N,v)\n",
    "    updates_counter +=59\n",
    "    memory = r.copy()\n",
    "    r = count_r_i(s,P,N,u)\n",
    "    counter  += 1\n",
    "    result = np.diag(r)@A@np.diag(s)\n",
    "    norm_vector_2.append(np.linalg.norm(X - result))\n",
    "    arg_vector_2.append(updates_counter)\n",
    "print(counter)\n",
    "#print(r)\n",
    "#print(s)"
   ]
  },
  {
   "cell_type": "code",
   "execution_count": 309,
   "metadata": {},
   "outputs": [],
   "source": [
    "norm_vector = np.array(norm_vector)\n",
    "norm_vector_2 = np.array(norm_vector_2)"
   ]
  },
  {
   "cell_type": "code",
   "execution_count": 310,
   "metadata": {},
   "outputs": [
    {
     "data": {
      "text/plain": [
       "<matplotlib.legend.Legend at 0x209f018eec8>"
      ]
     },
     "execution_count": 310,
     "metadata": {},
     "output_type": "execute_result"
    },
    {
     "data": {
      "image/png": "[encoded data removed]",
      "text/plain": [
       "<Figure size 1440x720 with 1 Axes>"
      ]
     },
     "metadata": {
      "needs_background": "light"
     },
     "output_type": "display_data"
    }
   ],
   "source": [
    "fig = plt.figure(figsize = (20,10))\n",
    "ax = fig.add_axes([0,0,1,1])\n",
    "ax.plot(arg_vector,np.log(norm_vector),label = 'TRAS (k = 3)')\n",
    "ax.plot(arg_vector_2,np.log(norm_vector_2),label = 'GRAS')\n",
    "ax.set_xlabel(' \\n Суммарное число обновлений строк и столбцов [не итерации]',fontsize = 18)\n",
    "ax.set_ylabel('Натуральный логарифм фробениусовой нормы \\n разности текущей матрицы и матрицы 2016 года \\n',fontsize = 18)\n",
    "ax.legend()"
   ]
  },
  {
   "cell_type": "markdown",
   "metadata": {},
   "source": [
    "# Проекция остальными методами"
   ]
  },
  {
   "cell_type": "code",
   "execution_count": 137,
   "metadata": {},
   "outputs": [
    {
     "name": "stdout",
     "output_type": "stream",
     "text": [
      "Method: nras\n"
     ]
    },
    {
     "ename": "AttributeError",
     "evalue": "'numpy.ndarray' object has no attribute 'addrows'",
     "output_type": "error",
     "traceback": [
      "\u001b[1;31m---------------------------------------------------------------------------\u001b[0m",
      "\u001b[1;31mAttributeError\u001b[0m                            Traceback (most recent call last)",
      "\u001b[1;32m<ipython-input-137-1bdcd5a3b16d>\u001b[0m in \u001b[0;36m<module>\u001b[1;34m\u001b[0m\n\u001b[1;32m----> 1\u001b[1;33m \u001b[0mprojection_for_all_methods\u001b[0m\u001b[1;33m(\u001b[0m\u001b[1;34m'agg_supply2011_vec'\u001b[0m\u001b[1;33m,\u001b[0m \u001b[1;34m'totals_agg_supply2016'\u001b[0m\u001b[1;33m,\u001b[0m \u001b[1;34m'agg_supply2016_vec'\u001b[0m\u001b[1;33m)\u001b[0m\u001b[1;33m\u001b[0m\u001b[1;33m\u001b[0m\u001b[0m\n\u001b[0m",
      "\u001b[1;32m<ipython-input-108-71869cbe748d>\u001b[0m in \u001b[0;36mprojection_for_all_methods\u001b[1;34m(bench_matrix, constraints, target_matrix, totals)\u001b[0m\n\u001b[0;32m     71\u001b[0m         \u001b[1;32mif\u001b[0m \u001b[0mi\u001b[0m \u001b[1;33m>\u001b[0m \u001b[1;36m2\u001b[0m\u001b[1;33m:\u001b[0m\u001b[1;33m\u001b[0m\u001b[1;33m\u001b[0m\u001b[0m\n\u001b[0;32m     72\u001b[0m             \u001b[0msparsed\u001b[0m \u001b[1;33m=\u001b[0m \u001b[1;32mFalse\u001b[0m\u001b[1;33m\u001b[0m\u001b[1;33m\u001b[0m\u001b[0m\n\u001b[1;32m---> 73\u001b[1;33m         \u001b[0mprojection\u001b[0m\u001b[1;33m(\u001b[0m\u001b[0mmethod\u001b[0m\u001b[1;33m,\u001b[0m \u001b[0mbench_matrix\u001b[0m\u001b[1;33m,\u001b[0m \u001b[0mconstraints\u001b[0m\u001b[1;33m,\u001b[0m \u001b[0mtarget_matrix\u001b[0m\u001b[1;33m,\u001b[0m \u001b[0msparsed\u001b[0m \u001b[1;33m=\u001b[0m \u001b[0msparsed\u001b[0m\u001b[1;33m,\u001b[0m \u001b[0mtotals\u001b[0m \u001b[1;33m=\u001b[0m \u001b[0mtotals\u001b[0m\u001b[1;33m)\u001b[0m\u001b[1;33m\u001b[0m\u001b[1;33m\u001b[0m\u001b[0m\n\u001b[0m\u001b[0;32m     74\u001b[0m \u001b[1;33m\u001b[0m\u001b[0m\n",
      "\u001b[1;32m<ipython-input-108-71869cbe748d>\u001b[0m in \u001b[0;36mprojection\u001b[1;34m(method_name, bench_matrix, constraints, target_matrix, sparsed, save, totals)\u001b[0m\n\u001b[0;32m     31\u001b[0m     \u001b[0mtable_size\u001b[0m \u001b[1;33m=\u001b[0m \u001b[1;33m(\u001b[0m\u001b[0mm\u001b[0m\u001b[1;33m,\u001b[0m \u001b[0mn\u001b[0m\u001b[1;33m)\u001b[0m\u001b[1;33m\u001b[0m\u001b[1;33m\u001b[0m\u001b[0m\n\u001b[0;32m     32\u001b[0m \u001b[1;33m\u001b[0m\u001b[0m\n\u001b[1;32m---> 33\u001b[1;33m     \u001b[0mttls\u001b[0m \u001b[1;33m=\u001b[0m \u001b[0mv\u001b[0m\u001b[1;33m.\u001b[0m\u001b[0maddrows\u001b[0m\u001b[1;33m(\u001b[0m\u001b[1;33m(\u001b[0m\u001b[0mm\u001b[0m\u001b[1;33m,\u001b[0m\u001b[0mn\u001b[0m\u001b[1;33m)\u001b[0m\u001b[1;33m)\u001b[0m\u001b[1;33m\u001b[0m\u001b[1;33m\u001b[0m\u001b[0m\n\u001b[0m\u001b[0;32m     34\u001b[0m     \u001b[0mg\u001b[0m \u001b[1;33m=\u001b[0m \u001b[0mv\u001b[0m\u001b[1;33m.\u001b[0m\u001b[0maddcolumns\u001b[0m\u001b[1;33m(\u001b[0m\u001b[1;33m(\u001b[0m\u001b[0mm\u001b[0m\u001b[1;33m,\u001b[0m\u001b[0mn\u001b[0m\u001b[1;33m)\u001b[0m\u001b[1;33m,\u001b[0m \u001b[0mttls\u001b[0m\u001b[1;33m)\u001b[0m\u001b[1;33m\u001b[0m\u001b[1;33m\u001b[0m\u001b[0m\n\u001b[0;32m     35\u001b[0m \u001b[1;33m\u001b[0m\u001b[0m\n",
      "\u001b[1;31mAttributeError\u001b[0m: 'numpy.ndarray' object has no attribute 'addrows'"
     ]
    }
   ],
   "source": [
    "projection_for_all_methods('agg_supply2011_vec', 'totals_agg_supply2016', 'agg_supply2016_vec') "
   ]
  },
  {
   "cell_type": "markdown",
   "metadata": {},
   "source": [
    "# 2. Таблицы использования в ценах потребителей"
   ]
  },
  {
   "cell_type": "markdown",
   "metadata": {},
   "source": [
    "## 2.1. Препроцессинг"
   ]
  },
  {
   "cell_type": "markdown",
   "metadata": {},
   "source": [
    "### Таблица использования в ценах потребителей за 2011 год"
   ]
  },
  {
   "cell_type": "code",
   "execution_count": 138,
   "metadata": {},
   "outputs": [],
   "source": [
    "from scripts import vectorization"
   ]
  },
  {
   "cell_type": "code",
   "execution_count": 139,
   "metadata": {},
   "outputs": [],
   "source": [
    "df = pd.read_excel(\"./data/aggregated2011.xls\", \"ТИцп\")\n",
    "df = df.iloc[3:-11,3:-13]\n",
    "df = df.fillna(0)\n",
    "\n",
    "cons_use2011 = df\n",
    "\n",
    "# Векторизуем\n",
    "cons_use2011_arr = np.array(cons_use2011)\n",
    "cons_use2011_vec = vectorization.tovector(cons_use2011_arr).astype(float)\n",
    "\n",
    "# Посчитаем суммы по столбцам и строкам\n",
    "rows_sums_cons_use2011 = np.sum(cons_use2011, axis=1)\n",
    "columns_sums_cons_use2011 = np.sum(cons_use2011, axis=0)\n",
    "totals_cons_use2011 = np.concatenate((rows_sums_cons_use2011, columns_sums_cons_use2011)).astype(float)[np.newaxis].T"
   ]
  },
  {
   "cell_type": "markdown",
   "metadata": {},
   "source": [
    "### Таблица использования в ценах потребителей за 2016 год"
   ]
  },
  {
   "cell_type": "code",
   "execution_count": 140,
   "metadata": {},
   "outputs": [],
   "source": [
    "df = pd.read_excel(\"./data/aggregated2016.xls\", \"ТИцп\")\n",
    "df = df.iloc[3:-11,3:-13]\n",
    "df = df.fillna(0)\n",
    "\n",
    "cons_use2016 = df\n",
    "\n",
    "# Векторизуем\n",
    "cons_use2016_arr = np.array(cons_use2016)\n",
    "cons_use2016_vec = vectorization.tovector(cons_use2016_arr).astype(float)\n",
    "\n",
    "# Посчитаем суммы по столбцам и строкам\n",
    "rows_sums_cons_use2016 = np.sum(cons_use2016, axis=1)\n",
    "columns_sums_cons_use2016 = np.sum(cons_use2016, axis=0)\n",
    "totals_cons_use2016 = np.concatenate((rows_sums_cons_use2016, columns_sums_cons_use2016)).astype(float)[np.newaxis].T"
   ]
  },
  {
   "cell_type": "code",
   "execution_count": 141,
   "metadata": {},
   "outputs": [],
   "source": [
    "# Занулим элементы, в которых меняется знак\n",
    "\n",
    "cons_use2011[cons_use2011 * cons_use2016 < 0] = 0\n",
    "cons_use2016[cons_use2011 * cons_use2016 < 0] = 0"
   ]
  },
  {
   "cell_type": "markdown",
   "metadata": {},
   "source": [
    "### Проекция невекторизованным GRAS"
   ]
  },
  {
   "cell_type": "code",
   "execution_count": 142,
   "metadata": {},
   "outputs": [],
   "source": [
    "A = cons_use2011_vec.reshape(59,59) + 1e-2\n",
    "X = cons_use2016_vec.reshape(59,59) + 1e-2"
   ]
  },
  {
   "cell_type": "code",
   "execution_count": 143,
   "metadata": {},
   "outputs": [],
   "source": [
    "import logging\n",
    "import traceback\n",
    "import numpy as np  \n",
    "import pandas as pd"
   ]
  },
  {
   "cell_type": "markdown",
   "metadata": {},
   "source": [
    "Реализуем функцию качества, основанную на расстоянии Кульбака-Лейблера:\n",
    "\n",
    "$$ \\min\\limits_{z_{ij}} \\sum\\limits_{i,j} |a_{ij}| z_{ij}log(\\frac{z_{ij}}{e})}$$"
   ]
  },
  {
   "cell_type": "code",
   "execution_count": 144,
   "metadata": {},
   "outputs": [],
   "source": [
    "def quality_function(X,A):\n",
    "    \n",
    "    '''\n",
    "    X - np.ndarray matrix - матрица, которую проверяем на близость с А\n",
    "    \n",
    "    A - np.ndarray matrix - базовая матрица\n",
    "    '''  \n",
    "    abs_A = np.abs(A)\n",
    "    Z = X/A\n",
    "    ln = np.log(Z/np.exp(1))\n",
    "    M = abs_A*Z*ln\n",
    "    M = np.sum(M)\n",
    "    return M"
   ]
  },
  {
   "cell_type": "code",
   "execution_count": 145,
   "metadata": {},
   "outputs": [],
   "source": [
    "def P_N_masks(A):\n",
    "    \n",
    "    '''\n",
    "    Раскладывает матрицу А на разность двух матриц: с положительными элементами и модулем отрицательных\n",
    "    '''\n",
    "    P_mask = [A>=0]\n",
    "    P_mask = np.array(P_mask)[0]\n",
    "    P_mask = P_mask.astype(float)\n",
    "    \n",
    "    N_mask = [A<0]\n",
    "    N_mask = np.array(N_mask)[0]\n",
    "    N_mask = N_mask.astype(float)\n",
    "    \n",
    "    return P_mask, N_mask\n",
    "\n",
    "def split_A_to_PN(A):\n",
    "    \n",
    "    '''\n",
    "    Выдает две матрицы - с положительными элементами и модулями отрицательных \n",
    "    \n",
    "    '''\n",
    "    \n",
    "    P = P_N_masks(A)[0] * A\n",
    "    N = np.abs(P_N_masks(A)[1] * A)\n",
    "    \n",
    "    return P,N   "
   ]
  },
  {
   "cell_type": "code",
   "execution_count": 146,
   "metadata": {},
   "outputs": [],
   "source": [
    "P = split_A_to_PN(A)[0]\n",
    "N = split_A_to_PN(A)[1]"
   ]
  },
  {
   "cell_type": "code",
   "execution_count": 147,
   "metadata": {},
   "outputs": [],
   "source": [
    "'''\n",
    "Научимся выводит векторы ограничений на строки и столбцы. Вообще они будут заданы, но вдруг\n",
    "\n",
    "'''\n",
    "\n",
    "def define_u_vector(X):\n",
    "    u = []\n",
    "    for rows in X:\n",
    "        u.append(np.sum(rows))\n",
    "    return(np.array(u))\n",
    "\n",
    "\n",
    "    \n",
    "def define_v_vector(X):\n",
    "    X = np.array(pd.DataFrame(X).T)\n",
    "    v = []\n",
    "    for rows in X:\n",
    "        v.append(np.sum(rows))\n",
    "    return(np.array(v))\n",
    "\n"
   ]
  },
  {
   "cell_type": "code",
   "execution_count": 148,
   "metadata": {},
   "outputs": [],
   "source": [
    "u = define_u_vector(X)\n",
    "v = define_v_vector(X)"
   ]
  },
  {
   "cell_type": "markdown",
   "metadata": {},
   "source": [
    "### Итерации\n",
    "\n",
    "В начале полагаем вектор r(0) равным единичному (т.е. левое преобразование - тривиальное отображение в себя).\n",
    "\n",
    "Затем используем решение Темуршоева чтобы итеративно вычислить все элементы корректировочной матрицы для строк (правое преобразование):\n",
    "\n",
    "$$ \\begin{cases}\n",
    "s_j = \\dfrac{v_j + \\sqrt{v^2_j + 4 p_j(r)n_j(r)}}{2p_j(r)}\\\\\n",
    "p_j(r) = \\sum\\limits_{i}r_ip_{ij}\\\\\n",
    "n_j(r) = \\sum\\limits_i \\dfrac{n_{ij}}{r_i}\n",
    "\\end{cases}$$\n",
    "\n",
    "\n",
    "\n"
   ]
  },
  {
   "cell_type": "code",
   "execution_count": 149,
   "metadata": {},
   "outputs": [],
   "source": [
    "r = np.ones(A.shape[0]) # создали единичный вектор\n",
    "\n",
    "\n",
    "def count_p_ij(r,P):\n",
    "    res =(r.reshape(1,-1))@P\n",
    "    return np.sum(res, axis = 0)\n",
    "\n",
    "def count_n_ij(r,N):\n",
    "    r = 1/r\n",
    "    res = (r.reshape(1,-1))@N\n",
    "    return np.sum(res, axis = 0)\n"
   ]
  },
  {
   "cell_type": "markdown",
   "metadata": {},
   "source": [
    "Дело за малым, осталось по первой формуле из системы вычислить элементы $s_j$ (решение квадратного уравнения):"
   ]
  },
  {
   "cell_type": "code",
   "execution_count": 150,
   "metadata": {},
   "outputs": [],
   "source": [
    "'''\n",
    "Вектора u и v на данный момент полагаются известными (да, мы их знаем, либо экзогенно, либо из истинной матрицы X)\n",
    "'''\n",
    "\n",
    "\n",
    "def count_s_j(r,P,N,v):\n",
    "    p = count_p_ij(r,P)\n",
    "    n = count_n_ij(r,N)\n",
    "    \n",
    "    sqr = np.sqrt(v**2 + 4*p*n)\n",
    "    #print(sqr)\n",
    "    s = (v + sqr)/(2*p)\n",
    "    return s"
   ]
  },
  {
   "cell_type": "code",
   "execution_count": 151,
   "metadata": {},
   "outputs": [],
   "source": [
    "s = count_s_j(r,P,N,v) # работает, осталось верно все это дело расположить"
   ]
  },
  {
   "cell_type": "markdown",
   "metadata": {},
   "source": [
    "### Обратная итерация\n",
    "\n",
    "Теперь полагаем известным некоторый вектор $s$ и организуем пересчет вектора r, затем объединим все в одну функцию и будем чередовать до тех пор пока не сойдемся с нужной точностью.\n",
    "У ТЕМУРШОЕВА ТУТ ОПЕЧАТКА.\n",
    "\n",
    "\n",
    "$$ \\begin{cases}\n",
    "r_i = \\dfrac{u_i + \\sqrt{u^2_i + 4 p_i(s)n_i(s)}}{2p_i(s)}\\\\\n",
    "p_i(s) = \\sum\\limits_j p_{ij}s_j\\\\\n",
    "n_i(s) = \\sum\\limits_{j} \\dfrac{n_{ij}}{s_j}\n",
    "\\end{cases}$$"
   ]
  },
  {
   "cell_type": "code",
   "execution_count": 152,
   "metadata": {},
   "outputs": [],
   "source": [
    "def count_p_ij_s(s,P):\n",
    "    res = np.dot(P,s.reshape(-1,1))\n",
    "    return np.sum(res, axis = 1)\n",
    "\n",
    "def count_n_ij_s(s,N):\n",
    "    s = 1/s\n",
    "    res = N@(s.reshape(-1,1))\n",
    "    return np.sum(res, axis = 1)\n",
    "\n",
    "\n",
    "def count_r_i(s,P,N,u):\n",
    "    p = count_p_ij_s(s,P)\n",
    "    n = count_n_ij_s(s,N)\n",
    "    \n",
    "    sqr = np.sqrt(u**2 + 4*p*n)\n",
    "    r = (u + sqr)/(2*p)\n",
    "    return r"
   ]
  },
  {
   "cell_type": "markdown",
   "metadata": {},
   "source": [
    "### Сборка.\n",
    "\n",
    "Все предварительные операции отлажены, начнем сборку. На вход подается, например, базовая матрица A, вектора ограничений (заранее известные). На выход необходимо подать результирующую матрицу X с заранее известной (также подается) точностью $\\epsilon$.\n",
    "\n",
    "План действий:\n",
    "\n",
    "* получаем матрицу A\n",
    "\n",
    "* раскладываем на P,N\n",
    "\n",
    "* полагаем начальный вектор r единичным\n",
    "\n",
    "* итерируемся до тех пор, пока разница между предыдущим r и новым не станет меньше заранее заданной точности\n",
    "\n",
    "* действуем на матрицу А слева и справа итоговыми преобразованиями, выводим матрицу Х, считаем функцию качества"
   ]
  },
  {
   "cell_type": "code",
   "execution_count": 153,
   "metadata": {},
   "outputs": [
    {
     "name": "stdout",
     "output_type": "stream",
     "text": [
      "90\n"
     ]
    }
   ],
   "source": [
    "# потом завернем все это в функцию, пока прост с ячейкой поработаем\n",
    "import copy\n",
    "\n",
    "\n",
    "\n",
    "'''\n",
    "Разделяем матрицу\n",
    "'''\n",
    "\n",
    "P = split_A_to_PN(A)[0]\n",
    "\n",
    "N = split_A_to_PN(A)[1]\n",
    "\n",
    "\n",
    "'''\n",
    "Тривиальное левое преобразование\n",
    "'''\n",
    "\n",
    "r = np.ones(A.shape[0])\n",
    "\n",
    "''' \n",
    "Задаем интересующую нас точность (пока на r)\n",
    "'''\n",
    "\n",
    "eps = 1e-30\n",
    "\n",
    "\n",
    "'''\n",
    "До тех пор, пока предыдущий вектор r (какая разница) \n",
    "не будет отличаться от следующего меньше чем на eps,\n",
    "итерируемся туда-обратно\n",
    "'''\n",
    "\n",
    "memory = np.zeros(len(r))\n",
    "counter = 0\n",
    "limit = 1000000\n",
    "\n",
    "while np.linalg.norm(r - memory) > eps and counter < limit:\n",
    "    \n",
    "    s = count_s_j(r,P,N,v)\n",
    "    memory = r.copy()\n",
    "    r = count_r_i(s,P,N,u)\n",
    "    counter  += 1\n",
    "print(counter)\n",
    "#print(r)\n",
    "#print(s)"
   ]
  },
  {
   "cell_type": "code",
   "execution_count": 154,
   "metadata": {},
   "outputs": [],
   "source": [
    "RESULT = np.diag(r)@(A)@np.diag(s)"
   ]
  },
  {
   "cell_type": "code",
   "execution_count": 155,
   "metadata": {},
   "outputs": [
    {
     "data": {
      "text/plain": [
       "array([1.00316727, 1.03514259, 1.01953231, 1.17868488, 1.06964138,\n",
       "       0.15573356, 0.96788431, 1.00208609, 0.99906592, 1.09105562,\n",
       "       0.9735124 , 1.16394061, 0.90082068, 1.12853066, 1.02806859,\n",
       "       1.07441209, 0.99590957, 1.01433009, 0.98740955, 0.82454669,\n",
       "       0.90624148, 1.24640389, 0.86314157, 1.01954122, 1.03985669,\n",
       "       0.9459237 , 1.3606861 , 0.78295642, 1.33901427, 0.86720409,\n",
       "       1.01135972, 0.88663254, 0.92098569, 1.01496642, 1.11997403,\n",
       "       1.00078924, 1.0064052 , 1.03010016, 0.89669659, 1.08172191,\n",
       "       0.98844157, 1.3579404 , 0.95214561, 0.88342948, 1.14557129,\n",
       "       1.60608644, 1.27904845, 2.63695783, 1.41907053, 0.85809524,\n",
       "       1.18422917, 0.90110243, 0.62220903, 0.96447473, 0.96957874,\n",
       "       1.07227654, 1.12110228, 1.00269453, 0.63279324])"
      ]
     },
     "execution_count": 155,
     "metadata": {},
     "output_type": "execute_result"
    }
   ],
   "source": [
    "r"
   ]
  },
  {
   "cell_type": "code",
   "execution_count": 156,
   "metadata": {},
   "outputs": [
    {
     "name": "stdout",
     "output_type": "stream",
     "text": [
      "Качество подгонки вектора ограничений по строкам: \n",
      "\n"
     ]
    },
    {
     "data": {
      "text/plain": [
       "array([ 0.00000000e+00, -2.91038305e-11, -2.91038305e-11, -1.16415322e-10,\n",
       "        0.00000000e+00,  0.00000000e+00,  0.00000000e+00, -2.91038305e-11,\n",
       "        1.86264515e-09, -2.91038305e-11,  0.00000000e+00,  0.00000000e+00,\n",
       "       -7.27595761e-12, -5.82076609e-11, -5.82076609e-11,  5.82076609e-11,\n",
       "        1.86264515e-09, -2.32830644e-10, -1.16415322e-10, -1.16415322e-10,\n",
       "        0.00000000e+00, -1.16415322e-10,  0.00000000e+00,  1.45519152e-11,\n",
       "       -1.16415322e-10, -5.82076609e-11,  5.82076609e-11,  0.00000000e+00,\n",
       "        0.00000000e+00, -5.82076609e-11,  0.00000000e+00,  9.31322575e-10,\n",
       "       -2.91038305e-11,  0.00000000e+00, -1.16415322e-10,  0.00000000e+00,\n",
       "        0.00000000e+00, -1.16415322e-10,  0.00000000e+00, -2.91038305e-11,\n",
       "       -1.16415322e-10,  4.65661287e-10, -1.16415322e-10, -1.16415322e-10,\n",
       "        0.00000000e+00, -7.27595761e-12,  4.65661287e-10, -2.91038305e-11,\n",
       "       -1.16415322e-10,  0.00000000e+00,  0.00000000e+00,  0.00000000e+00,\n",
       "        5.82076609e-11, -2.32830644e-10, -2.91038305e-11, -2.91038305e-11,\n",
       "       -1.16415322e-10,  1.45519152e-11, -1.11022302e-16])"
      ]
     },
     "execution_count": 156,
     "metadata": {},
     "output_type": "execute_result"
    }
   ],
   "source": [
    "print('Качество подгонки вектора ограничений по строкам: \\n')\n",
    "\n",
    "np.round(RESULT.sum(axis = 1),2) - u"
   ]
  },
  {
   "cell_type": "code",
   "execution_count": 157,
   "metadata": {},
   "outputs": [
    {
     "name": "stdout",
     "output_type": "stream",
     "text": [
      "Качество подгонки вектора ограничений по столбцам: \n",
      "\n"
     ]
    },
    {
     "data": {
      "text/plain": [
       "array([ 2.32830644e-09, -1.45519152e-10,  4.36557457e-11, -1.16415322e-10,\n",
       "        1.86264515e-09, -9.09494702e-13, -1.16415322e-10, -5.82076609e-11,\n",
       "        0.00000000e+00,  1.81898940e-11,  1.16415322e-10, -2.91038305e-11,\n",
       "        0.00000000e+00,  0.00000000e+00, -1.16415322e-10,  0.00000000e+00,\n",
       "        0.00000000e+00,  0.00000000e+00,  0.00000000e+00, -2.32830644e-10,\n",
       "        0.00000000e+00,  0.00000000e+00,  4.65661287e-10,  5.82076609e-11,\n",
       "        0.00000000e+00, -1.16415322e-10, -1.16415322e-10,  0.00000000e+00,\n",
       "        0.00000000e+00, -2.91038305e-11, -5.82076609e-11,  9.31322575e-10,\n",
       "       -2.91038305e-11,  0.00000000e+00, -5.82076609e-11, -1.16415322e-10,\n",
       "       -9.09494702e-13,  0.00000000e+00,  0.00000000e+00,  1.45519152e-11,\n",
       "        0.00000000e+00,  0.00000000e+00, -1.16415322e-10,  0.00000000e+00,\n",
       "        0.00000000e+00, -2.91038305e-11,  0.00000000e+00,  0.00000000e+00,\n",
       "        0.00000000e+00,  1.45519152e-11,  0.00000000e+00, -5.82076609e-11,\n",
       "       -2.91038305e-11, -2.91038305e-11,  5.82076609e-11, -1.11022302e-16,\n",
       "       -5.82076609e-11,  3.63797881e-12, -1.11022302e-16])"
      ]
     },
     "execution_count": 157,
     "metadata": {},
     "output_type": "execute_result"
    }
   ],
   "source": [
    "print('Качество подгонки вектора ограничений по столбцам: \\n')\n",
    "\n",
    "np.round(RESULT.sum(axis = 0),2) - v "
   ]
  },
  {
   "cell_type": "code",
   "execution_count": 158,
   "metadata": {},
   "outputs": [
    {
     "name": "stdout",
     "output_type": "stream",
     "text": [
      "Значение метрики MAPE: 99.19198810339874\n",
      " \n",
      "Значение метрики WAPE: 14.997417229090125 \n",
      "\n",
      "Значение метрики PsiStat: 0.013941837486707322\n",
      " \n",
      "Значение метрики SWAD: 0.0709020609661199 \n",
      " \n",
      "Значение метрики RSQ: 0.9866126345689643 \n",
      " \n",
      "Значение метрики N0: 135 \n"
     ]
    }
   ],
   "source": [
    "print('Значение метрики MAPE: {}'.format(metrics.mape(X-1,RESULT-1)))\n",
    "print(' ')\n",
    "print('Значение метрики WAPE: {} '.format(metrics.wape(X-1,RESULT-1)))\n",
    "print()\n",
    "print('Значение метрики PsiStat: {}'.format(metrics.PsiStat(X-1,RESULT-1)))\n",
    "print(' ')\n",
    "print('Значение метрики SWAD: {} '.format(metrics.swad(X-1,RESULT-1)))\n",
    "print(' ')\n",
    "print('Значение метрики RSQ: {} '.format(metrics.RSQ(X-1,RESULT-1)))\n",
    "print(' ')\n",
    "print('Значение метрики N0: {} '.format(metrics.N0(X-1,RESULT-1)))"
   ]
  },
  {
   "cell_type": "markdown",
   "metadata": {},
   "source": [
    "## 2.2. Проекция"
   ]
  },
  {
   "cell_type": "code",
   "execution_count": 161,
   "metadata": {},
   "outputs": [
    {
     "name": "stdout",
     "output_type": "stream",
     "text": [
      "Method: nras\n"
     ]
    },
    {
     "ename": "AttributeError",
     "evalue": "'numpy.ndarray' object has no attribute 'addrows'",
     "output_type": "error",
     "traceback": [
      "\u001b[1;31m---------------------------------------------------------------------------\u001b[0m",
      "\u001b[1;31mAttributeError\u001b[0m                            Traceback (most recent call last)",
      "\u001b[1;32m<ipython-input-161-4adddf8e58a7>\u001b[0m in \u001b[0;36m<module>\u001b[1;34m\u001b[0m\n\u001b[0;32m      4\u001b[0m \u001b[1;31m#Методы: NRAS, точность 0.01, 100 иттераций, INSD, Kuroda(1,2,3)\u001b[0m\u001b[1;33m\u001b[0m\u001b[1;33m\u001b[0m\u001b[1;33m\u001b[0m\u001b[0m\n\u001b[0;32m      5\u001b[0m \u001b[1;33m\u001b[0m\u001b[0m\n\u001b[1;32m----> 6\u001b[1;33m \u001b[0mprojection_for_all_methods\u001b[0m\u001b[1;33m(\u001b[0m\u001b[1;34m'cons_use2011_vec'\u001b[0m\u001b[1;33m,\u001b[0m \u001b[1;34m'totals_cons_use2016'\u001b[0m\u001b[1;33m,\u001b[0m \u001b[1;34m'cons_use2016_vec'\u001b[0m\u001b[1;33m)\u001b[0m\u001b[1;33m\u001b[0m\u001b[1;33m\u001b[0m\u001b[0m\n\u001b[0m",
      "\u001b[1;32m<ipython-input-108-71869cbe748d>\u001b[0m in \u001b[0;36mprojection_for_all_methods\u001b[1;34m(bench_matrix, constraints, target_matrix, totals)\u001b[0m\n\u001b[0;32m     71\u001b[0m         \u001b[1;32mif\u001b[0m \u001b[0mi\u001b[0m \u001b[1;33m>\u001b[0m \u001b[1;36m2\u001b[0m\u001b[1;33m:\u001b[0m\u001b[1;33m\u001b[0m\u001b[1;33m\u001b[0m\u001b[0m\n\u001b[0;32m     72\u001b[0m             \u001b[0msparsed\u001b[0m \u001b[1;33m=\u001b[0m \u001b[1;32mFalse\u001b[0m\u001b[1;33m\u001b[0m\u001b[1;33m\u001b[0m\u001b[0m\n\u001b[1;32m---> 73\u001b[1;33m         \u001b[0mprojection\u001b[0m\u001b[1;33m(\u001b[0m\u001b[0mmethod\u001b[0m\u001b[1;33m,\u001b[0m \u001b[0mbench_matrix\u001b[0m\u001b[1;33m,\u001b[0m \u001b[0mconstraints\u001b[0m\u001b[1;33m,\u001b[0m \u001b[0mtarget_matrix\u001b[0m\u001b[1;33m,\u001b[0m \u001b[0msparsed\u001b[0m \u001b[1;33m=\u001b[0m \u001b[0msparsed\u001b[0m\u001b[1;33m,\u001b[0m \u001b[0mtotals\u001b[0m \u001b[1;33m=\u001b[0m \u001b[0mtotals\u001b[0m\u001b[1;33m)\u001b[0m\u001b[1;33m\u001b[0m\u001b[1;33m\u001b[0m\u001b[0m\n\u001b[0m\u001b[0;32m     74\u001b[0m \u001b[1;33m\u001b[0m\u001b[0m\n",
      "\u001b[1;32m<ipython-input-108-71869cbe748d>\u001b[0m in \u001b[0;36mprojection\u001b[1;34m(method_name, bench_matrix, constraints, target_matrix, sparsed, save, totals)\u001b[0m\n\u001b[0;32m     31\u001b[0m     \u001b[0mtable_size\u001b[0m \u001b[1;33m=\u001b[0m \u001b[1;33m(\u001b[0m\u001b[0mm\u001b[0m\u001b[1;33m,\u001b[0m \u001b[0mn\u001b[0m\u001b[1;33m)\u001b[0m\u001b[1;33m\u001b[0m\u001b[1;33m\u001b[0m\u001b[0m\n\u001b[0;32m     32\u001b[0m \u001b[1;33m\u001b[0m\u001b[0m\n\u001b[1;32m---> 33\u001b[1;33m     \u001b[0mttls\u001b[0m \u001b[1;33m=\u001b[0m \u001b[0mv\u001b[0m\u001b[1;33m.\u001b[0m\u001b[0maddrows\u001b[0m\u001b[1;33m(\u001b[0m\u001b[1;33m(\u001b[0m\u001b[0mm\u001b[0m\u001b[1;33m,\u001b[0m\u001b[0mn\u001b[0m\u001b[1;33m)\u001b[0m\u001b[1;33m)\u001b[0m\u001b[1;33m\u001b[0m\u001b[1;33m\u001b[0m\u001b[0m\n\u001b[0m\u001b[0;32m     34\u001b[0m     \u001b[0mg\u001b[0m \u001b[1;33m=\u001b[0m \u001b[0mv\u001b[0m\u001b[1;33m.\u001b[0m\u001b[0maddcolumns\u001b[0m\u001b[1;33m(\u001b[0m\u001b[1;33m(\u001b[0m\u001b[0mm\u001b[0m\u001b[1;33m,\u001b[0m\u001b[0mn\u001b[0m\u001b[1;33m)\u001b[0m\u001b[1;33m,\u001b[0m \u001b[0mttls\u001b[0m\u001b[1;33m)\u001b[0m\u001b[1;33m\u001b[0m\u001b[1;33m\u001b[0m\u001b[0m\n\u001b[0;32m     35\u001b[0m \u001b[1;33m\u001b[0m\u001b[0m\n",
      "\u001b[1;31mAttributeError\u001b[0m: 'numpy.ndarray' object has no attribute 'addrows'"
     ]
    }
   ],
   "source": [
    "#Эксперимент: проекция таблицы 2016 года из таблицы 2011 года\n",
    "#Бенчмарк: cons_use2011_vec (таблица за 2011 год с максимальной агрегацией)\n",
    "#Ограничения: таблица totals_2016\n",
    "#Методы: NRAS, точность 0.01, 100 иттераций, INSD, Kuroda(1,2,3)\n",
    "\n",
    "projection_for_all_methods('cons_use2011_vec', 'totals_cons_use2016', 'cons_use2016_vec')"
   ]
  },
  {
   "cell_type": "markdown",
   "metadata": {},
   "source": [
    "# 3. Таблицы использования в основных ценах"
   ]
  },
  {
   "cell_type": "markdown",
   "metadata": {},
   "source": [
    "## 3.1. Препроцессинг"
   ]
  },
  {
   "cell_type": "markdown",
   "metadata": {},
   "source": [
    "### Таблица использования в основных ценах за 2011 год"
   ]
  },
  {
   "cell_type": "code",
   "execution_count": 162,
   "metadata": {},
   "outputs": [],
   "source": [
    "df = pd.read_excel(\"./data/aggregated2011.xls\", \"ТИоц\")\n",
    "df = df.iloc[3:-11,3:-13]\n",
    "df = df.fillna(0)\n",
    "\n",
    "basic_use2011 = df\n",
    "\n",
    "# Векторизуем\n",
    "basic_use2011_arr = np.array(basic_use2011)\n",
    "basic_use2011_vec = vectorization.tovector(basic_use2011_arr).astype(float)\n",
    "\n",
    "# Посчитаем суммы по столбцам и строкам\n",
    "rows_sums_basic_use2011 = np.sum(basic_use2011, axis=1)\n",
    "columns_sums_basic_use2011 = np.sum(basic_use2011, axis=0)\n",
    "totals_basic_use2011 = np.concatenate((rows_sums_basic_use2011, columns_sums_basic_use2011)).astype(float)[np.newaxis].T"
   ]
  },
  {
   "cell_type": "markdown",
   "metadata": {},
   "source": [
    "### Таблица использования в основных ценах за 2016 год"
   ]
  },
  {
   "cell_type": "code",
   "execution_count": 163,
   "metadata": {},
   "outputs": [],
   "source": [
    "df = pd.read_excel(\"./data/aggregated2016.xls\", \"ТИцп\")\n",
    "df = df.iloc[3:-11,3:-13]\n",
    "df = df.fillna(0)\n",
    "\n",
    "basic_use2016 = df\n",
    "\n",
    "# Векторизуем\n",
    "basic_use2016_arr = np.array(basic_use2016)\n",
    "basic_use2016_vec = vectorization.tovector(basic_use2016_arr).astype(float)\n",
    "\n",
    "# Посчитаем суммы по столбцам и строкам\n",
    "rows_sums_basic_use2016 = np.sum(basic_use2016, axis=1)\n",
    "columns_sums_basic_use2016 = np.sum(basic_use2016, axis=0)\n",
    "totals_basic_use2016 = np.concatenate((rows_sums_basic_use2016, columns_sums_basic_use2016)).astype(float)[np.newaxis].T"
   ]
  },
  {
   "cell_type": "code",
   "execution_count": 164,
   "metadata": {},
   "outputs": [],
   "source": [
    "# Занулим элементы, в которых меняется знак\n",
    "\n",
    "basic_use2011[basic_use2011 * basic_use2016 < 0] = 0\n",
    "basic_use2016[basic_use2011 * basic_use2016 < 0] = 0"
   ]
  },
  {
   "cell_type": "markdown",
   "metadata": {},
   "source": [
    "### Проекция невекторизованным GRAS"
   ]
  },
  {
   "cell_type": "code",
   "execution_count": 183,
   "metadata": {},
   "outputs": [],
   "source": [
    "A = basic_use2011_vec.reshape(59,59) + 1e-2\n",
    "X = basic_use2016_vec.reshape(59,59) + 1e-2"
   ]
  },
  {
   "cell_type": "code",
   "execution_count": 184,
   "metadata": {},
   "outputs": [],
   "source": [
    "import logging\n",
    "import traceback\n",
    "import numpy as np  \n",
    "import pandas as pd"
   ]
  },
  {
   "cell_type": "markdown",
   "metadata": {},
   "source": [
    "Реализуем функцию качества, основанную на расстоянии Кульбака-Лейблера:\n",
    "\n",
    "$$ \\min\\limits_{z_{ij}} \\sum\\limits_{i,j} |a_{ij}| z_{ij}log(\\frac{z_{ij}}{e})}$$"
   ]
  },
  {
   "cell_type": "code",
   "execution_count": 185,
   "metadata": {},
   "outputs": [],
   "source": [
    "def quality_function(X,A):\n",
    "    \n",
    "    '''\n",
    "    X - np.ndarray matrix - матрица, которую проверяем на близость с А\n",
    "    \n",
    "    A - np.ndarray matrix - базовая матрица\n",
    "    '''  \n",
    "    abs_A = np.abs(A)\n",
    "    Z = X/A\n",
    "    ln = np.log(Z/np.exp(1))\n",
    "    M = abs_A*Z*ln\n",
    "    M = np.sum(M)\n",
    "    return M"
   ]
  },
  {
   "cell_type": "code",
   "execution_count": 186,
   "metadata": {},
   "outputs": [],
   "source": [
    "def P_N_masks(A):\n",
    "    \n",
    "    '''\n",
    "    Раскладывает матрицу А на разность двух матриц: с положительными элементами и модулем отрицательных\n",
    "    '''\n",
    "    P_mask = [A>=0]\n",
    "    P_mask = np.array(P_mask)[0]\n",
    "    P_mask = P_mask.astype(float)\n",
    "    \n",
    "    N_mask = [A<0]\n",
    "    N_mask = np.array(N_mask)[0]\n",
    "    N_mask = N_mask.astype(float)\n",
    "    \n",
    "    return P_mask, N_mask\n",
    "\n",
    "def split_A_to_PN(A):\n",
    "    \n",
    "    '''\n",
    "    Выдает две матрицы - с положительными элементами и модулями отрицательных \n",
    "    \n",
    "    '''\n",
    "    \n",
    "    P = P_N_masks(A)[0] * A\n",
    "    N = np.abs(P_N_masks(A)[1] * A)\n",
    "    \n",
    "    return P,N   "
   ]
  },
  {
   "cell_type": "code",
   "execution_count": 187,
   "metadata": {},
   "outputs": [],
   "source": [
    "P = split_A_to_PN(A)[0]\n",
    "N = split_A_to_PN(A)[1]"
   ]
  },
  {
   "cell_type": "code",
   "execution_count": 188,
   "metadata": {},
   "outputs": [],
   "source": [
    "'''\n",
    "Научимся выводит векторы ограничений на строки и столбцы. Вообще они будут заданы, но вдруг\n",
    "\n",
    "'''\n",
    "\n",
    "def define_u_vector(X):\n",
    "    u = []\n",
    "    for rows in X:\n",
    "        u.append(np.sum(rows))\n",
    "    return(np.array(u))\n",
    "\n",
    "\n",
    "    \n",
    "def define_v_vector(X):\n",
    "    X = np.array(pd.DataFrame(X).T)\n",
    "    v = []\n",
    "    for rows in X:\n",
    "        v.append(np.sum(rows))\n",
    "    return(np.array(v))\n",
    "\n"
   ]
  },
  {
   "cell_type": "code",
   "execution_count": 189,
   "metadata": {},
   "outputs": [],
   "source": [
    "u = define_u_vector(X)\n",
    "v = define_v_vector(X)"
   ]
  },
  {
   "cell_type": "markdown",
   "metadata": {},
   "source": [
    "### Итерации\n",
    "\n",
    "В начале полагаем вектор r(0) равным единичному (т.е. левое преобразование - тривиальное отображение в себя).\n",
    "\n",
    "Затем используем решение Темуршоева чтобы итеративно вычислить все элементы корректировочной матрицы для строк (правое преобразование):\n",
    "\n",
    "$$ \\begin{cases}\n",
    "s_j = \\dfrac{v_j + \\sqrt{v^2_j + 4 p_j(r)n_j(r)}}{2p_j(r)}\\\\\n",
    "p_j(r) = \\sum\\limits_{i}r_ip_{ij}\\\\\n",
    "n_j(r) = \\sum\\limits_i \\dfrac{n_{ij}}{r_i}\n",
    "\\end{cases}$$\n",
    "\n",
    "\n",
    "\n"
   ]
  },
  {
   "cell_type": "code",
   "execution_count": 190,
   "metadata": {},
   "outputs": [],
   "source": [
    "r = np.ones(A.shape[0]) # создали единичный вектор\n",
    "\n",
    "\n",
    "def count_p_ij(r,P):\n",
    "    res =(r.reshape(1,-1))@P\n",
    "    return np.sum(res, axis = 0)\n",
    "\n",
    "def count_n_ij(r,N):\n",
    "    r = 1/r\n",
    "    res = (r.reshape(1,-1))@N\n",
    "    return np.sum(res, axis = 0)\n"
   ]
  },
  {
   "cell_type": "markdown",
   "metadata": {},
   "source": [
    "Дело за малым, осталось по первой формуле из системы вычислить элементы $s_j$ (решение квадратного уравнения):"
   ]
  },
  {
   "cell_type": "code",
   "execution_count": 191,
   "metadata": {},
   "outputs": [],
   "source": [
    "'''\n",
    "Вектора u и v на данный момент полагаются известными (да, мы их знаем, либо экзогенно, либо из истинной матрицы X)\n",
    "'''\n",
    "\n",
    "\n",
    "def count_s_j(r,P,N,v):\n",
    "    p = count_p_ij(r,P)\n",
    "    n = count_n_ij(r,N)\n",
    "    \n",
    "    sqr = np.sqrt(v**2 + 4*p*n)\n",
    "    #print(sqr)\n",
    "    s = (v + sqr)/(2*p)\n",
    "    return s"
   ]
  },
  {
   "cell_type": "code",
   "execution_count": 192,
   "metadata": {},
   "outputs": [],
   "source": [
    "s = count_s_j(r,P,N,v) # работает, осталось верно все это дело расположить"
   ]
  },
  {
   "cell_type": "markdown",
   "metadata": {},
   "source": [
    "### Обратная итерация\n",
    "\n",
    "Теперь полагаем известным некоторый вектор $s$ и организуем пересчет вектора r, затем объединим все в одну функцию и будем чередовать до тех пор пока не сойдемся с нужной точностью.\n",
    "У ТЕМУРШОЕВА ТУТ ОПЕЧАТКА.\n",
    "\n",
    "\n",
    "$$ \\begin{cases}\n",
    "r_i = \\dfrac{u_i + \\sqrt{u^2_i + 4 p_i(s)n_i(s)}}{2p_i(s)}\\\\\n",
    "p_i(s) = \\sum\\limits_j p_{ij}s_j\\\\\n",
    "n_i(s) = \\sum\\limits_{j} \\dfrac{n_{ij}}{s_j}\n",
    "\\end{cases}$$"
   ]
  },
  {
   "cell_type": "code",
   "execution_count": 193,
   "metadata": {},
   "outputs": [],
   "source": [
    "def count_p_ij_s(s,P):\n",
    "    res = np.dot(P,s.reshape(-1,1))\n",
    "    return np.sum(res, axis = 1)\n",
    "\n",
    "def count_n_ij_s(s,N):\n",
    "    s = 1/s\n",
    "    res = N@(s.reshape(-1,1))\n",
    "    return np.sum(res, axis = 1)\n",
    "\n",
    "\n",
    "def count_r_i(s,P,N,u):\n",
    "    p = count_p_ij_s(s,P)\n",
    "    n = count_n_ij_s(s,N)\n",
    "    \n",
    "    sqr = np.sqrt(u**2 + 4*p*n)\n",
    "    r = (u + sqr)/(2*p)\n",
    "    return r"
   ]
  },
  {
   "cell_type": "markdown",
   "metadata": {},
   "source": [
    "### Сборка.\n",
    "\n",
    "Все предварительные операции отлажены, начнем сборку. На вход подается, например, базовая матрица A, вектора ограничений (заранее известные). На выход необходимо подать результирующую матрицу X с заранее известной (также подается) точностью $\\epsilon$.\n",
    "\n",
    "План действий:\n",
    "\n",
    "* получаем матрицу A\n",
    "\n",
    "* раскладываем на P,N\n",
    "\n",
    "* полагаем начальный вектор r единичным\n",
    "\n",
    "* итерируемся до тех пор, пока разница между предыдущим r и новым не станет меньше заранее заданной точности\n",
    "\n",
    "* действуем на матрицу А слева и справа итоговыми преобразованиями, выводим матрицу Х, считаем функцию качества"
   ]
  },
  {
   "cell_type": "code",
   "execution_count": 194,
   "metadata": {},
   "outputs": [
    {
     "name": "stdout",
     "output_type": "stream",
     "text": [
      "300\n"
     ]
    }
   ],
   "source": [
    "# потом завернем все это в функцию, пока прост с ячейкой поработаем\n",
    "import copy\n",
    "\n",
    "\n",
    "\n",
    "'''\n",
    "Разделяем матрицу\n",
    "'''\n",
    "\n",
    "P = split_A_to_PN(A)[0]\n",
    "\n",
    "N = split_A_to_PN(A)[1]\n",
    "\n",
    "\n",
    "'''\n",
    "Тривиальное левое преобразование\n",
    "'''\n",
    "\n",
    "r = np.ones(A.shape[0])\n",
    "\n",
    "''' \n",
    "Задаем интересующую нас точность (пока на r)\n",
    "'''\n",
    "\n",
    "eps = 1e-30\n",
    "\n",
    "\n",
    "'''\n",
    "До тех пор, пока предыдущий вектор r (какая разница) \n",
    "не будет отличаться от следующего меньше чем на eps,\n",
    "итерируемся туда-обратно\n",
    "'''\n",
    "\n",
    "memory = np.zeros(len(r))\n",
    "counter = 0\n",
    "limit = 1000000\n",
    "\n",
    "while np.linalg.norm(r - memory) > eps and counter < limit:\n",
    "    \n",
    "    s = count_s_j(r,P,N,v)\n",
    "    memory = r.copy()\n",
    "    r = count_r_i(s,P,N,u)\n",
    "    counter  += 1\n",
    "print(counter)\n",
    "#print(r)\n",
    "#print(s)"
   ]
  },
  {
   "cell_type": "code",
   "execution_count": 195,
   "metadata": {},
   "outputs": [],
   "source": [
    "RESULT = np.diag(r)@(A)@np.diag(s)"
   ]
  },
  {
   "cell_type": "code",
   "execution_count": 196,
   "metadata": {},
   "outputs": [
    {
     "data": {
      "text/plain": [
       "array([1.00745991, 0.9871074 , 1.02519013, 1.11923353, 1.05006806,\n",
       "       0.1673411 , 0.96013752, 0.98418529, 0.98344321, 1.11336474,\n",
       "       0.92581506, 1.12901796, 0.8651031 , 1.07122435, 1.00670517,\n",
       "       1.06343169, 0.77233828, 0.97215061, 0.88156879, 0.79035865,\n",
       "       0.85949531, 1.19497881, 0.83329368, 1.00210204, 0.99360912,\n",
       "       0.92094544, 1.3335328 , 0.70248259, 1.33495483, 0.79221281,\n",
       "       0.96497659, 1.0492727 , 0.95016737, 0.9911664 , 1.12891474,\n",
       "       1.08134928, 1.08557912, 1.05705056, 0.9330816 , 1.07050816,\n",
       "       0.93466104, 1.39660664, 0.96850161, 0.9042918 , 1.17045476,\n",
       "       1.64969372, 1.36350588, 2.70252523, 1.44701548, 0.87027845,\n",
       "       1.21543402, 1.03182717, 0.7258793 , 1.08808063, 0.97417352,\n",
       "       1.21518913, 1.20819445, 1.06730706, 0.56953982])"
      ]
     },
     "execution_count": 196,
     "metadata": {},
     "output_type": "execute_result"
    }
   ],
   "source": [
    "r"
   ]
  },
  {
   "cell_type": "code",
   "execution_count": 197,
   "metadata": {},
   "outputs": [
    {
     "name": "stdout",
     "output_type": "stream",
     "text": [
      "Качество подгонки вектора ограничений по строкам: \n",
      "\n"
     ]
    },
    {
     "data": {
      "text/plain": [
       "array([ 0.00000000e+00, -2.91038305e-11, -2.91038305e-11, -1.16415322e-10,\n",
       "        0.00000000e+00,  0.00000000e+00,  0.00000000e+00, -2.91038305e-11,\n",
       "        1.86264515e-09, -2.91038305e-11,  0.00000000e+00,  0.00000000e+00,\n",
       "       -7.27595761e-12, -5.82076609e-11, -5.82076609e-11,  5.82076609e-11,\n",
       "        1.86264515e-09, -2.32830644e-10, -1.16415322e-10, -1.16415322e-10,\n",
       "        0.00000000e+00, -1.16415322e-10,  0.00000000e+00,  1.45519152e-11,\n",
       "       -1.16415322e-10, -5.82076609e-11,  5.82076609e-11,  0.00000000e+00,\n",
       "        0.00000000e+00, -5.82076609e-11,  0.00000000e+00,  9.31322575e-10,\n",
       "       -2.91038305e-11,  0.00000000e+00, -1.16415322e-10,  0.00000000e+00,\n",
       "        0.00000000e+00, -1.16415322e-10,  0.00000000e+00, -2.91038305e-11,\n",
       "       -1.16415322e-10,  4.65661287e-10, -1.16415322e-10, -1.16415322e-10,\n",
       "        0.00000000e+00, -7.27595761e-12,  4.65661287e-10, -2.91038305e-11,\n",
       "       -1.16415322e-10,  0.00000000e+00,  0.00000000e+00,  0.00000000e+00,\n",
       "        5.82076609e-11, -2.32830644e-10, -2.91038305e-11, -2.91038305e-11,\n",
       "       -1.16415322e-10,  1.45519152e-11, -1.11022302e-16])"
      ]
     },
     "execution_count": 197,
     "metadata": {},
     "output_type": "execute_result"
    }
   ],
   "source": [
    "print('Качество подгонки вектора ограничений по строкам: \\n')\n",
    "\n",
    "np.round(RESULT.sum(axis = 1),2) - u"
   ]
  },
  {
   "cell_type": "code",
   "execution_count": 198,
   "metadata": {},
   "outputs": [
    {
     "name": "stdout",
     "output_type": "stream",
     "text": [
      "Качество подгонки вектора ограничений по столбцам: \n",
      "\n"
     ]
    },
    {
     "data": {
      "text/plain": [
       "array([ 2.32830644e-09, -1.45519152e-10,  4.36557457e-11, -1.16415322e-10,\n",
       "        1.86264515e-09, -9.09494702e-13, -1.16415322e-10, -5.82076609e-11,\n",
       "        0.00000000e+00,  1.81898940e-11,  1.16415322e-10, -2.91038305e-11,\n",
       "        0.00000000e+00,  0.00000000e+00, -1.16415322e-10,  0.00000000e+00,\n",
       "        0.00000000e+00,  0.00000000e+00,  0.00000000e+00, -2.32830644e-10,\n",
       "        0.00000000e+00,  0.00000000e+00,  4.65661287e-10,  5.82076609e-11,\n",
       "        0.00000000e+00, -1.16415322e-10, -1.16415322e-10,  0.00000000e+00,\n",
       "        0.00000000e+00, -2.91038305e-11, -5.82076609e-11,  9.31322575e-10,\n",
       "       -2.91038305e-11,  0.00000000e+00, -5.82076609e-11, -1.16415322e-10,\n",
       "       -9.09494702e-13,  0.00000000e+00,  0.00000000e+00,  1.45519152e-11,\n",
       "        0.00000000e+00,  0.00000000e+00, -1.16415322e-10,  0.00000000e+00,\n",
       "        0.00000000e+00, -2.91038305e-11,  0.00000000e+00,  0.00000000e+00,\n",
       "        0.00000000e+00,  1.45519152e-11,  0.00000000e+00, -5.82076609e-11,\n",
       "       -2.91038305e-11, -2.91038305e-11,  5.82076609e-11, -1.11022302e-16,\n",
       "       -5.82076609e-11,  3.63797881e-12, -1.11022302e-16])"
      ]
     },
     "execution_count": 198,
     "metadata": {},
     "output_type": "execute_result"
    }
   ],
   "source": [
    "print('Качество подгонки вектора ограничений по столбцам: \\n')\n",
    "\n",
    "np.round(RESULT.sum(axis = 0),2) - v "
   ]
  },
  {
   "cell_type": "code",
   "execution_count": 199,
   "metadata": {},
   "outputs": [
    {
     "name": "stdout",
     "output_type": "stream",
     "text": [
      "Значение метрики MAPE: 94.45501935201085\n",
      " \n",
      "Значение метрики WAPE: 17.403135386536906 \n",
      "\n",
      "Значение метрики PsiStat: 0.02072917708855245\n",
      " \n",
      "Значение метрики SWAD: 0.11300573890788376 \n",
      " \n",
      "Значение метрики RSQ: 0.9717619233926396 \n",
      " \n",
      "Значение метрики N0: 150 \n"
     ]
    }
   ],
   "source": [
    "print('Значение метрики MAPE: {}'.format(metrics.mape(X-1,RESULT-1)))\n",
    "print(' ')\n",
    "print('Значение метрики WAPE: {} '.format(metrics.wape(X-1,RESULT-1)))\n",
    "print()\n",
    "print('Значение метрики PsiStat: {}'.format(metrics.PsiStat(X-1,RESULT-1)))\n",
    "print(' ')\n",
    "print('Значение метрики SWAD: {} '.format(metrics.swad(X-1,RESULT-1)))\n",
    "print(' ')\n",
    "print('Значение метрики RSQ: {} '.format(metrics.RSQ(X-1,RESULT-1)))\n",
    "print(' ')\n",
    "print('Значение метрики N0: {} '.format(metrics.N0(X-1,RESULT-1)))"
   ]
  },
  {
   "cell_type": "markdown",
   "metadata": {},
   "source": [
    "## 3.2. Проекция"
   ]
  },
  {
   "cell_type": "code",
   "execution_count": null,
   "metadata": {},
   "outputs": [],
   "source": [
    "#Эксперимент: проекция таблицы 2016 года из таблицы 2011 года\n",
    "#Бенчмарк: basic_use2011_vec (векторизованная таблица за 2011 год с максимальной агрегацией)\n",
    "#Ограничения: таблица totals_basic_use2016\n",
    "#Методы: NRAS, точность 0.01, 100 иттераций, INSD, Kuroda(1,2,3)\n",
    "\n",
    "projection_for_all_methods('basic_use2011_vec', 'totals_basic_use2016', 'basic_use2016_vec')"
   ]
  }
 ],
 "metadata": {
  "kernelspec": {
   "display_name": "Python 3",
   "language": "python",
   "name": "python3"
  },
  "language_info": {
   "codemirror_mode": {
    "name": "ipython",
    "version": 3
   },
   "file_extension": ".py",
   "mimetype": "text/x-python",
   "name": "python",
   "nbconvert_exporter": "python",
   "pygments_lexer": "ipython3",
   "version": "3.7.6"
  },
  "pycharm": {
   "stem_cell": {
    "cell_type": "raw",
    "metadata": {
     "collapsed": false
    },
    "source": []
   }
  }
 },
 "nbformat": 4,
 "nbformat_minor": 4
}
