{
 "cells": [
  {
   "cell_type": "code",
   "execution_count": 42,
   "metadata": {
    "pycharm": {
     "is_executing": false,
     "name": "#%%\n"
    }
   },
   "outputs": [],
   "source": [
    "from scripts import support, metrics, vectorization as v, aggregation\n",
    "from scripts.gras import GRAS\n",
    "from scripts.kuroda import kuroda\n",
    "from scripts.insd import insd\n",
    "from scripts.nras import nras\n",
    "import numpy as np\n",
    "import pandas as pd\n",
    "import matplotlib.pyplot as plt\n",
    "import sys\n",
    "import gurobipy as gr\n",
    "from scipy.sparse import csr_matrix\n",
    "%matplotlib inline"
   ]
  },
  {
   "cell_type": "code",
   "execution_count": 43,
   "metadata": {},
   "outputs": [
    {
     "name": "stdout",
     "output_type": "stream",
     "text": [
      "Requirement already up-to-date: pandas==1.0.0rc0 in c:\\users\\maksim komatovskiy\\anaconda3\\lib\\site-packages (1.0.0rc0)\n",
      "Requirement already satisfied, skipping upgrade: numpy>=1.13.3 in c:\\users\\maksim komatovskiy\\anaconda3\\lib\\site-packages (from pandas==1.0.0rc0) (1.18.1)\n",
      "Requirement already satisfied, skipping upgrade: python-dateutil>=2.6.1 in c:\\users\\maksim komatovskiy\\anaconda3\\lib\\site-packages (from pandas==1.0.0rc0) (2.8.1)\n",
      "Requirement already satisfied, skipping upgrade: pytz>=2017.2 in c:\\users\\maksim komatovskiy\\anaconda3\\lib\\site-packages (from pandas==1.0.0rc0) (2019.3)\n",
      "Requirement already satisfied, skipping upgrade: six>=1.5 in c:\\users\\maksim komatovskiy\\anaconda3\\lib\\site-packages (from python-dateutil>=2.6.1->pandas==1.0.0rc0) (1.14.0)\n"
     ]
    }
   ],
   "source": [
    "!pip install --upgrade pandas==1.0.0rc0"
   ]
  },
  {
   "cell_type": "code",
   "execution_count": 44,
   "metadata": {},
   "outputs": [],
   "source": [
    "#!conda install gurobi"
   ]
  },
  {
   "cell_type": "markdown",
   "metadata": {},
   "source": [
    "# 1. Таблицы ресурсов"
   ]
  },
  {
   "cell_type": "markdown",
   "metadata": {},
   "source": [
    "## 1.1. Препроцессинг (с агрегированием)"
   ]
  },
  {
   "cell_type": "markdown",
   "metadata": {},
   "source": [
    "### Таблица ресурсов за 2011 год"
   ]
  },
  {
   "cell_type": "markdown",
   "metadata": {},
   "source": [
    "Загружаем базовую таблицу ресурсов за 2011 год."
   ]
  },
  {
   "cell_type": "code",
   "execution_count": 45,
   "metadata": {},
   "outputs": [
    {
     "name": "stdout",
     "output_type": "stream",
     "text": [
      "Размер базовой таблицы ресурсов за 2011 год:  (248, 178)\n"
     ]
    }
   ],
   "source": [
    "# Базовая таблица РЕСУРСОВ за 2011\n",
    "\n",
    "df = pd.read_excel(\"./data/baz2011.xlsx\", \"ТР\")\n",
    "df = df.iloc[1:-3,3:-7]\n",
    "df = df.fillna(0)\n",
    "\n",
    "supply2011_codes = df.drop(df.index[[1]], axis=0) # таблица 2011 года с кодами\n",
    "supply2011 = df.drop(df.index[[0,1]], axis=0) # таблица 2011 года без кодов\n",
    "\n",
    "print('Размер базовой таблицы ресурсов за 2011 год: ', supply2011.shape)"
   ]
  },
  {
   "cell_type": "markdown",
   "metadata": {},
   "source": [
    "##### __Агрегирование по отраслям (столбцы)__"
   ]
  },
  {
   "cell_type": "markdown",
   "metadata": {},
   "source": [
    "Поскольку степени агрегации для 2011 и 2016 годов различны, сделаем единую систему: будем объединять все отрасли с одинаковым начальным номером (проверяем первые две цифры), суммируя внутренние значения. "
   ]
  },
  {
   "cell_type": "code",
   "execution_count": 46,
   "metadata": {},
   "outputs": [],
   "source": [
    "# В строке с кодами оставим только первые два символа - по ним и будем объединять\n",
    "\n",
    "for i in range(178):\n",
    "    a = str(supply2011_codes.loc[1][i])\n",
    "    a = a[:2]\n",
    "    supply2011_codes.loc[1][i] = a\n",
    "    \n",
    "supply2011_codes.columns = supply2011_codes.iloc[0] # сделали преобразованную строку с кодами -- заголовками\n",
    "supply2011_codes = supply2011_codes.drop(supply2011_codes.index[0]) # избавились от отдельной строки с кодами\n",
    "\n",
    "supply2011_codes = supply2011_codes.groupby(supply2011_codes.columns, axis=1).sum() # объединили данные в таблице по одинаковым столбцам\n",
    "                                                                              # (внутри суммируем)"
   ]
  },
  {
   "cell_type": "markdown",
   "metadata": {},
   "source": [
    "##### __Агрегирование по продуктам (строки)__"
   ]
  },
  {
   "cell_type": "code",
   "execution_count": 47,
   "metadata": {},
   "outputs": [
    {
     "name": "stdout",
     "output_type": "stream",
     "text": [
      "put_cell 19 28\n"
     ]
    },
    {
     "ename": "KeyboardInterrupt",
     "evalue": "",
     "output_type": "error",
     "traceback": [
      "\u001b[1;31m---------------------------------------------------------------------------\u001b[0m",
      "\u001b[1;31mKeyboardInterrupt\u001b[0m                         Traceback (most recent call last)",
      "\u001b[1;32m<ipython-input-47-5a4b0d233407>\u001b[0m in \u001b[0;36m<module>\u001b[1;34m\u001b[0m\n\u001b[0;32m      6\u001b[0m     \u001b[1;32mreturn\u001b[0m \u001b[0ma\u001b[0m\u001b[1;33m\u001b[0m\u001b[1;33m\u001b[0m\u001b[0m\n\u001b[0;32m      7\u001b[0m \u001b[1;33m\u001b[0m\u001b[0m\n\u001b[1;32m----> 8\u001b[1;33m \u001b[0mdf\u001b[0m \u001b[1;33m=\u001b[0m \u001b[0mpd\u001b[0m\u001b[1;33m.\u001b[0m\u001b[0mread_excel\u001b[0m\u001b[1;33m(\u001b[0m\u001b[1;34m\"./data/baz2011.xlsx\"\u001b[0m\u001b[1;33m,\u001b[0m \u001b[1;34m\"ТР\"\u001b[0m\u001b[1;33m)\u001b[0m \u001b[1;31m# считали столбец с кодами\u001b[0m\u001b[1;33m\u001b[0m\u001b[1;33m\u001b[0m\u001b[0m\n\u001b[0m\u001b[0;32m      9\u001b[0m \u001b[0mdf\u001b[0m \u001b[1;33m=\u001b[0m \u001b[0mdf\u001b[0m\u001b[1;33m.\u001b[0m\u001b[0miloc\u001b[0m\u001b[1;33m[\u001b[0m\u001b[1;36m3\u001b[0m\u001b[1;33m:\u001b[0m\u001b[1;33m-\u001b[0m\u001b[1;36m3\u001b[0m\u001b[1;33m,\u001b[0m\u001b[1;36m1\u001b[0m\u001b[1;33m:\u001b[0m\u001b[1;36m2\u001b[0m\u001b[1;33m]\u001b[0m\u001b[1;33m\u001b[0m\u001b[1;33m\u001b[0m\u001b[0m\n\u001b[0;32m     10\u001b[0m \u001b[0mdf\u001b[0m \u001b[1;33m=\u001b[0m \u001b[0mdf\u001b[0m\u001b[1;33m.\u001b[0m\u001b[0mfillna\u001b[0m\u001b[1;33m(\u001b[0m\u001b[1;36m0\u001b[0m\u001b[1;33m)\u001b[0m\u001b[1;33m\u001b[0m\u001b[1;33m\u001b[0m\u001b[0m\n",
      "\u001b[1;32m~\\anaconda3\\lib\\site-packages\\pandas\\io\\excel\\_base.py\u001b[0m in \u001b[0;36mread_excel\u001b[1;34m(io, sheet_name, header, names, index_col, usecols, squeeze, dtype, engine, converters, true_values, false_values, skiprows, nrows, na_values, keep_default_na, verbose, parse_dates, date_parser, thousands, comment, skipfooter, convert_float, mangle_dupe_cols, **kwds)\u001b[0m\n\u001b[0;32m    301\u001b[0m \u001b[1;33m\u001b[0m\u001b[0m\n\u001b[0;32m    302\u001b[0m     \u001b[1;32mif\u001b[0m \u001b[1;32mnot\u001b[0m \u001b[0misinstance\u001b[0m\u001b[1;33m(\u001b[0m\u001b[0mio\u001b[0m\u001b[1;33m,\u001b[0m \u001b[0mExcelFile\u001b[0m\u001b[1;33m)\u001b[0m\u001b[1;33m:\u001b[0m\u001b[1;33m\u001b[0m\u001b[1;33m\u001b[0m\u001b[0m\n\u001b[1;32m--> 303\u001b[1;33m         \u001b[0mio\u001b[0m \u001b[1;33m=\u001b[0m \u001b[0mExcelFile\u001b[0m\u001b[1;33m(\u001b[0m\u001b[0mio\u001b[0m\u001b[1;33m,\u001b[0m \u001b[0mengine\u001b[0m\u001b[1;33m=\u001b[0m\u001b[0mengine\u001b[0m\u001b[1;33m)\u001b[0m\u001b[1;33m\u001b[0m\u001b[1;33m\u001b[0m\u001b[0m\n\u001b[0m\u001b[0;32m    304\u001b[0m     \u001b[1;32melif\u001b[0m \u001b[0mengine\u001b[0m \u001b[1;32mand\u001b[0m \u001b[0mengine\u001b[0m \u001b[1;33m!=\u001b[0m \u001b[0mio\u001b[0m\u001b[1;33m.\u001b[0m\u001b[0mengine\u001b[0m\u001b[1;33m:\u001b[0m\u001b[1;33m\u001b[0m\u001b[1;33m\u001b[0m\u001b[0m\n\u001b[0;32m    305\u001b[0m         raise ValueError(\n",
      "\u001b[1;32m~\\anaconda3\\lib\\site-packages\\pandas\\io\\excel\\_base.py\u001b[0m in \u001b[0;36m__init__\u001b[1;34m(self, io, engine)\u001b[0m\n\u001b[0;32m    812\u001b[0m         \u001b[0mself\u001b[0m\u001b[1;33m.\u001b[0m\u001b[0m_io\u001b[0m \u001b[1;33m=\u001b[0m \u001b[0mstringify_path\u001b[0m\u001b[1;33m(\u001b[0m\u001b[0mio\u001b[0m\u001b[1;33m)\u001b[0m\u001b[1;33m\u001b[0m\u001b[1;33m\u001b[0m\u001b[0m\n\u001b[0;32m    813\u001b[0m \u001b[1;33m\u001b[0m\u001b[0m\n\u001b[1;32m--> 814\u001b[1;33m         \u001b[0mself\u001b[0m\u001b[1;33m.\u001b[0m\u001b[0m_reader\u001b[0m \u001b[1;33m=\u001b[0m \u001b[0mself\u001b[0m\u001b[1;33m.\u001b[0m\u001b[0m_engines\u001b[0m\u001b[1;33m[\u001b[0m\u001b[0mengine\u001b[0m\u001b[1;33m]\u001b[0m\u001b[1;33m(\u001b[0m\u001b[0mself\u001b[0m\u001b[1;33m.\u001b[0m\u001b[0m_io\u001b[0m\u001b[1;33m)\u001b[0m\u001b[1;33m\u001b[0m\u001b[1;33m\u001b[0m\u001b[0m\n\u001b[0m\u001b[0;32m    815\u001b[0m \u001b[1;33m\u001b[0m\u001b[0m\n\u001b[0;32m    816\u001b[0m     \u001b[1;32mdef\u001b[0m \u001b[0m__fspath__\u001b[0m\u001b[1;33m(\u001b[0m\u001b[0mself\u001b[0m\u001b[1;33m)\u001b[0m\u001b[1;33m:\u001b[0m\u001b[1;33m\u001b[0m\u001b[1;33m\u001b[0m\u001b[0m\n",
      "\u001b[1;32m~\\anaconda3\\lib\\site-packages\\pandas\\io\\excel\\_xlrd.py\u001b[0m in \u001b[0;36m__init__\u001b[1;34m(self, filepath_or_buffer)\u001b[0m\n\u001b[0;32m     19\u001b[0m         \u001b[0merr_msg\u001b[0m \u001b[1;33m=\u001b[0m \u001b[1;34m\"Install xlrd >= 1.0.0 for Excel support\"\u001b[0m\u001b[1;33m\u001b[0m\u001b[1;33m\u001b[0m\u001b[0m\n\u001b[0;32m     20\u001b[0m         \u001b[0mimport_optional_dependency\u001b[0m\u001b[1;33m(\u001b[0m\u001b[1;34m\"xlrd\"\u001b[0m\u001b[1;33m,\u001b[0m \u001b[0mextra\u001b[0m\u001b[1;33m=\u001b[0m\u001b[0merr_msg\u001b[0m\u001b[1;33m)\u001b[0m\u001b[1;33m\u001b[0m\u001b[1;33m\u001b[0m\u001b[0m\n\u001b[1;32m---> 21\u001b[1;33m         \u001b[0msuper\u001b[0m\u001b[1;33m(\u001b[0m\u001b[1;33m)\u001b[0m\u001b[1;33m.\u001b[0m\u001b[0m__init__\u001b[0m\u001b[1;33m(\u001b[0m\u001b[0mfilepath_or_buffer\u001b[0m\u001b[1;33m)\u001b[0m\u001b[1;33m\u001b[0m\u001b[1;33m\u001b[0m\u001b[0m\n\u001b[0m\u001b[0;32m     22\u001b[0m \u001b[1;33m\u001b[0m\u001b[0m\n\u001b[0;32m     23\u001b[0m     \u001b[1;33m@\u001b[0m\u001b[0mproperty\u001b[0m\u001b[1;33m\u001b[0m\u001b[1;33m\u001b[0m\u001b[0m\n",
      "\u001b[1;32m~\\anaconda3\\lib\\site-packages\\pandas\\io\\excel\\_base.py\u001b[0m in \u001b[0;36m__init__\u001b[1;34m(self, filepath_or_buffer)\u001b[0m\n\u001b[0;32m    350\u001b[0m             \u001b[0mself\u001b[0m\u001b[1;33m.\u001b[0m\u001b[0mbook\u001b[0m \u001b[1;33m=\u001b[0m \u001b[0mself\u001b[0m\u001b[1;33m.\u001b[0m\u001b[0mload_workbook\u001b[0m\u001b[1;33m(\u001b[0m\u001b[0mfilepath_or_buffer\u001b[0m\u001b[1;33m)\u001b[0m\u001b[1;33m\u001b[0m\u001b[1;33m\u001b[0m\u001b[0m\n\u001b[0;32m    351\u001b[0m         \u001b[1;32melif\u001b[0m \u001b[0misinstance\u001b[0m\u001b[1;33m(\u001b[0m\u001b[0mfilepath_or_buffer\u001b[0m\u001b[1;33m,\u001b[0m \u001b[0mstr\u001b[0m\u001b[1;33m)\u001b[0m\u001b[1;33m:\u001b[0m\u001b[1;33m\u001b[0m\u001b[1;33m\u001b[0m\u001b[0m\n\u001b[1;32m--> 352\u001b[1;33m             \u001b[0mself\u001b[0m\u001b[1;33m.\u001b[0m\u001b[0mbook\u001b[0m \u001b[1;33m=\u001b[0m \u001b[0mself\u001b[0m\u001b[1;33m.\u001b[0m\u001b[0mload_workbook\u001b[0m\u001b[1;33m(\u001b[0m\u001b[0mfilepath_or_buffer\u001b[0m\u001b[1;33m)\u001b[0m\u001b[1;33m\u001b[0m\u001b[1;33m\u001b[0m\u001b[0m\n\u001b[0m\u001b[0;32m    353\u001b[0m         \u001b[1;32melif\u001b[0m \u001b[0misinstance\u001b[0m\u001b[1;33m(\u001b[0m\u001b[0mfilepath_or_buffer\u001b[0m\u001b[1;33m,\u001b[0m \u001b[0mbytes\u001b[0m\u001b[1;33m)\u001b[0m\u001b[1;33m:\u001b[0m\u001b[1;33m\u001b[0m\u001b[1;33m\u001b[0m\u001b[0m\n\u001b[0;32m    354\u001b[0m             \u001b[0mself\u001b[0m\u001b[1;33m.\u001b[0m\u001b[0mbook\u001b[0m \u001b[1;33m=\u001b[0m \u001b[0mself\u001b[0m\u001b[1;33m.\u001b[0m\u001b[0mload_workbook\u001b[0m\u001b[1;33m(\u001b[0m\u001b[0mBytesIO\u001b[0m\u001b[1;33m(\u001b[0m\u001b[0mfilepath_or_buffer\u001b[0m\u001b[1;33m)\u001b[0m\u001b[1;33m)\u001b[0m\u001b[1;33m\u001b[0m\u001b[1;33m\u001b[0m\u001b[0m\n",
      "\u001b[1;32m~\\anaconda3\\lib\\site-packages\\pandas\\io\\excel\\_xlrd.py\u001b[0m in \u001b[0;36mload_workbook\u001b[1;34m(self, filepath_or_buffer)\u001b[0m\n\u001b[0;32m     34\u001b[0m             \u001b[1;32mreturn\u001b[0m \u001b[0mopen_workbook\u001b[0m\u001b[1;33m(\u001b[0m\u001b[0mfile_contents\u001b[0m\u001b[1;33m=\u001b[0m\u001b[0mdata\u001b[0m\u001b[1;33m)\u001b[0m\u001b[1;33m\u001b[0m\u001b[1;33m\u001b[0m\u001b[0m\n\u001b[0;32m     35\u001b[0m         \u001b[1;32melse\u001b[0m\u001b[1;33m:\u001b[0m\u001b[1;33m\u001b[0m\u001b[1;33m\u001b[0m\u001b[0m\n\u001b[1;32m---> 36\u001b[1;33m             \u001b[1;32mreturn\u001b[0m \u001b[0mopen_workbook\u001b[0m\u001b[1;33m(\u001b[0m\u001b[0mfilepath_or_buffer\u001b[0m\u001b[1;33m)\u001b[0m\u001b[1;33m\u001b[0m\u001b[1;33m\u001b[0m\u001b[0m\n\u001b[0m\u001b[0;32m     37\u001b[0m \u001b[1;33m\u001b[0m\u001b[0m\n\u001b[0;32m     38\u001b[0m     \u001b[1;33m@\u001b[0m\u001b[0mproperty\u001b[0m\u001b[1;33m\u001b[0m\u001b[1;33m\u001b[0m\u001b[0m\n",
      "\u001b[1;32m~\\anaconda3\\lib\\site-packages\\xlrd\\__init__.py\u001b[0m in \u001b[0;36mopen_workbook\u001b[1;34m(filename, logfile, verbosity, use_mmap, file_contents, encoding_override, formatting_info, on_demand, ragged_rows)\u001b[0m\n\u001b[0;32m    136\u001b[0m                 \u001b[0mformatting_info\u001b[0m\u001b[1;33m=\u001b[0m\u001b[0mformatting_info\u001b[0m\u001b[1;33m,\u001b[0m\u001b[1;33m\u001b[0m\u001b[1;33m\u001b[0m\u001b[0m\n\u001b[0;32m    137\u001b[0m                 \u001b[0mon_demand\u001b[0m\u001b[1;33m=\u001b[0m\u001b[0mon_demand\u001b[0m\u001b[1;33m,\u001b[0m\u001b[1;33m\u001b[0m\u001b[1;33m\u001b[0m\u001b[0m\n\u001b[1;32m--> 138\u001b[1;33m                 \u001b[0mragged_rows\u001b[0m\u001b[1;33m=\u001b[0m\u001b[0mragged_rows\u001b[0m\u001b[1;33m,\u001b[0m\u001b[1;33m\u001b[0m\u001b[1;33m\u001b[0m\u001b[0m\n\u001b[0m\u001b[0;32m    139\u001b[0m             )\n\u001b[0;32m    140\u001b[0m             \u001b[1;32mreturn\u001b[0m \u001b[0mbk\u001b[0m\u001b[1;33m\u001b[0m\u001b[1;33m\u001b[0m\u001b[0m\n",
      "\u001b[1;32m~\\anaconda3\\lib\\site-packages\\xlrd\\xlsx.py\u001b[0m in \u001b[0;36mopen_workbook_2007_xml\u001b[1;34m(zf, component_names, logfile, verbosity, use_mmap, formatting_info, on_demand, ragged_rows)\u001b[0m\n\u001b[0;32m    839\u001b[0m         \u001b[0mx12sheet\u001b[0m \u001b[1;33m=\u001b[0m \u001b[0mX12Sheet\u001b[0m\u001b[1;33m(\u001b[0m\u001b[0msheet\u001b[0m\u001b[1;33m,\u001b[0m \u001b[0mlogfile\u001b[0m\u001b[1;33m,\u001b[0m \u001b[0mverbosity\u001b[0m\u001b[1;33m)\u001b[0m\u001b[1;33m\u001b[0m\u001b[1;33m\u001b[0m\u001b[0m\n\u001b[0;32m    840\u001b[0m         \u001b[0mheading\u001b[0m \u001b[1;33m=\u001b[0m \u001b[1;34m\"Sheet %r (sheetx=%d) from %r\"\u001b[0m \u001b[1;33m%\u001b[0m \u001b[1;33m(\u001b[0m\u001b[0msheet\u001b[0m\u001b[1;33m.\u001b[0m\u001b[0mname\u001b[0m\u001b[1;33m,\u001b[0m \u001b[0msheetx\u001b[0m\u001b[1;33m,\u001b[0m \u001b[0mfname\u001b[0m\u001b[1;33m)\u001b[0m\u001b[1;33m\u001b[0m\u001b[1;33m\u001b[0m\u001b[0m\n\u001b[1;32m--> 841\u001b[1;33m         \u001b[0mx12sheet\u001b[0m\u001b[1;33m.\u001b[0m\u001b[0mprocess_stream\u001b[0m\u001b[1;33m(\u001b[0m\u001b[0mzflo\u001b[0m\u001b[1;33m,\u001b[0m \u001b[0mheading\u001b[0m\u001b[1;33m)\u001b[0m\u001b[1;33m\u001b[0m\u001b[1;33m\u001b[0m\u001b[0m\n\u001b[0m\u001b[0;32m    842\u001b[0m         \u001b[1;32mdel\u001b[0m \u001b[0mzflo\u001b[0m\u001b[1;33m\u001b[0m\u001b[1;33m\u001b[0m\u001b[0m\n\u001b[0;32m    843\u001b[0m \u001b[1;33m\u001b[0m\u001b[0m\n",
      "\u001b[1;32m~\\anaconda3\\lib\\site-packages\\xlrd\\xlsx.py\u001b[0m in \u001b[0;36mown_process_stream\u001b[1;34m(self, stream, heading)\u001b[0m\n\u001b[0;32m    548\u001b[0m         \u001b[1;32mfor\u001b[0m \u001b[0mevent\u001b[0m\u001b[1;33m,\u001b[0m \u001b[0melem\u001b[0m \u001b[1;32min\u001b[0m \u001b[0mET\u001b[0m\u001b[1;33m.\u001b[0m\u001b[0miterparse\u001b[0m\u001b[1;33m(\u001b[0m\u001b[0mstream\u001b[0m\u001b[1;33m)\u001b[0m\u001b[1;33m:\u001b[0m\u001b[1;33m\u001b[0m\u001b[1;33m\u001b[0m\u001b[0m\n\u001b[0;32m    549\u001b[0m             \u001b[1;32mif\u001b[0m \u001b[0melem\u001b[0m\u001b[1;33m.\u001b[0m\u001b[0mtag\u001b[0m \u001b[1;33m==\u001b[0m \u001b[0mrow_tag\u001b[0m\u001b[1;33m:\u001b[0m\u001b[1;33m\u001b[0m\u001b[1;33m\u001b[0m\u001b[0m\n\u001b[1;32m--> 550\u001b[1;33m                 \u001b[0mself_do_row\u001b[0m\u001b[1;33m(\u001b[0m\u001b[0melem\u001b[0m\u001b[1;33m)\u001b[0m\u001b[1;33m\u001b[0m\u001b[1;33m\u001b[0m\u001b[0m\n\u001b[0m\u001b[0;32m    551\u001b[0m                 \u001b[0melem\u001b[0m\u001b[1;33m.\u001b[0m\u001b[0mclear\u001b[0m\u001b[1;33m(\u001b[0m\u001b[1;33m)\u001b[0m \u001b[1;31m# destroy all child elements (cells)\u001b[0m\u001b[1;33m\u001b[0m\u001b[1;33m\u001b[0m\u001b[0m\n\u001b[0;32m    552\u001b[0m             \u001b[1;32melif\u001b[0m \u001b[0melem\u001b[0m\u001b[1;33m.\u001b[0m\u001b[0mtag\u001b[0m \u001b[1;33m==\u001b[0m \u001b[0mU_SSML12\u001b[0m \u001b[1;33m+\u001b[0m \u001b[1;34m\"dimension\"\u001b[0m\u001b[1;33m:\u001b[0m\u001b[1;33m\u001b[0m\u001b[1;33m\u001b[0m\u001b[0m\n",
      "\u001b[1;32m~\\anaconda3\\lib\\site-packages\\xlrd\\xlsx.py\u001b[0m in \u001b[0;36mdo_row\u001b[1;34m(self, row_elem)\u001b[0m\n\u001b[0;32m    690\u001b[0m                         \u001b[0mself\u001b[0m\u001b[1;33m.\u001b[0m\u001b[0msheet\u001b[0m\u001b[1;33m.\u001b[0m\u001b[0mput_cell\u001b[0m\u001b[1;33m(\u001b[0m\u001b[0mrowx\u001b[0m\u001b[1;33m,\u001b[0m \u001b[0mcolx\u001b[0m\u001b[1;33m,\u001b[0m \u001b[0mXL_CELL_BLANK\u001b[0m\u001b[1;33m,\u001b[0m \u001b[1;34m''\u001b[0m\u001b[1;33m,\u001b[0m \u001b[0mxf_index\u001b[0m\u001b[1;33m)\u001b[0m\u001b[1;33m\u001b[0m\u001b[1;33m\u001b[0m\u001b[0m\n\u001b[0;32m    691\u001b[0m                 \u001b[1;32melse\u001b[0m\u001b[1;33m:\u001b[0m\u001b[1;33m\u001b[0m\u001b[1;33m\u001b[0m\u001b[0m\n\u001b[1;32m--> 692\u001b[1;33m                     \u001b[0mself\u001b[0m\u001b[1;33m.\u001b[0m\u001b[0msheet\u001b[0m\u001b[1;33m.\u001b[0m\u001b[0mput_cell\u001b[0m\u001b[1;33m(\u001b[0m\u001b[0mrowx\u001b[0m\u001b[1;33m,\u001b[0m \u001b[0mcolx\u001b[0m\u001b[1;33m,\u001b[0m \u001b[1;32mNone\u001b[0m\u001b[1;33m,\u001b[0m \u001b[0mfloat\u001b[0m\u001b[1;33m(\u001b[0m\u001b[0mtvalue\u001b[0m\u001b[1;33m)\u001b[0m\u001b[1;33m,\u001b[0m \u001b[0mxf_index\u001b[0m\u001b[1;33m)\u001b[0m\u001b[1;33m\u001b[0m\u001b[1;33m\u001b[0m\u001b[0m\n\u001b[0m\u001b[0;32m    693\u001b[0m             \u001b[1;32melif\u001b[0m \u001b[0mcell_type\u001b[0m \u001b[1;33m==\u001b[0m \u001b[1;34m\"s\"\u001b[0m\u001b[1;33m:\u001b[0m\u001b[1;33m\u001b[0m\u001b[1;33m\u001b[0m\u001b[0m\n\u001b[0;32m    694\u001b[0m                 \u001b[1;31m# s = index into shared string table. 2nd most frequent type\u001b[0m\u001b[1;33m\u001b[0m\u001b[1;33m\u001b[0m\u001b[1;33m\u001b[0m\u001b[0m\n",
      "\u001b[1;32m~\\anaconda3\\lib\\site-packages\\xlrd\\sheet.py\u001b[0m in \u001b[0;36mput_cell_unragged\u001b[1;34m(self, rowx, colx, ctype, value, xf_index)\u001b[0m\n\u001b[0;32m    703\u001b[0m             \u001b[0mself\u001b[0m\u001b[1;33m.\u001b[0m\u001b[0m_cell_types\u001b[0m\u001b[1;33m[\u001b[0m\u001b[0mrowx\u001b[0m\u001b[1;33m]\u001b[0m\u001b[1;33m[\u001b[0m\u001b[0mcolx\u001b[0m\u001b[1;33m]\u001b[0m \u001b[1;33m=\u001b[0m \u001b[0mctype\u001b[0m\u001b[1;33m\u001b[0m\u001b[1;33m\u001b[0m\u001b[0m\n\u001b[0;32m    704\u001b[0m             \u001b[0mself\u001b[0m\u001b[1;33m.\u001b[0m\u001b[0m_cell_values\u001b[0m\u001b[1;33m[\u001b[0m\u001b[0mrowx\u001b[0m\u001b[1;33m]\u001b[0m\u001b[1;33m[\u001b[0m\u001b[0mcolx\u001b[0m\u001b[1;33m]\u001b[0m \u001b[1;33m=\u001b[0m \u001b[0mvalue\u001b[0m\u001b[1;33m\u001b[0m\u001b[1;33m\u001b[0m\u001b[0m\n\u001b[1;32m--> 705\u001b[1;33m             \u001b[1;32mif\u001b[0m \u001b[0mself\u001b[0m\u001b[1;33m.\u001b[0m\u001b[0mformatting_info\u001b[0m\u001b[1;33m:\u001b[0m\u001b[1;33m\u001b[0m\u001b[1;33m\u001b[0m\u001b[0m\n\u001b[0m\u001b[0;32m    706\u001b[0m                 \u001b[0mself\u001b[0m\u001b[1;33m.\u001b[0m\u001b[0m_cell_xf_indexes\u001b[0m\u001b[1;33m[\u001b[0m\u001b[0mrowx\u001b[0m\u001b[1;33m]\u001b[0m\u001b[1;33m[\u001b[0m\u001b[0mcolx\u001b[0m\u001b[1;33m]\u001b[0m \u001b[1;33m=\u001b[0m \u001b[0mxf_index\u001b[0m\u001b[1;33m\u001b[0m\u001b[1;33m\u001b[0m\u001b[0m\n\u001b[0;32m    707\u001b[0m         \u001b[1;32mexcept\u001b[0m \u001b[0mIndexError\u001b[0m\u001b[1;33m:\u001b[0m\u001b[1;33m\u001b[0m\u001b[1;33m\u001b[0m\u001b[0m\n",
      "\u001b[1;31mKeyboardInterrupt\u001b[0m: "
     ]
    }
   ],
   "source": [
    "# Создаем функцию, которая будет отрезать первые две цифры кода продукта\n",
    "\n",
    "def splitter(x):    \n",
    "    a = str(x)\n",
    "    a=a[:2]\n",
    "    return a\n",
    "\n",
    "df = pd.read_excel(\"./data/baz2011.xlsx\", \"ТР\") # считали столбец с кодами\n",
    "df = df.iloc[3:-3,1:2]\n",
    "df = df.fillna(0)\n",
    "supply2011_codes['codes_prod'] = df\n",
    "\n",
    "supply2011_codes['codes_prod'] = supply2011_codes['codes_prod'].apply(lambda x: splitter(x))  # преобразовали все коды до двух цифр\n",
    "supply2011_codes = supply2011_codes.groupby(supply2011_codes['codes_prod']).sum() # сгруппировали"
   ]
  },
  {
   "cell_type": "markdown",
   "metadata": {},
   "source": [
    "##### __Векторизация__"
   ]
  },
  {
   "cell_type": "code",
   "execution_count": null,
   "metadata": {},
   "outputs": [],
   "source": [
    "agg_supply2011 = supply2011_codes # теперь agg_supply2011 - агрегированная версия таблицы за 2011 год\n",
    "\n",
    "agg_supply2011_arr = np.array(supply2011_codes)\n",
    "agg_supply2011_vec = v.tovector(agg_supply2011_arr).astype(float)"
   ]
  },
  {
   "cell_type": "markdown",
   "metadata": {},
   "source": [
    "### Таблица ресурсов за 2016 год"
   ]
  },
  {
   "cell_type": "code",
   "execution_count": null,
   "metadata": {},
   "outputs": [],
   "source": [
    "# базовая таблица РЕСУРСОВ за 2016\n",
    "\n",
    "df = pd.read_excel(\"./data/baz2016.xlsx\", \"ТР \")\n",
    "df = df.iloc[1:-3,3:-7]\n",
    "df = df.fillna(0)\n",
    "\n",
    "supply2016_codes = df.drop(df.index[[1]], axis=0) # таблица 2011 года с кодами\n",
    "supply2016 = df.drop(df.index[[0,1]], axis=0) # таблица 2011 года без кодов\n",
    "\n",
    "show_supply2016_codes = supply2016_codes # сохранили, чтобы была возможность в любой момент посмотреть таблицу\n",
    "show_supply2016 = supply2016\n",
    "\n",
    "print('Размер базовой таблицы ресурсов за 2011 год: ', supply2016.shape)\n",
    "\n",
    "supply2016 = np.array(df.drop(df.index[[0,1]], axis=0))\n",
    "supply2016 = v.tovector(supply2016).astype(float) # векторизовали"
   ]
  },
  {
   "cell_type": "markdown",
   "metadata": {},
   "source": [
    "##### __Агрегирование по отраслям (столбцы)__"
   ]
  },
  {
   "cell_type": "code",
   "execution_count": null,
   "metadata": {},
   "outputs": [],
   "source": [
    "for i in range(98):\n",
    "    a = str(supply2016_codes.loc[1][i])\n",
    "    a = a[:2]\n",
    "    supply2016_codes.loc[1][i] = a\n",
    "    \n",
    "supply2016_codes.columns = supply2016_codes.iloc[0] # сделали преобразованную строку с кодами -- заголовками\n",
    "supply2016_codes = supply2016_codes.drop(supply2016_codes.index[0]) # избавились от отдельной строки с кодами\n",
    "\n",
    "supply2016_codes = supply2016_codes.groupby(supply2016_codes.columns, axis=1).sum() # объединили данные в таблице по одинаковым столбцам\n",
    "                                                                              # (внутри суммируем)"
   ]
  },
  {
   "cell_type": "markdown",
   "metadata": {},
   "source": [
    "##### __Агрегирование по продуктам (строки)__"
   ]
  },
  {
   "cell_type": "code",
   "execution_count": null,
   "metadata": {},
   "outputs": [],
   "source": [
    "df = pd.read_excel(\"./data/baz2016.xlsx\", \"ТР \") # считали столбец с кодами\n",
    "df = df.iloc[3:-3,1:2]\n",
    "df = df.fillna(0)\n",
    "supply2016_codes['codes_prod'] = df\n",
    "\n",
    "supply2016_codes['codes_prod'] = supply2016_codes['codes_prod'].apply(lambda x: splitter(x))  # преобразовали все коды до двух цифр\n",
    "supply2016_codes = supply2016_codes.groupby(supply2016_codes['codes_prod']).sum() # сгруппировали"
   ]
  },
  {
   "cell_type": "markdown",
   "metadata": {},
   "source": [
    "##### __Векторизация__"
   ]
  },
  {
   "cell_type": "code",
   "execution_count": null,
   "metadata": {},
   "outputs": [],
   "source": [
    "agg_supply2016 = supply2016_codes\n",
    "\n",
    "agg_supply2016_arr = np.array(supply2016_codes)\n",
    "agg_supply2016_vec = v.tovector(agg_supply2016_arr).astype(float)"
   ]
  },
  {
   "cell_type": "markdown",
   "metadata": {},
   "source": [
    "#### Проверка:\n",
    "Считаем файл с готовой агрегацией (`aggregated2011.xls`) и сверим нашу агрегацию с готовой."
   ]
  },
  {
   "cell_type": "code",
   "execution_count": null,
   "metadata": {},
   "outputs": [],
   "source": [
    "df = pd.read_excel(\"./data/aggregated2011.xls\", \"ТР\")\n",
    "df = df.iloc[3:-3,3:-6]\n",
    "df = df.fillna(0)\n",
    "\n",
    "new_2011 = df"
   ]
  },
  {
   "cell_type": "code",
   "execution_count": null,
   "metadata": {},
   "outputs": [],
   "source": [
    "((np.array(agg_supply2011)-np.array(new_2011))**2).sum()"
   ]
  },
  {
   "cell_type": "markdown",
   "metadata": {},
   "source": [
    "#### Подготовим таблицы к проекции"
   ]
  },
  {
   "cell_type": "code",
   "execution_count": null,
   "metadata": {},
   "outputs": [],
   "source": [
    "# Занулим элементы, в которых меняется знак\n",
    "\n",
    "agg_supply2011[agg_supply2011 * agg_supply2016 < 0] = 0\n",
    "agg_supply2016[agg_supply2011 * agg_supply2016 < 0] = 0"
   ]
  },
  {
   "cell_type": "code",
   "execution_count": null,
   "metadata": {},
   "outputs": [],
   "source": [
    "# Считаем суммы по строкам и столбцам\n",
    "\n",
    "# Для 2011 года:\n",
    "rows_sums_agg_supply2011 = np.sum(agg_supply2011, axis=1)\n",
    "columns_sums_agg_supply2011 = np.sum(agg_supply2011, axis=0)\n",
    "totals_agg_supply2011 = np.concatenate((rows_sums_agg_supply2011, columns_sums_agg_supply2011)).astype(float)[np.newaxis].T\n",
    "\n",
    "# Для 2016 года:\n",
    "rows_sums_agg_supply2016 = np.sum(agg_supply2016, axis=1)\n",
    "columns_sums_agg_supply2016 = np.sum(agg_supply2016, axis=0)\n",
    "totals_agg_supply2016 = np.concatenate((rows_sums_agg_supply2016, columns_sums_agg_supply2016)).astype(float)[np.newaxis].T"
   ]
  },
  {
   "cell_type": "markdown",
   "metadata": {},
   "source": [
    "### SVD"
   ]
  },
  {
   "cell_type": "markdown",
   "metadata": {},
   "source": [
    "## 1.2. Проекция"
   ]
  },
  {
   "cell_type": "code",
   "execution_count": null,
   "metadata": {},
   "outputs": [],
   "source": [
    "# from scripts import support, metrics, vectorization as v, aggregation\n",
    "\n",
    "def projection(method_name, bench_matrix, constraints, target_matrix, sparsed = True, save = True, totals = False):\n",
    "    \"\"\"\n",
    "    Получение результата эксперимента\n",
    "\n",
    "    Parameters\n",
    "    ----------\n",
    "    tables_kind: string\n",
    "        степень аггрегации таблиц\n",
    "    method_name: string\n",
    "        метод для получения новой матрицы\n",
    "    bench_matrix: np.array или sparse матрица\n",
    "        бенчмарк таблица\n",
    "    constraints: np.array или sparse матрица\n",
    "        матрица ограничений\n",
    "    target_matrix: np.array или sparse матрица\n",
    "        целевая таблица\n",
    "    experiment_type: string\n",
    "        агрегация\\дезаггрегация\\проекция\n",
    "    sparse: bool\n",
    "        использовать sparse матрицу или np.array\n",
    "    Returns\n",
    "    -------\n",
    "    a: float\n",
    "        значение метрики\n",
    "    \"\"\"\n",
    "    \n",
    "    m = 59\n",
    "    n = 59\n",
    "    table_size = (m, n)    \n",
    "\n",
    "    ttls = v.addrows((m,n))\n",
    "    g = v.addcolumns((m,n), ttls)      \n",
    "    \n",
    "    if sparsed:\n",
    "        g = csr_matrix(g)\n",
    "\n",
    "    if totals:\n",
    "        g_w_totals = v.addrows((m,n), G, sparsed=sparsed)\n",
    "        g_w_totals = v.addcolumns((m,n), g_w_totals, sparsed=sparsed)\n",
    "\n",
    "    if method_name in ['kuroda_1', 'kuroda_2', 'kuroda_3']:\n",
    "        method, kuroda_type = method_name.split('_')\n",
    "        method = eval(method)\n",
    "        results = np.round(method(g, eval(bench_matrix), eval(constraints), mtype=int(kuroda_type), sparsed=sparsed))\n",
    "\n",
    "    else:\n",
    "        method = eval(method_name)\n",
    "        results = method(g, eval(bench_matrix), eval(constraints), sparsed=sparsed)\n",
    "\n",
    "    metrics_values = metrics.get_values(np.round(results), eval(target_matrix), save=True)\n",
    "    \n",
    "    # Save metrics' results\n",
    "    if save:\n",
    "        info = {'method':method_name, 'target_matrix':target_matrix, \n",
    "                'constraints':constraints, 'bench_matrix':bench_matrix}\n",
    "        info = {**info,**metrics_values}\n",
    "\n",
    "        res_table = pd.read_excel('results/results.xlsx')\n",
    "        res_table = res_table.append([info])\n",
    "        res_table.to_excel('results/results.xlsx', index=None,encoding='utf-8')\n",
    "\n",
    "    return metrics_values, g\n",
    "\n",
    "def projection_for_all_methods(bench_matrix, constraints, target_matrix, totals = False):\n",
    "    methods_list = ['nras','insd','kuroda_3','kuroda_2','kuroda_1']\n",
    "    sparsed = True\n",
    "    for i, method in enumerate(methods_list):\n",
    "        print('Method:', method)\n",
    "        if i > 2:\n",
    "            sparsed = False\n",
    "        projection(method, bench_matrix, constraints, target_matrix, sparsed = sparsed, totals = totals)\n",
    "            "
   ]
  },
  {
   "cell_type": "markdown",
   "metadata": {},
   "source": [
    "### Реализация метода GRAS c ограничениями по строкам и столбцам (вычисления не векторизованы, в данном случае быстрее)"
   ]
  },
  {
   "cell_type": "code",
   "execution_count": 48,
   "metadata": {},
   "outputs": [],
   "source": [
    "import logging\n",
    "import traceback\n",
    "import numpy as np  \n",
    "import pandas as pd"
   ]
  },
  {
   "cell_type": "code",
   "execution_count": 49,
   "metadata": {},
   "outputs": [],
   "source": [
    "A = agg_supply2011_vec.reshape(59,59)\n",
    "X = agg_supply2016_vec.reshape(59,59)"
   ]
  },
  {
   "cell_type": "code",
   "execution_count": 50,
   "metadata": {},
   "outputs": [],
   "source": [
    "AA = pd.DataFrame(A)\n",
    "AA.to_csv('supply_2011.csv')\n",
    "XX = pd.DataFrame(X)\n",
    "XX.to_csv('supply_2016.csv')"
   ]
  },
  {
   "cell_type": "markdown",
   "metadata": {},
   "source": [
    "Реализуем функцию качества, основанную на расстоянии Кульбака-Лейблера:\n",
    "\n",
    "$$ \\min\\limits_{z_{ij}} \\sum\\limits_{i,j} |a_{ij}| z_{ij}log(\\frac{z_{ij}}{e})}$$"
   ]
  },
  {
   "cell_type": "code",
   "execution_count": 51,
   "metadata": {},
   "outputs": [],
   "source": [
    "def quality_function(X,A):\n",
    "    \n",
    "    '''\n",
    "    X - np.ndarray matrix - матрица, которую проверяем на близость с А\n",
    "    \n",
    "    A - np.ndarray matrix - базовая матрица\n",
    "    '''  \n",
    "    abs_A = np.abs(A)\n",
    "    Z = X/A\n",
    "    ln = np.log(Z/np.exp(1))\n",
    "    M = abs_A*Z*ln\n",
    "    M = np.sum(M)\n",
    "    return M"
   ]
  },
  {
   "cell_type": "code",
   "execution_count": 52,
   "metadata": {},
   "outputs": [],
   "source": [
    "def P_N_masks(A):\n",
    "    \n",
    "    '''\n",
    "    Раскладывает матрицу А на разность двух матриц: с положительными элементами и модулем отрицательных\n",
    "    '''\n",
    "    P_mask = [A>=0]\n",
    "    P_mask = np.array(P_mask)[0]\n",
    "    P_mask = P_mask.astype(float)\n",
    "    \n",
    "    N_mask = [A<0]\n",
    "    N_mask = np.array(N_mask)[0]\n",
    "    N_mask = N_mask.astype(float)\n",
    "    \n",
    "    return P_mask, N_mask\n",
    "\n",
    "def split_A_to_PN(A):\n",
    "    \n",
    "    '''\n",
    "    Выдает две матрицы - с положительными элементами и модулями отрицательных \n",
    "    \n",
    "    '''\n",
    "    \n",
    "    P = P_N_masks(A)[0] * A\n",
    "    N = np.abs(P_N_masks(A)[1] * A)\n",
    "    \n",
    "    return P,N   "
   ]
  },
  {
   "cell_type": "code",
   "execution_count": 53,
   "metadata": {},
   "outputs": [],
   "source": [
    "P = split_A_to_PN(A)[0]\n",
    "N = P = split_A_to_PN(A)[1]"
   ]
  },
  {
   "cell_type": "code",
   "execution_count": 54,
   "metadata": {},
   "outputs": [],
   "source": [
    "'''\n",
    "Научимся выводит векторы ограничений на строки и столбцы. Вообще они будут заданы, но вдруг\n",
    "\n",
    "'''\n",
    "\n",
    "def define_u_vector(X):\n",
    "    u = []\n",
    "    for rows in X:\n",
    "        u.append(np.sum(rows))\n",
    "    return(np.array(u))\n",
    "\n",
    "\n",
    "    \n",
    "def define_v_vector(X):\n",
    "    X = np.array(pd.DataFrame(X).T)\n",
    "    v = []\n",
    "    for rows in X:\n",
    "        v.append(np.sum(rows))\n",
    "    return(np.array(v))\n",
    "\n"
   ]
  },
  {
   "cell_type": "code",
   "execution_count": 55,
   "metadata": {},
   "outputs": [],
   "source": [
    "u = define_u_vector(X)\n",
    "v = define_v_vector(X)"
   ]
  },
  {
   "cell_type": "markdown",
   "metadata": {},
   "source": [
    "### Итерации\n",
    "\n",
    "В начале полагаем вектор r(0) равным единичному (т.е. левое преобразование - тривиальное отображение в себя).\n",
    "\n",
    "Затем используем решение Темуршоева чтобы итеративно вычислить все элементы корректировочной матрицы для строк (правое преобразование):\n",
    "\n",
    "$$ \\begin{cases}\n",
    "s_j = \\dfrac{v_j + \\sqrt{v^2_j + 4 p_j(r)n_j(r)}}{2p_j(r)}\\\\\n",
    "p_j(r) = \\sum\\limits_{i}r_ip_{ij}\\\\\n",
    "n_j(r) = \\sum\\limits_i \\dfrac{n_{ij}}{r_i}\n",
    "\\end{cases}$$\n",
    "\n",
    "\n",
    "\n"
   ]
  },
  {
   "cell_type": "code",
   "execution_count": 56,
   "metadata": {},
   "outputs": [
    {
     "name": "stdout",
     "output_type": "stream",
     "text": [
      "[0. 0. 0. 0. 0. 0. 0. 0. 0. 0. 0. 0. 0. 0. 0. 0. 0. 0. 0. 0. 0. 0. 0. 0.\n",
      " 0. 0. 0. 0. 0. 0. 0. 0. 0. 0. 0. 0. 0. 0. 0. 0. 0. 0. 0. 0. 0. 0. 0. 0.\n",
      " 0. 0. 0. 0. 0. 0. 0. 0. 0. 0. 0.]\n",
      "[0. 0. 0. 0. 0. 0. 0. 0. 0. 0. 0. 0. 0. 0. 0. 0. 0. 0. 0. 0. 0. 0. 0. 0.\n",
      " 0. 0. 0. 0. 0. 0. 0. 0. 0. 0. 0. 0. 0. 0. 0. 0. 0. 0. 0. 0. 0. 0. 0. 0.\n",
      " 0. 0. 0. 0. 0. 0. 0. 0. 0. 0. 0.]\n"
     ]
    }
   ],
   "source": [
    "r = np.ones(A.shape[0]) # создали единичный вектор\n",
    "\n",
    "\n",
    "def count_p_ij(r,P):\n",
    "    res =(r.reshape(1,-1))@P\n",
    "    return np.sum(res, axis = 0)\n",
    "\n",
    "def count_n_ij(r,N):\n",
    "    r = 1/r\n",
    "    res = (r.reshape(1,-1))@N\n",
    "    return np.sum(res, axis = 0)\n",
    "\n",
    "print(count_p_ij(r,P))\n",
    "print(count_n_ij(r,N))"
   ]
  },
  {
   "cell_type": "markdown",
   "metadata": {},
   "source": [
    "Дело за малым, осталось по первой формуле из системы вычислить элементы $s_j$ (решение квадратного уравнения):"
   ]
  },
  {
   "cell_type": "code",
   "execution_count": 57,
   "metadata": {},
   "outputs": [],
   "source": [
    "'''\n",
    "Вектора u и v на данный момент полагаются известными (да, мы их знаем, либо экзогенно, либо из истинной матрицы X)\n",
    "'''\n",
    "\n",
    "\n",
    "def count_s_j(r,P,N,v):\n",
    "    p = count_p_ij(r,P)\n",
    "    n = count_n_ij(r,N)\n",
    "    \n",
    "    sqr = np.sqrt(v**2 + 4*p*n)\n",
    "    s = (v + sqr)/(2*p)\n",
    "    return s"
   ]
  },
  {
   "cell_type": "code",
   "execution_count": 58,
   "metadata": {},
   "outputs": [],
   "source": [
    "s = count_s_j(r,P,N,v) # работает, осталось верно все это дело расположить"
   ]
  },
  {
   "cell_type": "markdown",
   "metadata": {},
   "source": [
    "### Обратная итерация\n",
    "\n",
    "Теперь полагаем известным некоторый вектор $s$ и организуем пересчет вектора r, затем объединим все в одну функцию и будем чередовать до тех пор пока не сойдемся с нужной точностью.\n",
    "У ТЕМУРШОЕВА ТУТ ОПЕЧАТКА.\n",
    "\n",
    "\n",
    "$$ \\begin{cases}\n",
    "r_i = \\dfrac{u_i + \\sqrt{u^2_i + 4 p_i(s)n_i(s)}}{2p_i(s)}\\\\\n",
    "p_i(s) = \\sum\\limits_j p_{ij}s_j\\\\\n",
    "n_i(s) = \\sum\\limits_{j} \\dfrac{n_{ij}}{s_j}\n",
    "\\end{cases}$$"
   ]
  },
  {
   "cell_type": "code",
   "execution_count": 59,
   "metadata": {},
   "outputs": [],
   "source": [
    "def count_p_ij_s(s,P):\n",
    "    res = np.dot(P,s.reshape(-1,1))\n",
    "    return np.sum(res, axis = 1)\n",
    "\n",
    "def count_n_ij_s(s,N):\n",
    "    s = 1/s\n",
    "    res = N@(s.reshape(-1,1))\n",
    "    return np.sum(res, axis = 1)\n",
    "\n",
    "\n",
    "def count_r_i(s,P,N,u):\n",
    "    p = count_p_ij_s(s,P)\n",
    "    n = count_n_ij_s(s,N)\n",
    "    \n",
    "    sqr = np.sqrt(u**2 + 4*p*n)\n",
    "    s = (u + sqr)/(2*p)\n",
    "    return s"
   ]
  },
  {
   "cell_type": "markdown",
   "metadata": {},
   "source": [
    "### Сборка.\n",
    "\n",
    "Все предварительные операции отлажены, начнем сборку. На вход подается, например, базовая матрица A, вектора ограничений (заранее известные). На выход необходимо подать результирующую матрицу X с заранее известной (также подается) точностью $\\epsilon$.\n",
    "\n",
    "План действий:\n",
    "\n",
    "* получаем матрицу A\n",
    "\n",
    "* раскладываем на P,N\n",
    "\n",
    "* полагаем начальный вектор r единичным\n",
    "\n",
    "* итерируемся до тех пор, пока разница между предыдущим r и новым не станет меньше заранее заданной точности\n",
    "\n",
    "* действуем на матрицу А слева и справа итоговыми преобразованиями, выводим матрицу Х, считаем функцию качества"
   ]
  },
  {
   "cell_type": "code",
   "execution_count": 60,
   "metadata": {},
   "outputs": [
    {
     "name": "stdout",
     "output_type": "stream",
     "text": [
      "100\n"
     ]
    }
   ],
   "source": [
    "\n",
    "import copy\n",
    "\n",
    "\n",
    "\n",
    "'''\n",
    "Разделяем матрицу\n",
    "'''\n",
    "\n",
    "P = split_A_to_PN(A)[0]\n",
    "\n",
    "N = split_A_to_PN(A)[1]\n",
    "\n",
    "\n",
    "'''\n",
    "Тривиальное левое преобразование\n",
    "'''\n",
    "\n",
    "r = np.ones(A.shape[0])\n",
    "\n",
    "''' \n",
    "Задаем интересующую нас точность (пока на r)\n",
    "'''\n",
    "\n",
    "eps = 1e-7\n",
    "\n",
    "\n",
    "'''\n",
    "До тех пор, пока предыдущий вектор r (какая разница) \n",
    "не будет отличаться от следующего меньше чем на eps,\n",
    "итерируемся туда-обратно\n",
    "'''\n",
    "\n",
    "memory = np.zeros(len(r))\n",
    "counter = 0\n",
    "limit = 1e2\n",
    "\n",
    "while np.linalg.norm(r - memory) > eps and counter < limit:\n",
    "    \n",
    "    s = count_s_j(r,P,N,v)\n",
    "    memory = r.copy()\n",
    "    r = count_r_i(s,P,N,u)\n",
    "    counter  += 1\n",
    "print(counter)\n",
    "#print(r)\n",
    "#print(s)"
   ]
  },
  {
   "cell_type": "code",
   "execution_count": 61,
   "metadata": {},
   "outputs": [],
   "source": [
    "RESULT = np.diag(r)@A@np.diag(s)"
   ]
  },
  {
   "cell_type": "code",
   "execution_count": 62,
   "metadata": {},
   "outputs": [
    {
     "name": "stdout",
     "output_type": "stream",
     "text": [
      "Качество подгонки вектора ограничений по строкам: \n",
      "\n"
     ]
    },
    {
     "data": {
      "text/plain": [
       "array([0., 0., 0., 0., 0., 0., 0., 0., 0., 0., 0., 0., 0., 0., 0., 0., 0.,\n",
       "       0., 0., 0., 0., 0., 0., 0., 0., 0., 0., 0., 0., 0., 0., 0., 0., 0.,\n",
       "       0., 0., 0., 0., 0., 0., 0., 0., 0., 0., 0., 0., 0., 0., 0., 0., 0.,\n",
       "       0., 0., 0., 0., 0., 0., 0., 0.])"
      ]
     },
     "execution_count": 62,
     "metadata": {},
     "output_type": "execute_result"
    }
   ],
   "source": [
    "print('Качество подгонки вектора ограничений по строкам: \\n')\n",
    "\n",
    "np.round(RESULT.sum(axis = 1),2) - u"
   ]
  },
  {
   "cell_type": "code",
   "execution_count": 63,
   "metadata": {},
   "outputs": [
    {
     "name": "stdout",
     "output_type": "stream",
     "text": [
      "Качество подгонки вектора ограничений по столбцам: \n",
      "\n"
     ]
    },
    {
     "data": {
      "text/plain": [
       "array([-4.002900e+02,  1.008000e+01, -1.385000e+01,  4.447000e+01,\n",
       "        5.136200e+02, -4.208000e+01,  2.185000e+01,  3.725000e+01,\n",
       "       -4.152600e+02,  9.403100e+02,  9.400000e+00,  8.980000e+00,\n",
       "        4.360000e+00,  2.076000e+01,  3.273000e+01,  2.862000e+01,\n",
       "        3.653500e+02,  1.317100e+02,  5.230000e+01,  5.402000e+01,\n",
       "        2.312100e+02,  5.992000e+01,  8.759000e+01,  5.810000e+00,\n",
       "        4.610000e+01,  4.215000e+01,  4.798000e+01,  2.253600e+02,\n",
       "        1.879500e+02,  2.260000e+01,  1.594000e+01,  7.858000e+01,\n",
       "        5.200000e+00,  4.116000e+02,  1.689500e+02,  5.276200e+02,\n",
       "        1.664100e+02,  1.681200e+02,  3.696400e+02,  8.710000e+00,\n",
       "        1.125500e+02,  2.323600e+02,  1.364040e+03,  7.228140e+03,\n",
       "        1.598870e+03,  3.345000e+02,  9.375000e+02,  1.169700e+02,\n",
       "        1.256300e+02,  1.135800e+02, -4.543400e+02, -2.361807e+04,\n",
       "        5.141820e+03,  1.377140e+03,  8.860000e+00,  1.355000e+01,\n",
       "        1.065370e+03,  2.108000e+01, -1.360000e+00])"
      ]
     },
     "execution_count": 63,
     "metadata": {},
     "output_type": "execute_result"
    }
   ],
   "source": [
    "print('Качество подгонки вектора ограничений по столбцам: \\n')\n",
    "\n",
    "np.round(RESULT.sum(axis = 0),2) - v "
   ]
  },
  {
   "cell_type": "code",
   "execution_count": 64,
   "metadata": {},
   "outputs": [
    {
     "name": "stdout",
     "output_type": "stream",
     "text": [
      "Значение метрики MAPE: 130.992999914765\n",
      " \n",
      "Значение метрики WAPE: 3.0920745380635513 \n",
      "\n",
      "Значение метрики PsiStat: 0.006153357225277205\n",
      " \n",
      "Значение метрики SWAD: 0.00565618367793114 \n",
      " \n",
      "Значение метрики RSQ: 0.9998167368793851 \n",
      " \n",
      "Значение метрики N0: 429 \n"
     ]
    }
   ],
   "source": [
    "print('Значение метрики MAPE: {}'.format(metrics.mape(X,RESULT)))\n",
    "print(' ')\n",
    "print('Значение метрики WAPE: {} '.format(metrics.wape(X,RESULT)))\n",
    "print()\n",
    "print('Значение метрики PsiStat: {}'.format(metrics.PsiStat(X,RESULT)))\n",
    "print(' ')\n",
    "print('Значение метрики SWAD: {} '.format(metrics.swad(X,RESULT)))\n",
    "print(' ')\n",
    "print('Значение метрики RSQ: {} '.format(metrics.RSQ(X,RESULT)))\n",
    "print(' ')\n",
    "print('Значение метрики N0: {} '.format(metrics.N0(X,RESULT)))"
   ]
  },
  {
   "cell_type": "markdown",
   "metadata": {},
   "source": [
    "### Стохастический вариант GRAS с выбором по невязкам сумм строк и столбцов\n",
    "\n"
   ]
  },
  {
   "cell_type": "code",
   "execution_count": 34,
   "metadata": {},
   "outputs": [],
   "source": [
    "A = agg_supply2011_vec.reshape(59,59)\n",
    "X = agg_supply2016_vec.reshape(59,59)"
   ]
  },
  {
   "cell_type": "code",
   "execution_count": 35,
   "metadata": {},
   "outputs": [],
   "source": [
    "def count_masked_r(k,r,s,u,A):\n",
    "    diff_vector = np.abs(np.diag(r)@A@np.diag(s).sum(axis = 1) - u)\n",
    "    #print(diff_vector)\n",
    "    threshold = np.sort(diff_vector)[-k]\n",
    "    #print(threshold)\n",
    "    r_masked = [diff_vector>=threshold]\n",
    "    return np.array(r_masked)[0]"
   ]
  },
  {
   "cell_type": "code",
   "execution_count": 36,
   "metadata": {},
   "outputs": [],
   "source": [
    "def count_masked_s(k,r,s,u,A):\n",
    "    diff_vector = np.abs(np.diag(r)@A@np.diag(s).sum(axis = 0) - v)\n",
    "    #print(diff_vector)\n",
    "    threshold = np.sort(diff_vector)[-k]\n",
    "    #print(threshold)\n",
    "    s_masked = [diff_vector>threshold]\n",
    "    return np.array(s_masked)[0]"
   ]
  },
  {
   "cell_type": "code",
   "execution_count": 37,
   "metadata": {},
   "outputs": [
    {
     "name": "stdout",
     "output_type": "stream",
     "text": [
      "3000\n",
      "3000\n"
     ]
    }
   ],
   "source": [
    "\n",
    "import copy\n",
    "\n",
    "k = 1\n",
    "\n",
    "P = split_A_to_PN(A)[0]\n",
    "\n",
    "N = split_A_to_PN(A)[1]\n",
    "\n",
    "\n",
    "r = np.ones(A.shape[0])\n",
    "\n",
    "eps = 1e-7\n",
    "norm_vector = []\n",
    "arg_vector = []\n",
    "memory_r = np.ones(len(r))/2\n",
    "counter = 0\n",
    "limit = 3e3\n",
    "update_counter = 0\n",
    "\n",
    "while np.linalg.norm(r - memory_r) > eps and counter < limit:\n",
    "    \n",
    "    r_masked = r*count_masked_r(k,r,s,u,A) + memory_r*~count_masked_r(k,r,s,u,A)\n",
    "    s = count_s_j(r_masked,P,N,v)\n",
    "    memory_s = s.copy()\n",
    "    update_counter += k\n",
    "    memory_r = r.copy()\n",
    "    s_masked = s*count_masked_s(k,r,s,u,A) + memory_s*~count_masked_s(k,r,s,u,A)\n",
    "    r = count_r_i(s_masked,P,N,u)\n",
    "    #update_counter += k\n",
    "    result = np.diag(r)@A@np.diag(s)\n",
    "    norm_vector.append(np.linalg.norm(X - result))\n",
    "    arg_vector.append(update_counter)\n",
    "    counter  += 1\n",
    "print(counter)\n",
    "print(update_counter)\n",
    "#print(r)\n",
    "#print(s)"
   ]
  },
  {
   "cell_type": "code",
   "execution_count": 38,
   "metadata": {},
   "outputs": [
    {
     "data": {
      "text/plain": [
       "[<matplotlib.lines.Line2D at 0x2c3ccfc2388>]"
      ]
     },
     "execution_count": 38,
     "metadata": {},
     "output_type": "execute_result"
    },
    {
     "data": {
      "image/png": "[encoded data removed]",
      "text/plain": [
       "<Figure size 1440x720 with 1 Axes>"
      ]
     },
     "metadata": {
      "needs_background": "light"
     },
     "output_type": "display_data"
    }
   ],
   "source": [
    "plt.figure(figsize = (20,10))\n",
    "plt.plot(np.log(norm_vector))"
   ]
  },
  {
   "cell_type": "code",
   "execution_count": 39,
   "metadata": {},
   "outputs": [
    {
     "name": "stdout",
     "output_type": "stream",
     "text": [
      "50\n"
     ]
    }
   ],
   "source": [
    "# потом завернем все это в функцию, пока прост с ячейкой поработаем\n",
    "import copy\n",
    "\n",
    "\n",
    "\n",
    "'''\n",
    "Разделяем матрицу\n",
    "'''\n",
    "\n",
    "P = split_A_to_PN(A)[0]\n",
    "\n",
    "N = split_A_to_PN(A)[1]\n",
    "\n",
    "\n",
    "'''\n",
    "Тривиальное левое преобразование\n",
    "'''\n",
    "\n",
    "r = np.ones(A.shape[0])\n",
    "\n",
    "''' \n",
    "Задаем интересующую нас точность (пока на r)\n",
    "'''\n",
    "\n",
    "eps = 1e-7\n",
    "norm_vector_2 = []\n",
    "arg_vector_2 = []\n",
    "'''\n",
    "До тех пор, пока предыдущий вектор r (какая разница) \n",
    "не будет отличаться от следующего меньше чем на eps,\n",
    "итерируемся туда-обратно\n",
    "'''\n",
    "\n",
    "memory = np.ones(len(r))/2\n",
    "counter = 0\n",
    "updates_counter = 0\n",
    "limit = 5e1\n",
    "\n",
    "while np.linalg.norm(r - memory) > eps and counter < limit:\n",
    "    \n",
    "    s = count_s_j(r,P,N,v)\n",
    "    updates_counter +=59\n",
    "    memory = r.copy()\n",
    "    r = count_r_i(s,P,N,u)\n",
    "    counter  += 1\n",
    "    result = np.diag(r)@A@np.diag(s)\n",
    "    norm_vector_2.append(np.linalg.norm(X - result))\n",
    "    arg_vector_2.append(updates_counter)\n",
    "print(counter)\n",
    "#print(r)\n",
    "#print(s)"
   ]
  },
  {
   "cell_type": "code",
   "execution_count": 40,
   "metadata": {},
   "outputs": [],
   "source": [
    "norm_vector = np.array(norm_vector)\n",
    "norm_vector_2 = np.array(norm_vector_2)"
   ]
  },
  {
   "cell_type": "code",
   "execution_count": 41,
   "metadata": {},
   "outputs": [
    {
     "data": {
      "text/plain": [
       "<matplotlib.legend.Legend at 0x2c3cd595f08>"
      ]
     },
     "execution_count": 41,
     "metadata": {},
     "output_type": "execute_result"
    },
    {
     "data": {
      "image/png": "[encoded data removed]",
      "text/plain": [
       "<Figure size 1440x720 with 1 Axes>"
      ]
     },
     "metadata": {
      "needs_background": "light"
     },
     "output_type": "display_data"
    }
   ],
   "source": [
    "fig = plt.figure(figsize = (20,10))\n",
    "ax = fig.add_axes([0,0,1,1])\n",
    "ax.plot(arg_vector,np.log(norm_vector),label = 'TRAS (k = 3)')\n",
    "ax.plot(arg_vector_2,np.log(norm_vector_2),label = 'GRAS')\n",
    "ax.set_xlabel(' \\n Суммарное число обновлений строк и столбцов [не итерации]',fontsize = 18)\n",
    "ax.set_ylabel('Натуральный логарифм фробениусовой нормы \\n разности текущей матрицы и матрицы 2016 года \\n',fontsize = 18)\n",
    "ax.legend()"
   ]
  },
  {
   "cell_type": "markdown",
   "metadata": {},
   "source": [
    "# Проекция остальными методами"
   ]
  },
  {
   "cell_type": "code",
   "execution_count": null,
   "metadata": {},
   "outputs": [],
   "source": [
    "projection_for_all_methods('agg_supply2011_vec', 'totals_agg_supply2016', 'agg_supply2016_vec') "
   ]
  },
  {
   "cell_type": "markdown",
   "metadata": {},
   "source": [
    "# 2. Таблицы использования в ценах потребителей"
   ]
  },
  {
   "cell_type": "markdown",
   "metadata": {},
   "source": [
    "## 2.1. Препроцессинг"
   ]
  },
  {
   "cell_type": "markdown",
   "metadata": {},
   "source": [
    "### Таблица использования в ценах потребителей за 2011 год"
   ]
  },
  {
   "cell_type": "code",
   "execution_count": null,
   "metadata": {},
   "outputs": [],
   "source": [
    "from scripts import vectorization"
   ]
  },
  {
   "cell_type": "code",
   "execution_count": null,
   "metadata": {},
   "outputs": [],
   "source": [
    "df = pd.read_excel(\"./data/aggregated2011.xls\", \"ТИцп\")\n",
    "df = df.iloc[3:-11,3:-13]\n",
    "df = df.fillna(0)\n",
    "\n",
    "cons_use2011 = df\n",
    "\n",
    "# Векторизуем\n",
    "cons_use2011_arr = np.array(cons_use2011)\n",
    "cons_use2011_vec = vectorization.tovector(cons_use2011_arr).astype(float)\n",
    "\n",
    "# Посчитаем суммы по столбцам и строкам\n",
    "rows_sums_cons_use2011 = np.sum(cons_use2011, axis=1)\n",
    "columns_sums_cons_use2011 = np.sum(cons_use2011, axis=0)\n",
    "totals_cons_use2011 = np.concatenate((rows_sums_cons_use2011, columns_sums_cons_use2011)).astype(float)[np.newaxis].T"
   ]
  },
  {
   "cell_type": "markdown",
   "metadata": {},
   "source": [
    "### Таблица использования в ценах потребителей за 2016 год"
   ]
  },
  {
   "cell_type": "code",
   "execution_count": null,
   "metadata": {},
   "outputs": [],
   "source": [
    "df = pd.read_excel(\"./data/aggregated2016.xls\", \"ТИцп\")\n",
    "df = df.iloc[3:-11,3:-13]\n",
    "df = df.fillna(0)\n",
    "\n",
    "cons_use2016 = df\n",
    "\n",
    "# Векторизуем\n",
    "cons_use2016_arr = np.array(cons_use2016)\n",
    "cons_use2016_vec = vectorization.tovector(cons_use2016_arr).astype(float)\n",
    "\n",
    "# Посчитаем суммы по столбцам и строкам\n",
    "rows_sums_cons_use2016 = np.sum(cons_use2016, axis=1)\n",
    "columns_sums_cons_use2016 = np.sum(cons_use2016, axis=0)\n",
    "totals_cons_use2016 = np.concatenate((rows_sums_cons_use2016, columns_sums_cons_use2016)).astype(float)[np.newaxis].T"
   ]
  },
  {
   "cell_type": "code",
   "execution_count": null,
   "metadata": {},
   "outputs": [],
   "source": [
    "# Занулим элементы, в которых меняется знак\n",
    "\n",
    "cons_use2011[cons_use2011 * cons_use2016 < 0] = 0\n",
    "cons_use2016[cons_use2011 * cons_use2016 < 0] = 0"
   ]
  },
  {
   "cell_type": "markdown",
   "metadata": {},
   "source": [
    "### Проекция невекторизованным GRAS"
   ]
  },
  {
   "cell_type": "code",
   "execution_count": null,
   "metadata": {},
   "outputs": [],
   "source": [
    "A = cons_use2011_vec.reshape(59,59) + 1e-2\n",
    "X = cons_use2016_vec.reshape(59,59) + 1e-2"
   ]
  },
  {
   "cell_type": "code",
   "execution_count": null,
   "metadata": {},
   "outputs": [],
   "source": [
    "import logging\n",
    "import traceback\n",
    "import numpy as np  \n",
    "import pandas as pd"
   ]
  },
  {
   "cell_type": "markdown",
   "metadata": {},
   "source": [
    "Реализуем функцию качества, основанную на расстоянии Кульбака-Лейблера:\n",
    "\n",
    "$$ \\min\\limits_{z_{ij}} \\sum\\limits_{i,j} |a_{ij}| z_{ij}log(\\frac{z_{ij}}{e})}$$"
   ]
  },
  {
   "cell_type": "code",
   "execution_count": null,
   "metadata": {},
   "outputs": [],
   "source": [
    "def quality_function(X,A):\n",
    "    \n",
    "    '''\n",
    "    X - np.ndarray matrix - матрица, которую проверяем на близость с А\n",
    "    \n",
    "    A - np.ndarray matrix - базовая матрица\n",
    "    '''  \n",
    "    abs_A = np.abs(A)\n",
    "    Z = X/A\n",
    "    ln = np.log(Z/np.exp(1))\n",
    "    M = abs_A*Z*ln\n",
    "    M = np.sum(M)\n",
    "    return M"
   ]
  },
  {
   "cell_type": "code",
   "execution_count": null,
   "metadata": {},
   "outputs": [],
   "source": [
    "def P_N_masks(A):\n",
    "    \n",
    "    '''\n",
    "    Раскладывает матрицу А на разность двух матриц: с положительными элементами и модулем отрицательных\n",
    "    '''\n",
    "    P_mask = [A>=0]\n",
    "    P_mask = np.array(P_mask)[0]\n",
    "    P_mask = P_mask.astype(float)\n",
    "    \n",
    "    N_mask = [A<0]\n",
    "    N_mask = np.array(N_mask)[0]\n",
    "    N_mask = N_mask.astype(float)\n",
    "    \n",
    "    return P_mask, N_mask\n",
    "\n",
    "def split_A_to_PN(A):\n",
    "    \n",
    "    '''\n",
    "    Выдает две матрицы - с положительными элементами и модулями отрицательных \n",
    "    \n",
    "    '''\n",
    "    \n",
    "    P = P_N_masks(A)[0] * A\n",
    "    N = np.abs(P_N_masks(A)[1] * A)\n",
    "    \n",
    "    return P,N   "
   ]
  },
  {
   "cell_type": "code",
   "execution_count": null,
   "metadata": {},
   "outputs": [],
   "source": [
    "P = split_A_to_PN(A)[0]\n",
    "N = split_A_to_PN(A)[1]"
   ]
  },
  {
   "cell_type": "code",
   "execution_count": null,
   "metadata": {},
   "outputs": [],
   "source": [
    "'''\n",
    "Научимся выводит векторы ограничений на строки и столбцы. Вообще они будут заданы, но вдруг\n",
    "\n",
    "'''\n",
    "\n",
    "def define_u_vector(X):\n",
    "    u = []\n",
    "    for rows in X:\n",
    "        u.append(np.sum(rows))\n",
    "    return(np.array(u))\n",
    "\n",
    "\n",
    "    \n",
    "def define_v_vector(X):\n",
    "    X = np.array(pd.DataFrame(X).T)\n",
    "    v = []\n",
    "    for rows in X:\n",
    "        v.append(np.sum(rows))\n",
    "    return(np.array(v))\n",
    "\n"
   ]
  },
  {
   "cell_type": "code",
   "execution_count": null,
   "metadata": {},
   "outputs": [],
   "source": [
    "u = define_u_vector(X)\n",
    "v = define_v_vector(X)"
   ]
  },
  {
   "cell_type": "markdown",
   "metadata": {},
   "source": [
    "### Итерации\n",
    "\n",
    "В начале полагаем вектор r(0) равным единичному (т.е. левое преобразование - тривиальное отображение в себя).\n",
    "\n",
    "Затем используем решение Темуршоева чтобы итеративно вычислить все элементы корректировочной матрицы для строк (правое преобразование):\n",
    "\n",
    "$$ \\begin{cases}\n",
    "s_j = \\dfrac{v_j + \\sqrt{v^2_j + 4 p_j(r)n_j(r)}}{2p_j(r)}\\\\\n",
    "p_j(r) = \\sum\\limits_{i}r_ip_{ij}\\\\\n",
    "n_j(r) = \\sum\\limits_i \\dfrac{n_{ij}}{r_i}\n",
    "\\end{cases}$$\n",
    "\n",
    "\n",
    "\n"
   ]
  },
  {
   "cell_type": "code",
   "execution_count": null,
   "metadata": {},
   "outputs": [],
   "source": [
    "r = np.ones(A.shape[0]) # создали единичный вектор\n",
    "\n",
    "\n",
    "def count_p_ij(r,P):\n",
    "    res =(r.reshape(1,-1))@P\n",
    "    return np.sum(res, axis = 0)\n",
    "\n",
    "def count_n_ij(r,N):\n",
    "    r = 1/r\n",
    "    res = (r.reshape(1,-1))@N\n",
    "    return np.sum(res, axis = 0)\n"
   ]
  },
  {
   "cell_type": "markdown",
   "metadata": {},
   "source": [
    "Дело за малым, осталось по первой формуле из системы вычислить элементы $s_j$ (решение квадратного уравнения):"
   ]
  },
  {
   "cell_type": "code",
   "execution_count": null,
   "metadata": {},
   "outputs": [],
   "source": [
    "'''\n",
    "Вектора u и v на данный момент полагаются известными (да, мы их знаем, либо экзогенно, либо из истинной матрицы X)\n",
    "'''\n",
    "\n",
    "\n",
    "def count_s_j(r,P,N,v):\n",
    "    p = count_p_ij(r,P)\n",
    "    n = count_n_ij(r,N)\n",
    "    \n",
    "    sqr = np.sqrt(v**2 + 4*p*n)\n",
    "    #print(sqr)\n",
    "    s = (v + sqr)/(2*p)\n",
    "    return s"
   ]
  },
  {
   "cell_type": "code",
   "execution_count": null,
   "metadata": {},
   "outputs": [],
   "source": [
    "s = count_s_j(r,P,N,v) # работает, осталось верно все это дело расположить"
   ]
  },
  {
   "cell_type": "markdown",
   "metadata": {},
   "source": [
    "### Обратная итерация\n",
    "\n",
    "Теперь полагаем известным некоторый вектор $s$ и организуем пересчет вектора r, затем объединим все в одну функцию и будем чередовать до тех пор пока не сойдемся с нужной точностью.\n",
    "У ТЕМУРШОЕВА ТУТ ОПЕЧАТКА.\n",
    "\n",
    "\n",
    "$$ \\begin{cases}\n",
    "r_i = \\dfrac{u_i + \\sqrt{u^2_i + 4 p_i(s)n_i(s)}}{2p_i(s)}\\\\\n",
    "p_i(s) = \\sum\\limits_j p_{ij}s_j\\\\\n",
    "n_i(s) = \\sum\\limits_{j} \\dfrac{n_{ij}}{s_j}\n",
    "\\end{cases}$$"
   ]
  },
  {
   "cell_type": "code",
   "execution_count": null,
   "metadata": {},
   "outputs": [],
   "source": [
    "def count_p_ij_s(s,P):\n",
    "    res = np.dot(P,s.reshape(-1,1))\n",
    "    return np.sum(res, axis = 1)\n",
    "\n",
    "def count_n_ij_s(s,N):\n",
    "    s = 1/s\n",
    "    res = N@(s.reshape(-1,1))\n",
    "    return np.sum(res, axis = 1)\n",
    "\n",
    "\n",
    "def count_r_i(s,P,N,u):\n",
    "    p = count_p_ij_s(s,P)\n",
    "    n = count_n_ij_s(s,N)\n",
    "    \n",
    "    sqr = np.sqrt(u**2 + 4*p*n)\n",
    "    r = (u + sqr)/(2*p)\n",
    "    return r"
   ]
  },
  {
   "cell_type": "markdown",
   "metadata": {},
   "source": [
    "### Сборка.\n",
    "\n",
    "Все предварительные операции отлажены, начнем сборку. На вход подается, например, базовая матрица A, вектора ограничений (заранее известные). На выход необходимо подать результирующую матрицу X с заранее известной (также подается) точностью $\\epsilon$.\n",
    "\n",
    "План действий:\n",
    "\n",
    "* получаем матрицу A\n",
    "\n",
    "* раскладываем на P,N\n",
    "\n",
    "* полагаем начальный вектор r единичным\n",
    "\n",
    "* итерируемся до тех пор, пока разница между предыдущим r и новым не станет меньше заранее заданной точности\n",
    "\n",
    "* действуем на матрицу А слева и справа итоговыми преобразованиями, выводим матрицу Х, считаем функцию качества"
   ]
  },
  {
   "cell_type": "code",
   "execution_count": null,
   "metadata": {},
   "outputs": [],
   "source": [
    "# потом завернем все это в функцию, пока прост с ячейкой поработаем\n",
    "import copy\n",
    "\n",
    "\n",
    "\n",
    "'''\n",
    "Разделяем матрицу\n",
    "'''\n",
    "\n",
    "P = split_A_to_PN(A)[0]\n",
    "\n",
    "N = split_A_to_PN(A)[1]\n",
    "\n",
    "\n",
    "'''\n",
    "Тривиальное левое преобразование\n",
    "'''\n",
    "\n",
    "r = np.ones(A.shape[0])\n",
    "\n",
    "''' \n",
    "Задаем интересующую нас точность (пока на r)\n",
    "'''\n",
    "\n",
    "eps = 1e-30\n",
    "\n",
    "\n",
    "'''\n",
    "До тех пор, пока предыдущий вектор r (какая разница) \n",
    "не будет отличаться от следующего меньше чем на eps,\n",
    "итерируемся туда-обратно\n",
    "'''\n",
    "\n",
    "memory = np.zeros(len(r))\n",
    "counter = 0\n",
    "limit = 1000000\n",
    "\n",
    "while np.linalg.norm(r - memory) > eps and counter < limit:\n",
    "    \n",
    "    s = count_s_j(r,P,N,v)\n",
    "    memory = r.copy()\n",
    "    r = count_r_i(s,P,N,u)\n",
    "    counter  += 1\n",
    "print(counter)\n",
    "#print(r)\n",
    "#print(s)"
   ]
  },
  {
   "cell_type": "code",
   "execution_count": null,
   "metadata": {},
   "outputs": [],
   "source": [
    "RESULT = np.diag(r)@(A)@np.diag(s)"
   ]
  },
  {
   "cell_type": "code",
   "execution_count": null,
   "metadata": {},
   "outputs": [],
   "source": [
    "r"
   ]
  },
  {
   "cell_type": "code",
   "execution_count": null,
   "metadata": {},
   "outputs": [],
   "source": [
    "print('Качество подгонки вектора ограничений по строкам: \\n')\n",
    "\n",
    "np.round(RESULT.sum(axis = 1),2) - u"
   ]
  },
  {
   "cell_type": "code",
   "execution_count": null,
   "metadata": {},
   "outputs": [],
   "source": [
    "print('Качество подгонки вектора ограничений по столбцам: \\n')\n",
    "\n",
    "np.round(RESULT.sum(axis = 0),2) - v "
   ]
  },
  {
   "cell_type": "code",
   "execution_count": null,
   "metadata": {},
   "outputs": [],
   "source": [
    "print('Значение метрики MAPE: {}'.format(metrics.mape(X-1,RESULT-1)))\n",
    "print(' ')\n",
    "print('Значение метрики WAPE: {} '.format(metrics.wape(X-1,RESULT-1)))\n",
    "print()\n",
    "print('Значение метрики PsiStat: {}'.format(metrics.PsiStat(X-1,RESULT-1)))\n",
    "print(' ')\n",
    "print('Значение метрики SWAD: {} '.format(metrics.swad(X-1,RESULT-1)))\n",
    "print(' ')\n",
    "print('Значение метрики RSQ: {} '.format(metrics.RSQ(X-1,RESULT-1)))\n",
    "print(' ')\n",
    "print('Значение метрики N0: {} '.format(metrics.N0(X-1,RESULT-1)))"
   ]
  },
  {
   "cell_type": "markdown",
   "metadata": {},
   "source": [
    "## 2.2. Проекция"
   ]
  },
  {
   "cell_type": "code",
   "execution_count": null,
   "metadata": {},
   "outputs": [],
   "source": [
    "#Эксперимент: проекция таблицы 2016 года из таблицы 2011 года\n",
    "#Бенчмарк: cons_use2011_vec (таблица за 2011 год с максимальной агрегацией)\n",
    "#Ограничения: таблица totals_2016\n",
    "#Методы: NRAS, точность 0.01, 100 иттераций, INSD, Kuroda(1,2,3)\n",
    "\n",
    "projection_for_all_methods('cons_use2011_vec', 'totals_cons_use2016', 'cons_use2016_vec')"
   ]
  },
  {
   "cell_type": "markdown",
   "metadata": {},
   "source": [
    "# 3. Таблицы использования в основных ценах"
   ]
  },
  {
   "cell_type": "markdown",
   "metadata": {},
   "source": [
    "## 3.1. Препроцессинг"
   ]
  },
  {
   "cell_type": "markdown",
   "metadata": {},
   "source": [
    "### Таблица использования в основных ценах за 2011 год"
   ]
  },
  {
   "cell_type": "code",
   "execution_count": null,
   "metadata": {},
   "outputs": [],
   "source": [
    "df = pd.read_excel(\"./data/aggregated2011.xls\", \"ТИоц\")\n",
    "df = df.iloc[3:-11,3:-13]\n",
    "df = df.fillna(0)\n",
    "\n",
    "basic_use2011 = df\n",
    "\n",
    "# Векторизуем\n",
    "basic_use2011_arr = np.array(basic_use2011)\n",
    "basic_use2011_vec = vectorization.tovector(basic_use2011_arr).astype(float)\n",
    "\n",
    "# Посчитаем суммы по столбцам и строкам\n",
    "rows_sums_basic_use2011 = np.sum(basic_use2011, axis=1)\n",
    "columns_sums_basic_use2011 = np.sum(basic_use2011, axis=0)\n",
    "totals_basic_use2011 = np.concatenate((rows_sums_basic_use2011, columns_sums_basic_use2011)).astype(float)[np.newaxis].T"
   ]
  },
  {
   "cell_type": "markdown",
   "metadata": {},
   "source": [
    "### Таблица использования в основных ценах за 2016 год"
   ]
  },
  {
   "cell_type": "code",
   "execution_count": null,
   "metadata": {},
   "outputs": [],
   "source": [
    "df = pd.read_excel(\"./data/aggregated2016.xls\", \"ТИцп\")\n",
    "df = df.iloc[3:-11,3:-13]\n",
    "df = df.fillna(0)\n",
    "\n",
    "basic_use2016 = df\n",
    "\n",
    "# Векторизуем\n",
    "basic_use2016_arr = np.array(basic_use2016)\n",
    "basic_use2016_vec = vectorization.tovector(basic_use2016_arr).astype(float)\n",
    "\n",
    "# Посчитаем суммы по столбцам и строкам\n",
    "rows_sums_basic_use2016 = np.sum(basic_use2016, axis=1)\n",
    "columns_sums_basic_use2016 = np.sum(basic_use2016, axis=0)\n",
    "totals_basic_use2016 = np.concatenate((rows_sums_basic_use2016, columns_sums_basic_use2016)).astype(float)[np.newaxis].T"
   ]
  },
  {
   "cell_type": "code",
   "execution_count": null,
   "metadata": {},
   "outputs": [],
   "source": [
    "# Занулим элементы, в которых меняется знак\n",
    "\n",
    "basic_use2011[basic_use2011 * basic_use2016 < 0] = 0\n",
    "basic_use2016[basic_use2011 * basic_use2016 < 0] = 0"
   ]
  },
  {
   "cell_type": "markdown",
   "metadata": {},
   "source": [
    "### Проекция невекторизованным GRAS"
   ]
  },
  {
   "cell_type": "code",
   "execution_count": null,
   "metadata": {},
   "outputs": [],
   "source": [
    "A = basic_use2011_vec.reshape(59,59) + 1e-0\n",
    "X = basic_use2016_vec.reshape(59,59) + 1e-0"
   ]
  },
  {
   "cell_type": "code",
   "execution_count": null,
   "metadata": {},
   "outputs": [],
   "source": [
    "import logging\n",
    "import traceback\n",
    "import numpy as np  \n",
    "import pandas as pd"
   ]
  },
  {
   "cell_type": "markdown",
   "metadata": {},
   "source": [
    "Реализуем функцию качества, основанную на расстоянии Кульбака-Лейблера:\n",
    "\n",
    "$$ \\min\\limits_{z_{ij}} \\sum\\limits_{i,j} |a_{ij}| z_{ij}log(\\frac{z_{ij}}{e})}$$"
   ]
  },
  {
   "cell_type": "code",
   "execution_count": null,
   "metadata": {},
   "outputs": [],
   "source": [
    "def quality_function(X,A):\n",
    "    \n",
    "    '''\n",
    "    X - np.ndarray matrix - матрица, которую проверяем на близость с А\n",
    "    \n",
    "    A - np.ndarray matrix - базовая матрица\n",
    "    '''  \n",
    "    abs_A = np.abs(A)\n",
    "    Z = X/A\n",
    "    ln = np.log(Z/np.exp(1))\n",
    "    M = abs_A*Z*ln\n",
    "    M = np.sum(M)\n",
    "    return M"
   ]
  },
  {
   "cell_type": "code",
   "execution_count": null,
   "metadata": {},
   "outputs": [],
   "source": [
    "def P_N_masks(A):\n",
    "    \n",
    "    '''\n",
    "    Раскладывает матрицу А на разность двух матриц: с положительными элементами и модулем отрицательных\n",
    "    '''\n",
    "    P_mask = [A>=0]\n",
    "    P_mask = np.array(P_mask)[0]\n",
    "    P_mask = P_mask.astype(float)\n",
    "    \n",
    "    N_mask = [A<0]\n",
    "    N_mask = np.array(N_mask)[0]\n",
    "    N_mask = N_mask.astype(float)\n",
    "    \n",
    "    return P_mask, N_mask\n",
    "\n",
    "def split_A_to_PN(A):\n",
    "    \n",
    "    '''\n",
    "    Выдает две матрицы - с положительными элементами и модулями отрицательных \n",
    "    \n",
    "    '''\n",
    "    \n",
    "    P = P_N_masks(A)[0] * A\n",
    "    N = np.abs(P_N_masks(A)[1] * A)\n",
    "    \n",
    "    return P,N   "
   ]
  },
  {
   "cell_type": "code",
   "execution_count": null,
   "metadata": {},
   "outputs": [],
   "source": [
    "P = split_A_to_PN(A)[0]\n",
    "N = split_A_to_PN(A)[1]"
   ]
  },
  {
   "cell_type": "code",
   "execution_count": null,
   "metadata": {},
   "outputs": [],
   "source": [
    "'''\n",
    "Научимся выводит векторы ограничений на строки и столбцы. Вообще они будут заданы, но вдруг\n",
    "\n",
    "'''\n",
    "\n",
    "def define_u_vector(X):\n",
    "    u = []\n",
    "    for rows in X:\n",
    "        u.append(np.sum(rows))\n",
    "    return(np.array(u))\n",
    "\n",
    "\n",
    "    \n",
    "def define_v_vector(X):\n",
    "    X = np.array(pd.DataFrame(X).T)\n",
    "    v = []\n",
    "    for rows in X:\n",
    "        v.append(np.sum(rows))\n",
    "    return(np.array(v))\n",
    "\n"
   ]
  },
  {
   "cell_type": "code",
   "execution_count": null,
   "metadata": {},
   "outputs": [],
   "source": [
    "u = define_u_vector(X)\n",
    "v = define_v_vector(X)"
   ]
  },
  {
   "cell_type": "markdown",
   "metadata": {},
   "source": [
    "### Итерации\n",
    "\n",
    "В начале полагаем вектор r(0) равным единичному (т.е. левое преобразование - тривиальное отображение в себя).\n",
    "\n",
    "Затем используем решение Темуршоева чтобы итеративно вычислить все элементы корректировочной матрицы для строк (правое преобразование):\n",
    "\n",
    "$$ \\begin{cases}\n",
    "s_j = \\dfrac{v_j + \\sqrt{v^2_j + 4 p_j(r)n_j(r)}}{2p_j(r)}\\\\\n",
    "p_j(r) = \\sum\\limits_{i}r_ip_{ij}\\\\\n",
    "n_j(r) = \\sum\\limits_i \\dfrac{n_{ij}}{r_i}\n",
    "\\end{cases}$$\n",
    "\n",
    "\n",
    "\n"
   ]
  },
  {
   "cell_type": "code",
   "execution_count": null,
   "metadata": {},
   "outputs": [],
   "source": [
    "r = np.ones(A.shape[0]) # создали единичный вектор\n",
    "\n",
    "\n",
    "def count_p_ij(r,P):\n",
    "    res =(r.reshape(1,-1))@P\n",
    "    return np.sum(res, axis = 0)\n",
    "\n",
    "def count_n_ij(r,N):\n",
    "    r = 1/r\n",
    "    res = (r.reshape(1,-1))@N\n",
    "    return np.sum(res, axis = 0)\n"
   ]
  },
  {
   "cell_type": "markdown",
   "metadata": {},
   "source": [
    "Дело за малым, осталось по первой формуле из системы вычислить элементы $s_j$ (решение квадратного уравнения):"
   ]
  },
  {
   "cell_type": "code",
   "execution_count": null,
   "metadata": {},
   "outputs": [],
   "source": [
    "'''\n",
    "Вектора u и v на данный момент полагаются известными (да, мы их знаем, либо экзогенно, либо из истинной матрицы X)\n",
    "'''\n",
    "\n",
    "\n",
    "def count_s_j(r,P,N,v):\n",
    "    p = count_p_ij(r,P)\n",
    "    n = count_n_ij(r,N)\n",
    "    \n",
    "    sqr = np.sqrt(v**2 + 4*p*n)\n",
    "    #print(sqr)\n",
    "    s = (v + sqr)/(2*p)\n",
    "    return s"
   ]
  },
  {
   "cell_type": "code",
   "execution_count": null,
   "metadata": {},
   "outputs": [],
   "source": [
    "s = count_s_j(r,P,N,v) # работает, осталось верно все это дело расположить"
   ]
  },
  {
   "cell_type": "markdown",
   "metadata": {},
   "source": [
    "### Обратная итерация\n",
    "\n",
    "Теперь полагаем известным некоторый вектор $s$ и организуем пересчет вектора r, затем объединим все в одну функцию и будем чередовать до тех пор пока не сойдемся с нужной точностью.\n",
    "У ТЕМУРШОЕВА ТУТ ОПЕЧАТКА.\n",
    "\n",
    "\n",
    "$$ \\begin{cases}\n",
    "r_i = \\dfrac{u_i + \\sqrt{u^2_i + 4 p_i(s)n_i(s)}}{2p_i(s)}\\\\\n",
    "p_i(s) = \\sum\\limits_j p_{ij}s_j\\\\\n",
    "n_i(s) = \\sum\\limits_{j} \\dfrac{n_{ij}}{s_j}\n",
    "\\end{cases}$$"
   ]
  },
  {
   "cell_type": "code",
   "execution_count": null,
   "metadata": {},
   "outputs": [],
   "source": [
    "def count_p_ij_s(s,P):\n",
    "    res = np.dot(P,s.reshape(-1,1))\n",
    "    return np.sum(res, axis = 1)\n",
    "\n",
    "def count_n_ij_s(s,N):\n",
    "    s = 1/s\n",
    "    res = N@(s.reshape(-1,1))\n",
    "    return np.sum(res, axis = 1)\n",
    "\n",
    "\n",
    "def count_r_i(s,P,N,u):\n",
    "    p = count_p_ij_s(s,P)\n",
    "    n = count_n_ij_s(s,N)\n",
    "    \n",
    "    sqr = np.sqrt(u**2 + 4*p*n)\n",
    "    r = (u + sqr)/(2*p)\n",
    "    return r"
   ]
  },
  {
   "cell_type": "markdown",
   "metadata": {},
   "source": [
    "### Сборка.\n",
    "\n",
    "Все предварительные операции отлажены, начнем сборку. На вход подается, например, базовая матрица A, вектора ограничений (заранее известные). На выход необходимо подать результирующую матрицу X с заранее известной (также подается) точностью $\\epsilon$.\n",
    "\n",
    "План действий:\n",
    "\n",
    "* получаем матрицу A\n",
    "\n",
    "* раскладываем на P,N\n",
    "\n",
    "* полагаем начальный вектор r единичным\n",
    "\n",
    "* итерируемся до тех пор, пока разница между предыдущим r и новым не станет меньше заранее заданной точности\n",
    "\n",
    "* действуем на матрицу А слева и справа итоговыми преобразованиями, выводим матрицу Х, считаем функцию качества"
   ]
  },
  {
   "cell_type": "code",
   "execution_count": null,
   "metadata": {},
   "outputs": [],
   "source": [
    "# потом завернем все это в функцию, пока прост с ячейкой поработаем\n",
    "import copy\n",
    "\n",
    "\n",
    "\n",
    "'''\n",
    "Разделяем матрицу\n",
    "'''\n",
    "\n",
    "P = split_A_to_PN(A)[0]\n",
    "\n",
    "N = split_A_to_PN(A)[1]\n",
    "\n",
    "\n",
    "'''\n",
    "Тривиальное левое преобразование\n",
    "'''\n",
    "\n",
    "r = np.ones(A.shape[0])\n",
    "\n",
    "''' \n",
    "Задаем интересующую нас точность (пока на r)\n",
    "'''\n",
    "\n",
    "eps = 1e-30\n",
    "\n",
    "\n",
    "'''\n",
    "До тех пор, пока предыдущий вектор r (какая разница) \n",
    "не будет отличаться от следующего меньше чем на eps,\n",
    "итерируемся туда-обратно\n",
    "'''\n",
    "\n",
    "memory = np.zeros(len(r))\n",
    "counter = 0\n",
    "limit = 1000000\n",
    "\n",
    "while np.linalg.norm(r - memory) > eps and counter < limit:\n",
    "    \n",
    "    s = count_s_j(r,P,N,v)\n",
    "    memory = r.copy()\n",
    "    r = count_r_i(s,P,N,u)\n",
    "    counter  += 1\n",
    "print(counter)\n",
    "#print(r)\n",
    "#print(s)"
   ]
  },
  {
   "cell_type": "code",
   "execution_count": null,
   "metadata": {},
   "outputs": [],
   "source": [
    "RESULT = np.diag(r)@(A)@np.diag(s)"
   ]
  },
  {
   "cell_type": "code",
   "execution_count": null,
   "metadata": {},
   "outputs": [],
   "source": [
    "r"
   ]
  },
  {
   "cell_type": "code",
   "execution_count": null,
   "metadata": {},
   "outputs": [],
   "source": [
    "print('Качество подгонки вектора ограничений по строкам: \\n')\n",
    "\n",
    "np.round(RESULT.sum(axis = 1),2) - u"
   ]
  },
  {
   "cell_type": "code",
   "execution_count": null,
   "metadata": {},
   "outputs": [],
   "source": [
    "print('Качество подгонки вектора ограничений по столбцам: \\n')\n",
    "\n",
    "np.round(RESULT.sum(axis = 0),2) - v "
   ]
  },
  {
   "cell_type": "code",
   "execution_count": null,
   "metadata": {},
   "outputs": [],
   "source": [
    "print('Значение метрики MAPE: {}'.format(metrics.mape(X-1,RESULT-1)))\n",
    "print(' ')\n",
    "print('Значение метрики WAPE: {} '.format(metrics.wape(X-1,RESULT-1)))\n",
    "print()\n",
    "print('Значение метрики PsiStat: {}'.format(metrics.PsiStat(X-1,RESULT-1)))\n",
    "print(' ')\n",
    "print('Значение метрики SWAD: {} '.format(metrics.swad(X-1,RESULT-1)))\n",
    "print(' ')\n",
    "print('Значение метрики RSQ: {} '.format(metrics.RSQ(X-1,RESULT-1)))\n",
    "print(' ')\n",
    "print('Значение метрики N0: {} '.format(metrics.N0(X-1,RESULT-1)))"
   ]
  },
  {
   "cell_type": "markdown",
   "metadata": {},
   "source": [
    "## 3.2. Проекция"
   ]
  },
  {
   "cell_type": "code",
   "execution_count": null,
   "metadata": {},
   "outputs": [],
   "source": [
    "#Эксперимент: проекция таблицы 2016 года из таблицы 2011 года\n",
    "#Бенчмарк: basic_use2011_vec (векторизованная таблица за 2011 год с максимальной агрегацией)\n",
    "#Ограничения: таблица totals_basic_use2016\n",
    "#Методы: NRAS, точность 0.01, 100 иттераций, INSD, Kuroda(1,2,3)\n",
    "\n",
    "projection_for_all_methods('basic_use2011_vec', 'totals_basic_use2016', 'basic_use2016_vec')"
   ]
  }
 ],
 "metadata": {
  "kernelspec": {
   "display_name": "Python 3",
   "language": "python",
   "name": "python3"
  },
  "language_info": {
   "codemirror_mode": {
    "name": "ipython",
    "version": 3
   },
   "file_extension": ".py",
   "mimetype": "text/x-python",
   "name": "python",
   "nbconvert_exporter": "python",
   "pygments_lexer": "ipython3",
   "version": "3.7.6"
  },
  "pycharm": {
   "stem_cell": {
    "cell_type": "raw",
    "metadata": {
     "collapsed": false
    },
    "source": []
   }
  }
 },
 "nbformat": 4,
 "nbformat_minor": 4
}
