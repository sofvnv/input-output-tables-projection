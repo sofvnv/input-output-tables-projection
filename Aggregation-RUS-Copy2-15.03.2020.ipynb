{
 "cells": [
  {
   "cell_type": "code",
   "execution_count": 1,
   "metadata": {
    "pycharm": {
     "is_executing": false,
     "name": "#%%\n"
    }
   },
   "outputs": [],
   "source": [
    "from scripts import support, metrics, vectorization as v, aggregation\n",
    "from scripts.kuroda import kuroda\n",
    "from scripts.insd import insd\n",
    "from scripts.nras import nras\n",
    "import numpy as np\n",
    "import pandas as pd\n",
    "import matplotlib.pyplot as plt\n",
    "import sys\n",
    "from scipy.sparse import csr_matrix\n",
    "%matplotlib inline"
   ]
  },
  {
   "cell_type": "markdown",
   "metadata": {},
   "source": [
    "# Препроцессинг"
   ]
  },
  {
   "cell_type": "markdown",
   "metadata": {},
   "source": [
    "## Агрегирование"
   ]
  },
  {
   "cell_type": "markdown",
   "metadata": {},
   "source": [
    "### 1. Таблица ресурсов за 2011 год"
   ]
  },
  {
   "cell_type": "markdown",
   "metadata": {},
   "source": [
    "Загружаем базовую таблицу ресурсов за 2011 год."
   ]
  },
  {
   "cell_type": "code",
   "execution_count": 2,
   "metadata": {},
   "outputs": [
    {
     "name": "stdout",
     "output_type": "stream",
     "text": [
      "Размер базовой таблицы ресурсов за 2011 год:  (248, 178)\n"
     ]
    }
   ],
   "source": [
    "# базовая таблица РЕСУРСОВ за 2011\n",
    "\n",
    "df = pd.read_excel(\"./data/baz2011.xlsx\", \"ТР\")\n",
    "df = df.iloc[1:-3,3:-7]\n",
    "df = df.fillna(0)\n",
    "\n",
    "base2011_codes = df.drop(df.index[[1]], axis=0) # таблица 2011 года с кодами\n",
    "base2011 = df.drop(df.index[[0,1]], axis=0) # таблица 2011 года без кодов\n",
    "\n",
    "show_base2011_codes = base2011_codes # сохранили, чтобы была возможность в любой момент посмотреть таблицу\n",
    "show_base2011 = base2011\n",
    "\n",
    "print('Размер базовой таблицы ресурсов за 2011 год: ', base2011.shape)\n",
    "\n",
    "base2011 = np.array(df.drop(df.index[[0,1]], axis=0))\n",
    "base2011 = v.tovector(base2011).astype(float) # векторизовали\n"
   ]
  },
  {
   "cell_type": "markdown",
   "metadata": {},
   "source": [
    "#### Агрегирование по отраслям (столбцы)"
   ]
  },
  {
   "cell_type": "markdown",
   "metadata": {},
   "source": [
    "Поскольку степени агрегации для 2011 и 2016 годов различны, сделаем единую систему: будем объединять все отрасли с одинаковым начальным номером (проверяем первые две цифры), суммируя внутренние значения. "
   ]
  },
  {
   "cell_type": "code",
   "execution_count": 3,
   "metadata": {},
   "outputs": [],
   "source": [
    "# в строке с кодами оставим только первые два символа -- по ним и будем объединять\n",
    "\n",
    "for i in range(178):\n",
    "    a = str(base2011_codes.ix[1][i])\n",
    "    a = a[:2]\n",
    "    base2011_codes.ix[1][i] = a\n",
    "    \n",
    "base2011_codes.columns = base2011_codes.iloc[0] # сделали преобразованную строку с кодами -- заголовками\n",
    "base2011_codes = base2011_codes.drop(base2011_codes.index[0]) # избавились от отдельной строки с кодами\n",
    "\n",
    "base2011_codes = base2011_codes.groupby(base2011_codes.columns, axis=1).sum() # объединили данные в таблице по одинаковым столбцам\n",
    "                                                                              # (внутри суммируем)"
   ]
  },
  {
   "cell_type": "markdown",
   "metadata": {},
   "source": [
    "#### Агрегирование по продуктам (строки)"
   ]
  },
  {
   "cell_type": "code",
   "execution_count": 4,
   "metadata": {},
   "outputs": [],
   "source": [
    "# создаем функцию, которая будет отрезать первые две цифры кода продукта\n",
    "def splitter(x):    \n",
    "    a = str(x)\n",
    "    a=a[:2]\n",
    "    return a\n",
    "\n",
    "df = pd.read_excel(\"./data/baz2011.xlsx\", \"ТР\") # считали столбец с кодами\n",
    "df = df.iloc[3:-3,1:2]\n",
    "df = df.fillna(0)\n",
    "base2011_codes['codes_prod'] = df\n",
    "\n",
    "base2011_codes['codes_prod'] = base2011_codes['codes_prod'].apply(lambda x: splitter(x))  # преобразовали все коды до двух цифр\n",
    "base2011_codes = base2011_codes.groupby(base2011_codes['codes_prod']).sum() # сгруппировали"
   ]
  },
  {
   "cell_type": "markdown",
   "metadata": {},
   "source": [
    "#### Векторизация"
   ]
  },
  {
   "cell_type": "code",
   "execution_count": 27,
   "metadata": {},
   "outputs": [],
   "source": [
    "ag2011 = base2011_codes\n",
    "\n",
    "ag2011_arr = np.array(base2011_codes)\n",
    "ag2011_vec = v.tovector(ag2011_arr).astype(float)"
   ]
  },
  {
   "cell_type": "markdown",
   "metadata": {},
   "source": [
    "### 2. Таблица ресурсов за 2016 год"
   ]
  },
  {
   "cell_type": "code",
   "execution_count": 6,
   "metadata": {},
   "outputs": [
    {
     "name": "stdout",
     "output_type": "stream",
     "text": [
      "Размер базовой таблицы ресурсов за 2011 год:  (206, 98)\n"
     ]
    }
   ],
   "source": [
    "# базовая таблица РЕСУРСОВ за 2016\n",
    "\n",
    "df = pd.read_excel(\"./data/baz2016.xlsx\", \"ТР \")\n",
    "df = df.iloc[1:-3,3:-7]\n",
    "df = df.fillna(0)\n",
    "\n",
    "base2016_codes = df.drop(df.index[[1]], axis=0) # таблица 2011 года с кодами\n",
    "base2016 = df.drop(df.index[[0,1]], axis=0) # таблица 2011 года без кодов\n",
    "\n",
    "show_base2016_codes = base2016_codes # сохранили, чтобы была возможность в любой момент посмотреть таблицу\n",
    "show_base2016 = base2016\n",
    "\n",
    "print('Размер базовой таблицы ресурсов за 2011 год: ', base2016.shape)\n",
    "\n",
    "base2016 = np.array(df.drop(df.index[[0,1]], axis=0))\n",
    "base2016 = v.tovector(base2011).astype(float) # векторизовали"
   ]
  },
  {
   "cell_type": "markdown",
   "metadata": {},
   "source": [
    "#### Агрегирование по отраслям (столбцы)"
   ]
  },
  {
   "cell_type": "code",
   "execution_count": 7,
   "metadata": {},
   "outputs": [],
   "source": [
    "for i in range(98):\n",
    "    a = str(base2016_codes.ix[1][i])\n",
    "    a = a[:2]\n",
    "    base2016_codes.ix[1][i] = a\n",
    "    \n",
    "base2016_codes.columns = base2016_codes.iloc[0] # сделали преобразованную строку с кодами -- заголовками\n",
    "base2016_codes = base2016_codes.drop(base2016_codes.index[0]) # избавились от отдельной строки с кодами\n",
    "\n",
    "base2016_codes = base2016_codes.groupby(base2016_codes.columns, axis=1).sum() # объединили данные в таблице по одинаковым столбцам\n",
    "                                                                              # (внутри суммируем)"
   ]
  },
  {
   "cell_type": "markdown",
   "metadata": {},
   "source": [
    "#### Агрегирование по продуктам (строки)"
   ]
  },
  {
   "cell_type": "code",
   "execution_count": 8,
   "metadata": {},
   "outputs": [],
   "source": [
    "df = pd.read_excel(\"./data/baz2016.xlsx\", \"ТР \") # считали столбец с кодами\n",
    "df = df.iloc[3:-3,1:2]\n",
    "df = df.fillna(0)\n",
    "base2016_codes['codes_prod'] = df\n",
    "\n",
    "base2016_codes['codes_prod'] = base2016_codes['codes_prod'].apply(lambda x: splitter(x))  # преобразовали все коды до двух цифр\n",
    "base2016_codes = base2016_codes.groupby(base2016_codes['codes_prod']).sum() # сгруппировали"
   ]
  },
  {
   "cell_type": "code",
   "execution_count": 25,
   "metadata": {},
   "outputs": [
    {
     "data": {
      "text/plain": [
       "(59, 59)"
      ]
     },
     "execution_count": 25,
     "metadata": {},
     "output_type": "execute_result"
    }
   ],
   "source": [
    "base2016_codes.shape"
   ]
  },
  {
   "cell_type": "code",
   "execution_count": 26,
   "metadata": {},
   "outputs": [],
   "source": [
    "ag2016 = base2016_codes\n",
    "\n",
    "ag2016_arr = np.array(base2016_codes)\n",
    "ag2016_vec = v.tovector(ag2016_arr).astype(float)"
   ]
  },
  {
   "cell_type": "code",
   "execution_count": null,
   "metadata": {},
   "outputs": [],
   "source": [
    "experiments('sum', 'base2011_codes', 'base2016_codes', 'base2016_codes', 'проекция')"
   ]
  },
  {
   "cell_type": "markdown",
   "metadata": {},
   "source": [
    "#### Проверка"
   ]
  },
  {
   "cell_type": "code",
   "execution_count": 11,
   "metadata": {},
   "outputs": [],
   "source": [
    "df = pd.read_excel(\"./data/tri-2011 .xls\", \"ТР\")\n",
    "df = df.iloc[3:-3,3:-6]\n",
    "df = df.fillna(0)\n",
    "\n",
    "new_2011 = df"
   ]
  },
  {
   "cell_type": "code",
   "execution_count": 28,
   "metadata": {},
   "outputs": [
    {
     "data": {
      "text/plain": [
       "0.0"
      ]
     },
     "execution_count": 28,
     "metadata": {},
     "output_type": "execute_result"
    }
   ],
   "source": [
    "((np.array(ag2011)-np.array(new_2011))**2).sum()"
   ]
  },
  {
   "cell_type": "markdown",
   "metadata": {},
   "source": [
    "### Работаем с двумя таблицами"
   ]
  },
  {
   "cell_type": "code",
   "execution_count": 13,
   "metadata": {},
   "outputs": [],
   "source": [
    "# Занулим элементы, в которых меняется знак\n",
    "\n",
    "ag2011[ag2011 * ag2016 < 0] = 0\n",
    "ag2016[ag2011 * ag2016 < 0] = 0"
   ]
  },
  {
   "cell_type": "code",
   "execution_count": 29,
   "metadata": {},
   "outputs": [],
   "source": [
    "# Считаем итоги по строкам и столбцам\n",
    "\n",
    "# Для 2011 года:\n",
    "rows_sums_2011 = np.sum(ag2011, axis=1)\n",
    "columns_sums_2011 = np.sum(ag2011, axis=0)\n",
    "totals_2011 = np.concatenate((rows_sums_2011, columns_sums_2011)).astype(float)[np.newaxis].T\n",
    "\n",
    "# Для 2016 года:\n",
    "rows_sums_2016 = np.sum(ag2016, axis=1)\n",
    "columns_sums_2016 = np.sum(ag2016, axis=0)\n",
    "totals_2016 = np.concatenate((rows_sums_2016, columns_sums_2016)).astype(float)[np.newaxis].T"
   ]
  },
  {
   "cell_type": "code",
   "execution_count": 34,
   "metadata": {},
   "outputs": [
    {
     "data": {
      "text/plain": [
       "(118, 1)"
      ]
     },
     "execution_count": 34,
     "metadata": {},
     "output_type": "execute_result"
    }
   ],
   "source": [
    "totals_2011.shape"
   ]
  },
  {
   "cell_type": "markdown",
   "metadata": {},
   "source": [
    "## Проекция"
   ]
  },
  {
   "cell_type": "code",
   "execution_count": 43,
   "metadata": {},
   "outputs": [],
   "source": [
    "##### from scripts import support, metrics, vectorization as v, aggregation\n",
    "def experiment(tables_kind, method_name, bench_matrix, origin_matrix, target_matrix, experiment_type, sparsed = True, save = True, totals = False):\n",
    "    \"\"\"\n",
    "    Получение результата эксперимента\n",
    "\n",
    "    Parameters\n",
    "    ----------\n",
    "    tables_kind: string\n",
    "        степень аггрегации таблиц\n",
    "    method_name: string\n",
    "        метод для получения новой матрицы\n",
    "    bench_matrix: np.array или sparse матрица\n",
    "        бенчмарк таблица\n",
    "    origin_matrix: np.array или sparse матрица\n",
    "        оригинальная таблица\n",
    "    target_matrix: np.array или sparse матрица\n",
    "        целевая таблица\n",
    "    experiment_type: string\n",
    "        агрегация\\дезаггрегация\\проекция\n",
    "    sparse: bool\n",
    "        использовать sparse матрицу или np.array\n",
    "    Returns\n",
    "    -------\n",
    "    a: float\n",
    "        значение метрики\n",
    "    \"\"\"\n",
    "    if experiment_type == 'дезаггрегация':\n",
    "        if tables_kind == 'sum':\n",
    "            g = aggregation.keys_to_g(left_sum, right_sum)\n",
    "        elif tables_kind == 'sect':\n",
    "            g = aggregation.keys_to_g(left_sect, right_sect)\n",
    "        else:\n",
    "            raise Exception(\"Wrong tables_kind\", tables_kind)\n",
    "    elif experiment_type == 'проекция':\n",
    "        ttls = v.addrows((59,59))\n",
    "        g = v.addcolumns((59,59), ttls)\n",
    "    else:\n",
    "        raise Exception(\"Wrong experiment_type\",experiment_type)  \n",
    "    \n",
    "\n",
    "    if sparsed:\n",
    "        g = csr_matrix(g)\n",
    "        \n",
    "    if totals:\n",
    "        g_w_totals = v.addrows((59,59), g, sparsed=sparsed)\n",
    "        g_w_totals = v.addcolumns((59,59), g_w_totals, sparsed=sparsed)\n",
    "    \n",
    "    # For Kuroda\n",
    "    if len(method_name.split('_')) > 1:\n",
    "        \n",
    "        method, mtype = method_name.split('_')\n",
    "        method = eval(method)\n",
    "        results = np.round(method(g, eval(bench_matrix), eval(origin_matrix), mtype=int(mtype), sparsed=sparsed))\n",
    "    else:\n",
    "        method = eval(method_name)\n",
    "        results = method(g, eval(bench_matrix), eval(origin_matrix), sparsed=sparsed)\n",
    "    metrics_values = metrics.get_values(np.round(results), eval(target_matrix), save=True)\n",
    "    \n",
    "    # Save metrics' results\n",
    "    if save:\n",
    "        info = {'method':method_name, 'experiment_type':experiment_type, 'target_matrix':target_matrix, \n",
    "                'origin_matrix':origin_matrix, 'bench_matrix':bench_matrix}\n",
    "        info = {**info,**metrics_values}\n",
    "\n",
    "        res_table = pd.read_excel('results/results.xlsx')\n",
    "        res_table = res_table.append([info])\n",
    "        res_table.to_excel('results/results.xlsx', index=None,encoding='utf-8')\n",
    "\n",
    "    return metrics_values \n",
    "\n",
    "def experiments(tables_kind, bench_matrix, origin_matrix, target_matrix, experiment_type, totals = False):\n",
    "    methods_list = ['nras','insd','kuroda_3','kuroda_2','kuroda_1']\n",
    "    sparsed = True\n",
    "    for i, method in enumerate(methods_list):\n",
    "        print('Method:', method)\n",
    "        if i > 2:\n",
    "            sparsed = False\n",
    "        experiment(tables_kind, method, bench_matrix, origin_matrix, target_matrix, experiment_type, \n",
    "                   sparsed = sparsed, totals = totals)\n",
    "            "
   ]
  },
  {
   "cell_type": "code",
   "execution_count": 42,
   "metadata": {
    "collapsed": true,
    "jupyter": {
     "outputs_hidden": true
    }
   },
   "outputs": [
    {
     "name": "stdout",
     "output_type": "stream",
     "text": [
      "Method: nras\n",
      "100\n",
      "Method: insd\n",
      "Parameter BarConvTol unchanged\n",
      "   Value: 1e-08  Min: 0.0  Max: 1.0  Default: 1e-08\n",
      "Parameter BarQCPConvTol unchanged\n",
      "   Value: 1e-06  Min: 0.0  Max: 1.0  Default: 1e-06\n",
      "Changed value of parameter DualReductions to 0\n",
      "   Prev: 1  Min: 0  Max: 1  Default: 1\n",
      "Method: kuroda_3\n",
      "Parameter BarConvTol unchanged\n",
      "   Value: 1e-08  Min: 0.0  Max: 1.0  Default: 1e-08\n",
      "Parameter BarQCPConvTol unchanged\n",
      "   Value: 1e-06  Min: 0.0  Max: 1.0  Default: 1e-06\n",
      "Parameter DualReductions unchanged\n",
      "   Value: 1  Min: 0  Max: 1  Default: 1\n",
      "Method: kuroda_2\n",
      "Parameter BarConvTol unchanged\n",
      "   Value: 1e-08  Min: 0.0  Max: 1.0  Default: 1e-08\n",
      "Parameter BarQCPConvTol unchanged\n",
      "   Value: 1e-06  Min: 0.0  Max: 1.0  Default: 1e-06\n",
      "Parameter DualReductions unchanged\n",
      "   Value: 1  Min: 0  Max: 1  Default: 1\n",
      "Method: kuroda_1\n",
      "Parameter BarConvTol unchanged\n",
      "   Value: 1e-08  Min: 0.0  Max: 1.0  Default: 1e-08\n",
      "Parameter BarQCPConvTol unchanged\n",
      "   Value: 1e-06  Min: 0.0  Max: 1.0  Default: 1e-06\n",
      "Parameter DualReductions unchanged\n",
      "   Value: 1  Min: 0  Max: 1  Default: 1\n"
     ]
    }
   ],
   "source": [
    "#Эксперимент: проекция таблицы 2016 года из таблицы 2011 года\n",
    "#Бенчмарк: ag2011 (базовая таблица за 2011 год с максимальной агрегацией)\n",
    "#Ограничения: таблица totals_2016\n",
    "#Методы: NRAS, точность 0.01, 100 иттераций, INSD, Kuroda(1,2,3)\n",
    "\n",
    "experiments('', 'ag2011_vec', 'totals_2016', 'ag2016_vec', 'проекция')"
   ]
  },
  {
   "cell_type": "code",
   "execution_count": 44,
   "metadata": {},
   "outputs": [
    {
     "name": "stdout",
     "output_type": "stream",
     "text": [
      "100\n"
     ]
    },
    {
     "data": {
      "text/plain": [
       "{'N0': 430,\n",
       " 'PSISTAT': 0.0062,\n",
       " 'RSQ': 0.9998,\n",
       " 'MAPE': 413.7468,\n",
       " 'SWAD': 0.0057,\n",
       " 'WAPE': 3.0921}"
      ]
     },
     "execution_count": 44,
     "metadata": {},
     "output_type": "execute_result"
    }
   ],
   "source": [
    "experiment('', 'nras', 'ag2011_vec', 'totals_2016', 'ag2016_vec', 'проекция', True)"
   ]
  },
  {
   "cell_type": "markdown",
   "metadata": {},
   "source": [
    "-----------"
   ]
  },
  {
   "cell_type": "markdown",
   "metadata": {},
   "source": [
    "                                                ДАЛЕЕ СТАРЫЙ КОД"
   ]
  },
  {
   "cell_type": "markdown",
   "metadata": {},
   "source": [
    "-----------"
   ]
  },
  {
   "cell_type": "code",
   "execution_count": 44,
   "metadata": {
    "collapsed": true,
    "jupyter": {
     "outputs_hidden": true
    },
    "pycharm": {
     "name": "#%%\n"
    }
   },
   "outputs": [],
   "source": [
    "#DET 2012\n",
    "\n",
    "\n",
    "df = pd.read_excel(\"./data/Use_SUT_Framework_2007_2012_DET.xlsx\", \"2012\")\n",
    "df = df.iloc[5:-11,2:-21]\n",
    "df = df.fillna(0)\n",
    "\n",
    "DET_2012 = np.array(df)\n",
    "DET_2012 = np.where(DET_2012=='...', 0, DET_2012)\n",
    "dt_2012 = v.tovector(DET_2012).astype(float)\n",
    "\n",
    "\n",
    "#Зануляем элементы, в которых меняется знак\n",
    "det_2007 = dt_2007\n",
    "det_2012 = dt_2012\n",
    "det_2007[dt_2007 * dt_2012 < 0] = 0\n",
    "det_2012[dt_2007 * dt_2012 < 0] = 0\n",
    "DET_2012[DET_2007 * DET_2012 < 0] = 0\n",
    "\n",
    "\n",
    "#Считаем итоги по строкам и столбцам\n",
    "rows_sums_2012 = np.sum(DET_2012, axis=1)\n",
    "columns_sums_2012 = np.sum(DET_2012, axis=0)\n",
    "totals_2012 = np.concatenate((rows_sums_2012, columns_sums_2012)).astype(float)[np.newaxis].T\n",
    "# DET_2012"
   ]
  },
  {
   "cell_type": "code",
   "execution_count": 45,
   "metadata": {
    "collapsed": true,
    "jupyter": {
     "outputs_hidden": true
    }
   },
   "outputs": [],
   "source": [
    "#SUM 2007\n",
    "\n",
    "\n",
    "df = pd.read_excel(\"./data/Use_SUT_Framework_1997-2017_SUM.xlsx\", \"2007\")\n",
    "df = df.iloc[6:-9,2:-21]\n",
    "df = df.fillna(0)\n",
    "\n",
    "SUM_2007 = np.array(df)\n",
    "SUM_2007 = np.where(SUM_2007=='...', 0, SUM_2007)\n",
    "\n",
    "SUM_2007[[72, 71]] = SUM_2007[[71, 72]]\n",
    "sum_2007 = v.tovector(SUM_2007).astype(float)\n",
    "\n",
    "#Считаем итоги по строкам и столбцам\n",
    "rows_sums_2007 = np.sum(DET_2007, axis=1)\n",
    "columns_sums_2007 = np.sum(DET_2007, axis=0)\n",
    "totals_2007 = np.concatenate((rows_sums_2007, columns_sums_2007)).astype(float)[np.newaxis].T\n",
    "# np.shape(SUM_2007)"
   ]
  },
  {
   "cell_type": "code",
   "execution_count": 46,
   "metadata": {
    "collapsed": true,
    "jupyter": {
     "outputs_hidden": true
    }
   },
   "outputs": [],
   "source": [
    "#SUM 2012\n",
    "\n",
    "\n",
    "df = pd.read_excel(\"./data/Use_SUT_Framework_1997-2017_SUM.xlsx\", \"2012\")\n",
    "df = df.iloc[6:-9,2:-21]\n",
    "df = df.fillna(0)\n",
    "\n",
    "SUM_2012 = np.array(df)\n",
    "SUM_2012 = np.where(SUM_2012=='...', 0, SUM_2012)\n",
    "\n",
    "SUM_2012[[72, 71]] = SUM_2012[[71, 72]]\n",
    "sum_2012 = v.tovector(SUM_2012).astype(float)\n",
    "# SUM_2012"
   ]
  },
  {
   "cell_type": "code",
   "execution_count": 47,
   "metadata": {
    "collapsed": true,
    "jupyter": {
     "outputs_hidden": true
    }
   },
   "outputs": [],
   "source": [
    "#SECT 2007\n",
    "\n",
    "\n",
    "df = pd.read_excel(\"./data/Use_SUT_Framework_1997-2017_SECT.xlsx\", \"2007\")\n",
    "df = df.iloc[6:-9, 2:-7]\n",
    "df = df.fillna(0)\n",
    "\n",
    "SECT_2007 = np.array(df)\n",
    "SECT_2007 = np.where(SECT_2007=='...', 0, SECT_2007)\n",
    "sect_2007 = v.tovector(SECT_2007).astype(float)\n",
    "# SECT_2007"
   ]
  },
  {
   "cell_type": "code",
   "execution_count": 48,
   "metadata": {
    "collapsed": true,
    "jupyter": {
     "outputs_hidden": true
    }
   },
   "outputs": [],
   "source": [
    "#SECT 2012\n",
    "\n",
    "\n",
    "df = pd.read_excel(\"./data/Use_SUT_Framework_1997-2017_SECT.xlsx\", \"2012\")\n",
    "df = df.iloc[6:-9, 2:-7]\n",
    "df = df.fillna(0)\n",
    "\n",
    "SECT_2012 = np.array(df)\n",
    "SECT_2012 = np.where(SECT_2012=='...', 0, SECT_2012)\n",
    "sect_2012 = v.tovector(SECT_2012).astype(float)\n",
    "# SECT_2012"
   ]
  },
  {
   "cell_type": "code",
   "execution_count": 49,
   "metadata": {
    "collapsed": true,
    "jupyter": {
     "outputs_hidden": true
    }
   },
   "outputs": [],
   "source": [
    "#parsing aggregation codes\n",
    "\n",
    "\n",
    "sect_rows, sect_columns, sum_rows, sum_columns = aggregation.parse_agg(codes)"
   ]
  },
  {
   "cell_type": "code",
   "execution_count": 50,
   "metadata": {
    "collapsed": true,
    "jupyter": {
     "outputs_hidden": true
    },
    "pycharm": {
     "name": "#%%\n"
    }
   },
   "outputs": [],
   "source": [
    "#Составляем матрицы-ключи агрегации и векторизованный вид\n",
    "#Для аггрегации в SUM (73,71)\n",
    "\n",
    "left_sum = aggregation.make_keym(405, 73, sum_rows)\n",
    "right_sum = aggregation.make_keym(405, 71, sum_columns)\n",
    "\n",
    "g_to_sum = csr_matrix(aggregation.keys_to_g(left_sum, right_sum))"
   ]
  },
  {
   "cell_type": "code",
   "execution_count": 52,
   "metadata": {
    "collapsed": true,
    "jupyter": {
     "outputs_hidden": true
    },
    "pycharm": {
     "name": "#%%\n"
    }
   },
   "outputs": [],
   "source": [
    "#Составляем матрицы-ключи агрегации и векторизованный вид\n",
    "#Для аггрегации в SECT (17,15)\n",
    "\n",
    "left_sect = aggregation.make_keym(405, 17, sect_rows)\n",
    "right_sect = aggregation.make_keym(405, 15, sect_columns)\n",
    "\n",
    "g_to_sect = csr_matrix(aggregation.keys_to_g(left_sect, right_sect))"
   ]
  },
  {
   "cell_type": "code",
   "execution_count": 53,
   "metadata": {
    "collapsed": true,
    "jupyter": {
     "outputs_hidden": true
    }
   },
   "outputs": [],
   "source": [
    "true_sum_2012 = g_to_sum @ det_2012"
   ]
  },
  {
   "cell_type": "code",
   "execution_count": 54,
   "metadata": {
    "collapsed": true,
    "jupyter": {
     "outputs_hidden": true
    }
   },
   "outputs": [],
   "source": [
    "true_sect_2012 = g_to_sect @ det_2012"
   ]
  },
  {
   "cell_type": "code",
   "execution_count": 59,
   "metadata": {
    "collapsed": true,
    "jupyter": {
     "outputs_hidden": true
    }
   },
   "outputs": [],
   "source": [
    "# Add totals to aggregation\n",
    "sum_2012_with_totals = np.append(sum_2012, totals_2012, axis=0)\n",
    "true_sum_2012_with_totals = np.append(true_sum_2012, totals_2012, axis=0)\n",
    "\n",
    "\n",
    "g_sum_w_totals = v.addrows((405,405), g_to_sum, sparsed=True)\n",
    "g_sum_w_totals = v.addcolumns((405,405), g_sum_w_totals, sparsed=True)"
   ]
  },
  {
   "cell_type": "code",
   "execution_count": 60,
   "metadata": {},
   "outputs": [
    {
     "data": {
      "text/plain": [
       "<matplotlib.lines.Line2D at 0x1299f75c0>"
      ]
     },
     "execution_count": 60,
     "metadata": {},
     "output_type": "execute_result"
    },
    {
     "data": {
      "image/png": "[encoded data removed]",
      "text/plain": [
       "<Figure size 432x288 with 1 Axes>"
      ]
     },
     "metadata": {},
     "output_type": "display_data"
    }
   ],
   "source": [
    "plt.spy(g_sum_w_totals,aspect='auto')"
   ]
  },
  {
   "cell_type": "markdown",
   "metadata": {},
   "source": [
    "## Let's experiment!"
   ]
  },
  {
   "cell_type": "code",
   "execution_count": 16,
   "metadata": {},
   "outputs": [],
   "source": [
    "from scripts import support, metrics, vectorization as v, aggregation\n",
    "def experiment(tables_kind, method_name, bench_matrix, origin_matrix, target_matrix, experiment_type, sparsed = True, save = True, totals = False):\n",
    "    \"\"\"\n",
    "    Получение результата эксперимента\n",
    "\n",
    "    Parameters\n",
    "    ----------\n",
    "    tables_kind: string\n",
    "        степень аггрегации таблиц\n",
    "    method_name: string\n",
    "        метод для получения новой матрицы\n",
    "    bench_matrix: np.array или sparse матрица\n",
    "        бенчмарк таблица\n",
    "    origin_matrix: np.array или sparse матрица\n",
    "        оригинальная таблица\n",
    "    target_matrix: np.array или sparse матрица\n",
    "        целевая таблица\n",
    "    experiment_type: string\n",
    "        агрегация\\дезаггрегация\\проекция\n",
    "    sparse: bool\n",
    "        использовать sparse матрицу или np.array\n",
    "    Returns\n",
    "    -------\n",
    "    a: float\n",
    "        значение метрики\n",
    "    \"\"\"\n",
    "    if experiment_type == 'дезаггрегация':\n",
    "        if tables_kind == 'sum':\n",
    "            g = aggregation.keys_to_g(left_sum, right_sum)\n",
    "        elif tables_kind == 'sect':\n",
    "            g = aggregation.keys_to_g(left_sect, right_sect)\n",
    "        else:\n",
    "            raise Exception(\"Wrong tables_kind\", tables_kind)\n",
    "    elif experiment_type == 'проекция':\n",
    "        ttls = v.addrows((405,405))\n",
    "        g = v.addcolumns((405,405), ttls)\n",
    "    else:\n",
    "        raise Exception(\"Wrong experiment_type\",experiment_type)  \n",
    "    \n",
    "\n",
    "    if sparsed:\n",
    "        g = csr_matrix(g)\n",
    "        \n",
    "    if totals:\n",
    "        g_w_totals = v.addrows((405,405), g, sparsed=sparsed)\n",
    "        g_w_totals = v.addcolumns((405,405), g_w_totals, sparsed=sparsed)\n",
    "    \n",
    "    # For Kuroda\n",
    "    if len(method_name.split('_')) > 1:\n",
    "        \n",
    "        method, mtype = method_name.split('_')\n",
    "        method = eval(method)\n",
    "        results = np.round(method(g, eval(bench_matrix), eval(origin_matrix), mtype=int(mtype), sparsed=sparsed))\n",
    "    else:\n",
    "        method = eval(method_name)\n",
    "        results = method(g, eval(bench_matrix), eval(origin_matrix), sparsed=sparsed)\n",
    "    metrics_values = metrics.get_values(np.round(results), eval(target_matrix), save=True)\n",
    "    \n",
    "    # Save metrics' results\n",
    "    if save:\n",
    "        info = {'method':method_name, 'experiment_type':experiment_type, 'target_matrix':target_matrix, \n",
    "                'origin_matrix':origin_matrix, 'bench_matrix':bench_matrix}\n",
    "        info = {**info,**metrics_values}\n",
    "\n",
    "        res_table = pd.read_excel('results/results.xlsx')\n",
    "        res_table = res_table.append([info])\n",
    "        res_table.to_excel('results/results.xlsx', index=None,encoding='utf-8')\n",
    "\n",
    "    return metrics_values \n",
    "\n",
    "def experiments(tables_kind, bench_matrix, origin_matrix, target_matrix, experiment_type, totals = False):\n",
    "    methods_list = ['nras','insd','kuroda_3','kuroda_2','kuroda_1']\n",
    "    sparsed = True\n",
    "    for i, method in enumerate(methods_list):\n",
    "        print('Method:', method)\n",
    "        if i > 2:\n",
    "            sparsed = False\n",
    "        experiment(tables_kind, method, bench_matrix, origin_matrix, target_matrix, experiment_type, \n",
    "                   sparsed = sparsed, totals = totals)\n",
    "            "
   ]
  },
  {
   "cell_type": "code",
   "execution_count": 40,
   "metadata": {},
   "outputs": [
    {
     "name": "stdout",
     "output_type": "stream",
     "text": [
      "Method: nras\n",
      "67\n",
      "Method: insd\n",
      "Parameter BarConvTol unchanged\n",
      "   Value: 1e-08  Min: 0.0  Max: 1.0  Default: 1e-08\n",
      "Parameter BarQCPConvTol unchanged\n",
      "   Value: 1e-06  Min: 0.0  Max: 1.0  Default: 1e-06\n",
      "Changed value of parameter DualReductions to 0\n",
      "   Prev: 1  Min: 0  Max: 1  Default: 1\n",
      "Method: kuroda_3\n",
      "Parameter BarConvTol unchanged\n",
      "   Value: 1e-08  Min: 0.0  Max: 1.0  Default: 1e-08\n",
      "Parameter BarQCPConvTol unchanged\n",
      "   Value: 1e-06  Min: 0.0  Max: 1.0  Default: 1e-06\n",
      "Parameter DualReductions unchanged\n",
      "   Value: 1  Min: 0  Max: 1  Default: 1\n",
      "Method: kuroda_2\n",
      "Parameter BarConvTol unchanged\n",
      "   Value: 1e-08  Min: 0.0  Max: 1.0  Default: 1e-08\n",
      "Parameter BarQCPConvTol unchanged\n",
      "   Value: 1e-06  Min: 0.0  Max: 1.0  Default: 1e-06\n",
      "Parameter DualReductions unchanged\n",
      "   Value: 1  Min: 0  Max: 1  Default: 1\n",
      "Method: kuroda_1\n",
      "Parameter BarConvTol unchanged\n",
      "   Value: 1e-08  Min: 0.0  Max: 1.0  Default: 1e-08\n",
      "Parameter BarQCPConvTol unchanged\n",
      "   Value: 1e-06  Min: 0.0  Max: 1.0  Default: 1e-06\n",
      "Parameter DualReductions unchanged\n",
      "   Value: 1  Min: 0  Max: 1  Default: 1\n"
     ]
    }
   ],
   "source": [
    "#Эксперимент: проекция таблицы DET_2012 из таблицы totals_2012\n",
    "#Бенчмарк: DET_2007\n",
    "#Ограничения: таблица totals_2012\n",
    "#Методы: NRAS, точность 0.01, 100 иттераций, INSD, Kuroda(1,2,3)\n",
    "\n",
    "experiments('', 'det_2007', 'totals_2012', 'det_2012', 'проекция')"
   ]
  },
  {
   "cell_type": "code",
   "execution_count": 56,
   "metadata": {},
   "outputs": [
    {
     "name": "stdout",
     "output_type": "stream",
     "text": [
      "Method: nras\n",
      "78\n",
      "Method: insd\n",
      "Parameter BarConvTol unchanged\n",
      "   Value: 1e-08  Min: 0.0  Max: 1.0  Default: 1e-08\n",
      "Parameter BarQCPConvTol unchanged\n",
      "   Value: 1e-06  Min: 0.0  Max: 1.0  Default: 1e-06\n",
      "Changed value of parameter DualReductions to 0\n",
      "   Prev: 1  Min: 0  Max: 1  Default: 1\n",
      "Method: kuroda_3\n",
      "Parameter BarConvTol unchanged\n",
      "   Value: 1e-08  Min: 0.0  Max: 1.0  Default: 1e-08\n",
      "Parameter BarQCPConvTol unchanged\n",
      "   Value: 1e-06  Min: 0.0  Max: 1.0  Default: 1e-06\n",
      "Parameter DualReductions unchanged\n",
      "   Value: 1  Min: 0  Max: 1  Default: 1\n",
      "Method: kuroda_2\n",
      "Parameter BarConvTol unchanged\n",
      "   Value: 1e-08  Min: 0.0  Max: 1.0  Default: 1e-08\n",
      "Parameter BarQCPConvTol unchanged\n",
      "   Value: 1e-06  Min: 0.0  Max: 1.0  Default: 1e-06\n",
      "Parameter DualReductions unchanged\n",
      "   Value: 1  Min: 0  Max: 1  Default: 1\n",
      "Method: kuroda_1\n",
      "Parameter BarConvTol unchanged\n",
      "   Value: 1e-08  Min: 0.0  Max: 1.0  Default: 1e-08\n",
      "Parameter BarQCPConvTol unchanged\n",
      "   Value: 1e-06  Min: 0.0  Max: 1.0  Default: 1e-06\n",
      "Parameter DualReductions unchanged\n",
      "   Value: 1  Min: 0  Max: 1  Default: 1\n"
     ]
    }
   ],
   "source": [
    "#Эксперимент: проекция таблицы DET_2007 из таблицы totals_2007\n",
    "#Бенчмарк: DET_2012\n",
    "#Ограничения: таблица totals_2007\n",
    "#Методы: NRAS, точность 0.01, 100 иттераций, INSD, Kuroda(1,2,3)\n",
    "\n",
    "experiments('', 'det_2012', 'totals_2007', 'det_2007', 'проекция')"
   ]
  },
  {
   "cell_type": "code",
   "execution_count": 15,
   "metadata": {},
   "outputs": [
    {
     "name": "stdout",
     "output_type": "stream",
     "text": [
      "1\n"
     ]
    },
    {
     "data": {
      "text/plain": [
       "{'N0': 1481,\n",
       " 'PSISTAT': 0.0338,\n",
       " 'RSQ': 0.9684,\n",
       " 'MAPE': 14.9614,\n",
       " 'SWAD': 0.066,\n",
       " 'WAPE': 23.2184}"
      ]
     },
     "execution_count": 15,
     "metadata": {},
     "output_type": "execute_result"
    }
   ],
   "source": [
    "experiment('sum', 'nras', 'det_2007', 'true_sum_2012', 'det_2012', 'дезаггрегация', True)"
   ]
  },
  {
   "cell_type": "code",
   "execution_count": 16,
   "metadata": {},
   "outputs": [
    {
     "name": "stdout",
     "output_type": "stream",
     "text": [
      "Academic license - for non-commercial use only\n",
      "Parameter BarConvTol unchanged\n",
      "   Value: 1e-08  Min: 0.0  Max: 1.0  Default: 1e-08\n",
      "Parameter BarQCPConvTol unchanged\n",
      "   Value: 1e-06  Min: 0.0  Max: 1.0  Default: 1e-06\n",
      "Changed value of parameter DualReductions to 0\n",
      "   Prev: 1  Min: 0  Max: 1  Default: 1\n"
     ]
    },
    {
     "data": {
      "text/plain": [
       "{'N0': 1443,\n",
       " 'PSISTAT': 0.0338,\n",
       " 'RSQ': 0.9684,\n",
       " 'MAPE': 14.9658,\n",
       " 'SWAD': 0.066,\n",
       " 'WAPE': 23.2178}"
      ]
     },
     "execution_count": 16,
     "metadata": {},
     "output_type": "execute_result"
    }
   ],
   "source": [
    "experiment('sum', 'insd', 'det_2007', 'true_sum_2012', 'det_2012', 'дезаггрегация', True)"
   ]
  },
  {
   "cell_type": "code",
   "execution_count": 17,
   "metadata": {},
   "outputs": [
    {
     "name": "stdout",
     "output_type": "stream",
     "text": [
      "Parameter BarConvTol unchanged\n",
      "   Value: 1e-08  Min: 0.0  Max: 1.0  Default: 1e-08\n",
      "Parameter BarQCPConvTol unchanged\n",
      "   Value: 1e-06  Min: 0.0  Max: 1.0  Default: 1e-06\n",
      "Parameter DualReductions unchanged\n",
      "   Value: 1  Min: 0  Max: 1  Default: 1\n"
     ]
    },
    {
     "data": {
      "text/plain": [
       "{'N0': 1873,\n",
       " 'PSISTAT': 0.0339,\n",
       " 'RSQ': 0.9684,\n",
       " 'MAPE': 15.0596,\n",
       " 'SWAD': 0.066,\n",
       " 'WAPE': 23.2343}"
      ]
     },
     "execution_count": 17,
     "metadata": {},
     "output_type": "execute_result"
    }
   ],
   "source": [
    "experiment('sum', 'kuroda_3', 'det_2007', 'true_sum_2012', 'det_2012', 'дезаггрегация', sparsed = True)"
   ]
  },
  {
   "cell_type": "code",
   "execution_count": 23,
   "metadata": {},
   "outputs": [
    {
     "name": "stdout",
     "output_type": "stream",
     "text": [
      "Parameter BarConvTol unchanged\n",
      "   Value: 1e-08  Min: 0.0  Max: 1.0  Default: 1e-08\n",
      "Parameter BarQCPConvTol unchanged\n",
      "   Value: 1e-06  Min: 0.0  Max: 1.0  Default: 1e-06\n",
      "Parameter DualReductions unchanged\n",
      "   Value: 1  Min: 0  Max: 1  Default: 1\n"
     ]
    },
    {
     "data": {
      "text/plain": [
       "{'MAPE': 14.9874,\n",
       " 'N0': 1453,\n",
       " 'PSISTAT': 0.0338,\n",
       " 'RSQ': 0.9684,\n",
       " 'SWAD': 0.066,\n",
       " 'WAPE': 23.2234}"
      ]
     },
     "execution_count": 23,
     "metadata": {},
     "output_type": "execute_result"
    }
   ],
   "source": [
    "experiment('sum', 'kuroda_2', 'det_2007', 'true_sum_2012', 'det_2012', 'дезаггрегация', sparsed = False)"
   ]
  },
  {
   "cell_type": "code",
   "execution_count": 19,
   "metadata": {},
   "outputs": [
    {
     "name": "stdout",
     "output_type": "stream",
     "text": [
      "Parameter BarConvTol unchanged\n",
      "   Value: 1e-08  Min: 0.0  Max: 1.0  Default: 1e-08\n",
      "Parameter BarQCPConvTol unchanged\n",
      "   Value: 1e-06  Min: 0.0  Max: 1.0  Default: 1e-06\n",
      "Parameter DualReductions unchanged\n",
      "   Value: 1  Min: 0  Max: 1  Default: 1\n"
     ]
    },
    {
     "data": {
      "text/plain": [
       "{'N0': 1436,\n",
       " 'PSISTAT': 0.0338,\n",
       " 'RSQ': 0.9684,\n",
       " 'MAPE': 14.9839,\n",
       " 'SWAD': 0.066,\n",
       " 'WAPE': 23.2231}"
      ]
     },
     "execution_count": 19,
     "metadata": {},
     "output_type": "execute_result"
    }
   ],
   "source": [
    "experiment('sum', 'kuroda_1', 'det_2007', 'true_sum_2012', 'det_2012', 'дезаггрегация', sparsed = False)"
   ]
  },
  {
   "cell_type": "code",
   "execution_count": 20,
   "metadata": {},
   "outputs": [
    {
     "name": "stdout",
     "output_type": "stream",
     "text": [
      "1\n"
     ]
    },
    {
     "data": {
      "text/plain": [
       "{'N0': 1536,\n",
       " 'PSISTAT': 0.0554,\n",
       " 'RSQ': 0.9515,\n",
       " 'MAPE': 19.3193,\n",
       " 'SWAD': 0.1161,\n",
       " 'WAPE': 32.4386}"
      ]
     },
     "execution_count": 20,
     "metadata": {},
     "output_type": "execute_result"
    }
   ],
   "source": [
    "experiment('sect', 'nras', 'det_2007', 'true_sect_2012', 'det_2012', 'дезаггрегация', True)"
   ]
  },
  {
   "cell_type": "code",
   "execution_count": 21,
   "metadata": {},
   "outputs": [
    {
     "name": "stdout",
     "output_type": "stream",
     "text": [
      "Parameter BarConvTol unchanged\n",
      "   Value: 1e-08  Min: 0.0  Max: 1.0  Default: 1e-08\n",
      "Parameter BarQCPConvTol unchanged\n",
      "   Value: 1e-06  Min: 0.0  Max: 1.0  Default: 1e-06\n",
      "Changed value of parameter DualReductions to 0\n",
      "   Prev: 1  Min: 0  Max: 1  Default: 1\n"
     ]
    },
    {
     "data": {
      "text/plain": [
       "{'N0': 1508,\n",
       " 'PSISTAT': 0.0554,\n",
       " 'RSQ': 0.9515,\n",
       " 'MAPE': 19.3278,\n",
       " 'SWAD': 0.1161,\n",
       " 'WAPE': 32.4389}"
      ]
     },
     "execution_count": 21,
     "metadata": {},
     "output_type": "execute_result"
    }
   ],
   "source": [
    "experiment('sect', 'insd', 'det_2007', 'true_sect_2012', 'det_2012', 'дезаггрегация', True)"
   ]
  },
  {
   "cell_type": "code",
   "execution_count": 22,
   "metadata": {},
   "outputs": [
    {
     "name": "stdout",
     "output_type": "stream",
     "text": [
      "Parameter BarConvTol unchanged\n",
      "   Value: 1e-08  Min: 0.0  Max: 1.0  Default: 1e-08\n",
      "Parameter BarQCPConvTol unchanged\n",
      "   Value: 1e-06  Min: 0.0  Max: 1.0  Default: 1e-06\n",
      "Parameter DualReductions unchanged\n",
      "   Value: 1  Min: 0  Max: 1  Default: 1\n"
     ]
    },
    {
     "data": {
      "text/plain": [
       "{'N0': 7766,\n",
       " 'PSISTAT': 0.0597,\n",
       " 'RSQ': 0.9482,\n",
       " 'MAPE': 21.3856,\n",
       " 'SWAD': 0.1161,\n",
       " 'WAPE': 32.9823}"
      ]
     },
     "execution_count": 22,
     "metadata": {},
     "output_type": "execute_result"
    }
   ],
   "source": [
    "experiment('sect', 'kuroda_3', 'det_2007', 'true_sect_2012', 'det_2012', 'дезаггрегация', sparsed = True)"
   ]
  },
  {
   "cell_type": "code",
   "execution_count": 23,
   "metadata": {},
   "outputs": [
    {
     "name": "stdout",
     "output_type": "stream",
     "text": [
      "Parameter BarConvTol unchanged\n",
      "   Value: 1e-08  Min: 0.0  Max: 1.0  Default: 1e-08\n",
      "Parameter BarQCPConvTol unchanged\n",
      "   Value: 1e-06  Min: 0.0  Max: 1.0  Default: 1e-06\n",
      "Parameter DualReductions unchanged\n",
      "   Value: 1  Min: 0  Max: 1  Default: 1\n"
     ]
    },
    {
     "data": {
      "text/plain": [
       "{'N0': 1509,\n",
       " 'PSISTAT': 0.0554,\n",
       " 'RSQ': 0.9515,\n",
       " 'MAPE': 19.352,\n",
       " 'SWAD': 0.1161,\n",
       " 'WAPE': 32.4562}"
      ]
     },
     "execution_count": 23,
     "metadata": {},
     "output_type": "execute_result"
    }
   ],
   "source": [
    "experiment('sect', 'kuroda_2', 'det_2007', 'true_sect_2012', 'det_2012', 'дезаггрегация', sparsed = False)"
   ]
  },
  {
   "cell_type": "code",
   "execution_count": 24,
   "metadata": {},
   "outputs": [
    {
     "name": "stdout",
     "output_type": "stream",
     "text": [
      "Parameter BarConvTol unchanged\n",
      "   Value: 1e-08  Min: 0.0  Max: 1.0  Default: 1e-08\n",
      "Parameter BarQCPConvTol unchanged\n",
      "   Value: 1e-06  Min: 0.0  Max: 1.0  Default: 1e-06\n",
      "Parameter DualReductions unchanged\n",
      "   Value: 1  Min: 0  Max: 1  Default: 1\n"
     ]
    },
    {
     "data": {
      "text/plain": [
       "{'N0': 1509,\n",
       " 'PSISTAT': 0.0554,\n",
       " 'RSQ': 0.9515,\n",
       " 'MAPE': 19.352,\n",
       " 'SWAD': 0.1161,\n",
       " 'WAPE': 32.4562}"
      ]
     },
     "execution_count": 24,
     "metadata": {},
     "output_type": "execute_result"
    }
   ],
   "source": [
    "experiment('sect', 'kuroda_1', 'det_2007', 'true_sect_2012', 'det_2012', 'дезаггрегация', sparsed = False)"
   ]
  },
  {
   "cell_type": "code",
   "execution_count": 9,
   "metadata": {},
   "outputs": [
    {
     "name": "stdout",
     "output_type": "stream",
     "text": [
      "Academic license - for non-commercial use only\n",
      "Parameter BarConvTol unchanged\n",
      "   Value: 1e-08  Min: 0.0  Max: 1.0  Default: 1e-08\n",
      "Parameter BarQCPConvTol unchanged\n",
      "   Value: 1e-06  Min: 0.0  Max: 1.0  Default: 1e-06\n",
      "Parameter DualReductions unchanged\n",
      "   Value: 1  Min: 0  Max: 1  Default: 1\n",
      "N0 1511\n",
      "PSISTAT 0.0428\n",
      "RSQ 0.9501\n",
      "MAPE 13.618\n",
      "SWAD 0.1043\n",
      "WAPE 26.6881\n"
     ]
    }
   ],
   "source": [
    "\n",
    "\n",
    "ttls = v.addrows((405,405))\n",
    "ttls = v.addcolumns((405,405), ttls)\n",
    "tst = kuroda(ttls, det_2007, totals_2012, 1)\n",
    "metrics.get_values(tst, det_2012)"
   ]
  },
  {
   "cell_type": "code",
   "execution_count": null,
   "metadata": {
    "collapsed": true,
    "jupyter": {
     "outputs_hidden": true
    }
   },
   "outputs": [],
   "source": []
  }
 ],
 "metadata": {
  "kernelspec": {
   "display_name": "Python 3",
   "language": "python",
   "name": "python3"
  },
  "language_info": {
   "codemirror_mode": {
    "name": "ipython",
    "version": 3
   },
   "file_extension": ".py",
   "mimetype": "text/x-python",
   "name": "python",
   "nbconvert_exporter": "python",
   "pygments_lexer": "ipython3",
   "version": "3.7.4"
  },
  "pycharm": {
   "stem_cell": {
    "cell_type": "raw",
    "metadata": {
     "collapsed": false
    },
    "source": []
   }
  }
 },
 "nbformat": 4,
 "nbformat_minor": 4
}
