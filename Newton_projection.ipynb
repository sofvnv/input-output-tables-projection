{
 "cells": [
  {
   "cell_type": "code",
   "execution_count": 2,
   "metadata": {},
   "outputs": [],
   "source": [
    "import numpy as np\n",
    "import pandas as pd\n",
    "from tqdm import tqdm\n",
    "import matplotlib.pyplot as plt"
   ]
  },
  {
   "cell_type": "code",
   "execution_count": 4,
   "metadata": {},
   "outputs": [],
   "source": [
    "X_2011 = pd.read_csv('./data/supply_2011.csv')\n",
    "X_2016 = pd.read_csv('./data/supply_2016.csv')"
   ]
  },
  {
   "cell_type": "code",
   "execution_count": 5,
   "metadata": {},
   "outputs": [],
   "source": [
    "del X_2011['Unnamed: 0']\n",
    "del X_2016['Unnamed: 0']\n",
    "\n",
    "X_2011 = np.array(X_2011) + 1e-2\n",
    "X_2016 = np.array(X_2016) + 1e-2"
   ]
  },
  {
   "cell_type": "code",
   "execution_count": 6,
   "metadata": {},
   "outputs": [],
   "source": [
    "X_2011_vec = X_2011.ravel()\n",
    "X_2016_vec = X_2016.ravel()"
   ]
  },
  {
   "cell_type": "code",
   "execution_count": 7,
   "metadata": {},
   "outputs": [],
   "source": [
    "u = X_2016.sum(axis = 1)"
   ]
  },
  {
   "cell_type": "code",
   "execution_count": 8,
   "metadata": {},
   "outputs": [],
   "source": [
    "v = X_2016.sum(axis = 0)"
   ]
  },
  {
   "cell_type": "code",
   "execution_count": 9,
   "metadata": {},
   "outputs": [],
   "source": [
    "c = np.block([u,v])"
   ]
  },
  {
   "cell_type": "code",
   "execution_count": 10,
   "metadata": {},
   "outputs": [],
   "source": [
    "def create_G(param):\n",
    "\n",
    "    G = np.zeros((param*2,param**2))\n",
    "\n",
    "    for i in range(59):\n",
    "        for j in range(len(G[i])):\n",
    "            if j >=i*59 and j <= (i+1)*59 - 1:\n",
    "                G[i][j] = 1\n",
    "    for i in range(59,118):\n",
    "        for j in range(len(G[i])):\n",
    "            if j%59 == i - 59:\n",
    "                G[i][j] = 1\n",
    "                \n",
    "    G[-1][-60] = 2   # хитрость, немного смещающая проекцию, однако гарантирующая невырожденность системы в случае не слишком разреженного гессиана\n",
    "    return G\n",
    "\n",
    "G = create_G(X_2011.shape[0])"
   ]
  },
  {
   "cell_type": "code",
   "execution_count": 11,
   "metadata": {},
   "outputs": [],
   "source": [
    "def construct_hessian(vec):\n",
    "    return np.linalg.inv(np.diag(vec))\n",
    "\n",
    "\n",
    "hess = construct_hessian(X_2011_vec)"
   ]
  },
  {
   "cell_type": "code",
   "execution_count": 12,
   "metadata": {},
   "outputs": [],
   "source": [
    "def construct_gradient(point,vec):\n",
    "    return np.dot(np.linalg.inv(np.diag(vec)),point) - np.ones(len(vec)) \n",
    "\n",
    "    \n",
    "grad = construct_gradient(X_2016_vec,X_2011_vec)"
   ]
  },
  {
   "cell_type": "code",
   "execution_count": 13,
   "metadata": {},
   "outputs": [
    {
     "data": {
      "text/plain": [
       "(3481,)"
      ]
     },
     "execution_count": 13,
     "metadata": {},
     "output_type": "execute_result"
    }
   ],
   "source": [
    "grad.shape"
   ]
  },
  {
   "cell_type": "code",
   "execution_count": 14,
   "metadata": {},
   "outputs": [
    {
     "data": {
      "text/plain": [
       "array([ 0.58020171, -0.49188308, -0.67409987, ...,  0.        ,\n",
       "        0.        ,  0.49533628])"
      ]
     },
     "execution_count": 14,
     "metadata": {},
     "output_type": "execute_result"
    }
   ],
   "source": [
    "grad"
   ]
  },
  {
   "cell_type": "code",
   "execution_count": 15,
   "metadata": {},
   "outputs": [],
   "source": [
    "def quality_function(x,y):\n",
    "    return np.sum((x - y)**2/y)\n",
    "\n",
    "def transpose(A):\n",
    "    return np.array(pd.DataFrame(A).T)\n",
    "\n",
    "def construct_system_matrix(hess,G):\n",
    "    return np.block([[hess,transpose(G)],[G,np.zeros((G.shape[0],G.shape[0]))]])\n",
    "\n",
    "def inverse_system_matrix(matrix):\n",
    "    return np.linalg.inv(matrix)\n",
    "\n",
    "def construct_right_part(grad,c):\n",
    "    return np.block([-grad,c])\n",
    "\n",
    "def induce_deltas(inversed_system_matrix,right_part):\n",
    "    vec = np.dot(inversed_system_matrix, right_part)\n",
    "    return vec[:59**2]\n",
    "\n",
    "def brute_optimize_alpha(alpha_search_vector,delta_vector,x_old,function):\n",
    "    memory = []\n",
    "    for alpha in tqdm(alpha_search_vector):\n",
    "        memory.append(function(x_old + alpha*delta_vector,X_2011_vec))\n",
    "    best = np.argmin(memory)\n",
    "    best_alpha = alpha_search_vector[best]\n",
    "    return best_alpha\n",
    "\n",
    "def return_new_point(x_old, best_alpha, delta):\n",
    "    return x_old + best_alpha*transpose(delta)"
   ]
  },
  {
   "cell_type": "code",
   "execution_count": 16,
   "metadata": {},
   "outputs": [],
   "source": [
    "system_matrix = construct_system_matrix(hess,G)"
   ]
  },
  {
   "cell_type": "code",
   "execution_count": 17,
   "metadata": {},
   "outputs": [],
   "source": [
    "inversed_system_matrix = inverse_system_matrix(system_matrix)"
   ]
  },
  {
   "cell_type": "code",
   "execution_count": 18,
   "metadata": {},
   "outputs": [],
   "source": [
    "right_part = construct_right_part(grad,c).reshape(-1,1)"
   ]
  },
  {
   "cell_type": "code",
   "execution_count": 19,
   "metadata": {},
   "outputs": [
    {
     "data": {
      "text/plain": [
       "array([[-5.80201706e-01],\n",
       "       [ 4.91883075e-01],\n",
       "       [ 6.74099869e-01],\n",
       "       ...,\n",
       "       [ 1.53540159e+06],\n",
       "       [ 3.35547590e+05],\n",
       "       [ 5.06279590e+05]])"
      ]
     },
     "execution_count": 19,
     "metadata": {},
     "output_type": "execute_result"
    }
   ],
   "source": [
    "right_part"
   ]
  },
  {
   "cell_type": "code",
   "execution_count": 20,
   "metadata": {},
   "outputs": [],
   "source": [
    "delta = induce_deltas(inversed_system_matrix,right_part)"
   ]
  },
  {
   "cell_type": "code",
   "execution_count": 21,
   "metadata": {},
   "outputs": [
    {
     "data": {
      "text/plain": [
       "array([[5.15304939e+06],\n",
       "       [4.08086951e+03],\n",
       "       [8.17407424e+02],\n",
       "       ...,\n",
       "       [4.01829321e-03],\n",
       "       [2.04488044e-03],\n",
       "       [5.06277611e+05]])"
      ]
     },
     "execution_count": 21,
     "metadata": {},
     "output_type": "execute_result"
    }
   ],
   "source": [
    "delta"
   ]
  },
  {
   "cell_type": "code",
   "execution_count": 22,
   "metadata": {},
   "outputs": [
    {
     "name": "stderr",
     "output_type": "stream",
     "text": [
      "100%|██████████| 31/31 [00:02<00:00, 10.89it/s]\n"
     ]
    }
   ],
   "source": [
    "alpha = np.linspace(0,0.05,31)\n",
    "\n",
    "best_alpha = brute_optimize_alpha(alpha,delta,X_2011_vec,quality_function)"
   ]
  },
  {
   "cell_type": "code",
   "execution_count": 23,
   "metadata": {},
   "outputs": [],
   "source": [
    "x_new = return_new_point(X_2011_vec, 20000, delta)"
   ]
  },
  {
   "cell_type": "code",
   "execution_count": 24,
   "metadata": {},
   "outputs": [
    {
     "data": {
      "text/plain": [
       "9744415.700009314"
      ]
     },
     "execution_count": 24,
     "metadata": {},
     "output_type": "execute_result"
    }
   ],
   "source": [
    "np.linalg.norm(X_2016-X_2011)"
   ]
  },
  {
   "cell_type": "markdown",
   "metadata": {},
   "source": [
    "# Iterations"
   ]
  },
  {
   "cell_type": "code",
   "execution_count": 25,
   "metadata": {},
   "outputs": [],
   "source": [
    "def create_G(param):\n",
    "\n",
    "    G = np.zeros((param*2,param**2))\n",
    "\n",
    "    for i in range(59):\n",
    "        for j in range(len(G[i])):\n",
    "            if j >=i*59 and j <= (i+1)*59 - 1:\n",
    "                G[i][j] = 1\n",
    "    for i in range(59,118):\n",
    "        for j in range(len(G[i])):\n",
    "            if j%59 == i - 59:\n",
    "                G[i][j] = 1\n",
    "    G[-1][-60] = 2\n",
    "    return G\n",
    "\n",
    "G = create_G(X_2011.shape[0])"
   ]
  },
  {
   "cell_type": "code",
   "execution_count": 27,
   "metadata": {},
   "outputs": [],
   "source": [
    "### Cоберем это все в итерации\n",
    "from scripts import metrics\n",
    "from scripts import vectorization as v\n",
    "import copy\n",
    "def NEWTON(X_2011_vec,X_2016_vec,G,n_iter):\n",
    "    vec = []\n",
    "    vec_norm = []\n",
    "    u = X_2016.sum(axis = 1)\n",
    "    v = X_2016.sum(axis = 0)\n",
    "    X_curr = X_2011_vec\n",
    "    memory = X_2011_vec\n",
    "    \n",
    "    #print('Исходная норма разности: ' + str(np.linalg.norm(X_2016_vec - X_curr)))\n",
    "    for i in range(n_iter):\n",
    "        hess = construct_hessian(X_curr)\n",
    "        grad = construct_gradient(X_curr,X_2011_vec)\n",
    "        #print('Норма градиента: ' + str(np.linalg.norm(grad)))\n",
    "        system_matrix = construct_system_matrix(hess,G)\n",
    "        inversed_system_matrix = inverse_system_matrix(system_matrix)\n",
    "        right_part = construct_right_part(grad,c).reshape(-1,1)\n",
    "        delta = induce_deltas(inversed_system_matrix,right_part)\n",
    "        \n",
    "        x_new = return_new_point(X_curr,0.2/(5*i + 1), delta).reshape(1,-1)\n",
    "        X_curr = x_new[0]\n",
    "        vec.append(X_curr)\n",
    "        #plt.spy(X_2016-X_curr.reshape(59,59))\n",
    "        #plt.show()\n",
    "        print('Норма разности матриц: ' + str(np.linalg.norm((X_2016-X_curr.reshape(59,59)))))\n",
    "        vec_norm.append(X_2016-X_curr.reshape(59,59))\n",
    "    print(X_curr)\n",
    "    return X_curr,vec"
   ]
  },
  {
   "cell_type": "code",
   "execution_count": 28,
   "metadata": {},
   "outputs": [
    {
     "name": "stdout",
     "output_type": "stream",
     "text": [
      "Норма разности матриц: 4260443.5193637395\n",
      "Норма разности матриц: 3451548.1926623075\n",
      "Норма разности матриц: 3049611.0099694035\n",
      "Норма разности матриц: 2797665.87576286\n",
      "Норма разности матриц: 2623223.3123942357\n",
      "Норма разности матриц: 2495825.225412168\n",
      "Норма разности матриц: 2399809.5324814995\n",
      "Норма разности матриц: 2326056.309746735\n",
      "Норма разности матриц: 2268786.7703931276\n",
      "Норма разности матриц: 2224108.8478138214\n",
      "Норма разности матриц: 2189278.226312422\n",
      "Норма разности матриц: 2162290.0261530075\n",
      "Норма разности матриц: 2141637.930703598\n",
      "Норма разности матриц: 2126164.390211885\n",
      "Норма разности матриц: 2114963.313029016\n",
      "Норма разности матриц: 2107314.525762371\n",
      "Норма разности матриц: 2102638.2423895462\n",
      "Норма разности матриц: 2100462.6093776007\n",
      "Норма разности матриц: 2100399.9924897756\n",
      "Норма разности матриц: 2102129.385798325\n",
      "[4.97906294e+06 1.94943541e+03 4.66295995e+02 ... 1.23710261e-02\n",
      " 1.20682480e-02 5.06044125e+05]\n"
     ]
    }
   ],
   "source": [
    "RES = NEWTON(X_2011_vec,X_2016_vec,G,20)"
   ]
  },
  {
   "cell_type": "code",
   "execution_count": 29,
   "metadata": {},
   "outputs": [
    {
     "data": {
      "text/plain": [
       "<matplotlib.image.AxesImage at 0x125884ad0>"
      ]
     },
     "execution_count": 29,
     "metadata": {},
     "output_type": "execute_result"
    },
    {
     "data": {
      "image/png": "[encoded data removed]",
      "text/plain": [
       "<Figure size 432x288 with 1 Axes>"
      ]
     },
     "metadata": {
      "needs_background": "light"
     },
     "output_type": "display_data"
    }
   ],
   "source": [
    "plt.spy(X_2016 - RES[1][-1].reshape(59,59),100)"
   ]
  },
  {
   "cell_type": "code",
   "execution_count": 30,
   "metadata": {},
   "outputs": [
    {
     "data": {
      "text/plain": [
       "3481"
      ]
     },
     "execution_count": 30,
     "metadata": {},
     "output_type": "execute_result"
    }
   ],
   "source": [
    "''' Проверка, что знаки не меняются, если True во всех 3481'''\n",
    "\n",
    "np.sum([X_2011*RES[1][-1].reshape(59,59)>0])"
   ]
  },
  {
   "cell_type": "code",
   "execution_count": 31,
   "metadata": {},
   "outputs": [],
   "source": [
    "pd.DataFrame(RES[1][-1].reshape(59,59)).to_csv('Newton_projection.csv')"
   ]
  },
  {
   "cell_type": "code",
   "execution_count": null,
   "metadata": {},
   "outputs": [],
   "source": []
  }
 ],
 "metadata": {
  "kernelspec": {
   "display_name": "Python 3",
   "language": "python",
   "name": "python3"
  },
  "language_info": {
   "codemirror_mode": {
    "name": "ipython",
    "version": 3
   },
   "file_extension": ".py",
   "mimetype": "text/x-python",
   "name": "python",
   "nbconvert_exporter": "python",
   "pygments_lexer": "ipython3",
   "version": "3.7.4"
  }
 },
 "nbformat": 4,
 "nbformat_minor": 4
}
